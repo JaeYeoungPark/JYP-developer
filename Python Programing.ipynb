{
 "cells": [
  {
   "cell_type": "markdown",
   "metadata": {},
   "source": [
    "# 1장 파이썬 프로그래밍 기초(맛보기)"
   ]
  },
  {
   "cell_type": "code",
   "execution_count": 1,
   "metadata": {},
   "outputs": [
    {
     "name": "stdout",
     "output_type": "stream",
     "text": [
      "Python\n"
     ]
    }
   ],
   "source": [
    "print(\"Python\")"
   ]
  },
  {
   "cell_type": "code",
   "execution_count": 2,
   "metadata": {},
   "outputs": [
    {
     "name": "stdout",
     "output_type": "stream",
     "text": [
      "hello. world\n"
     ]
    }
   ],
   "source": [
    "print(\"hello. world\")"
   ]
  },
  {
   "cell_type": "code",
   "execution_count": 3,
   "metadata": {},
   "outputs": [
    {
     "name": "stdout",
     "output_type": "stream",
     "text": [
      "hello\n",
      "world\n"
     ]
    }
   ],
   "source": [
    "print(\"hello\\nworld\")"
   ]
  },
  {
   "cell_type": "code",
   "execution_count": 4,
   "metadata": {},
   "outputs": [
    {
     "data": {
      "text/plain": [
       "8"
      ]
     },
     "execution_count": 4,
     "metadata": {},
     "output_type": "execute_result"
    }
   ],
   "source": [
    "3 + 5"
   ]
  },
  {
   "cell_type": "code",
   "execution_count": 5,
   "metadata": {},
   "outputs": [
    {
     "data": {
      "text/plain": [
       "15"
      ]
     },
     "execution_count": 5,
     "metadata": {},
     "output_type": "execute_result"
    }
   ],
   "source": [
    "5 * 3"
   ]
  },
  {
   "cell_type": "code",
   "execution_count": 6,
   "metadata": {},
   "outputs": [
    {
     "data": {
      "text/plain": [
       "2"
      ]
     },
     "execution_count": 6,
     "metadata": {},
     "output_type": "execute_result"
    }
   ],
   "source": [
    "5%3"
   ]
  },
  {
   "cell_type": "code",
   "execution_count": 14,
   "metadata": {},
   "outputs": [
    {
     "name": "stdout",
     "output_type": "stream",
     "text": [
      "나는 수업시간에 프로그래밍을 하지 않겠습니다.\n",
      "나는 수업시간에 프로그래밍을 하지 않겠습니다.\n",
      "나는 수업시간에 프로그래밍을 하지 않겠습니다.\n",
      "나는 수업시간에 프로그래밍을 하지 않겠습니다.\n",
      "나는 수업시간에 프로그래밍을 하지 않겠습니다.\n",
      "나는 수업시간에 프로그래밍을 하지 않겠습니다.\n",
      "나는 수업시간에 프로그래밍을 하지 않겠습니다.\n",
      "나는 수업시간에 프로그래밍을 하지 않겠습니다.\n",
      "나는 수업시간에 프로그래밍을 하지 않겠습니다.\n",
      "나는 수업시간에 프로그래밍을 하지 않겠습니다.\n",
      "나는 수업시간에 프로그래밍을 하지 않겠습니다.\n",
      "나는 수업시간에 프로그래밍을 하지 않겠습니다.\n",
      "나는 수업시간에 프로그래밍을 하지 않겠습니다.\n",
      "나는 수업시간에 프로그래밍을 하지 않겠습니다.\n",
      "나는 수업시간에 프로그래밍을 하지 않겠습니다.\n",
      "나는 수업시간에 프로그래밍을 하지 않겠습니다.\n",
      "나는 수업시간에 프로그래밍을 하지 않겠습니다.\n",
      "나는 수업시간에 프로그래밍을 하지 않겠습니다.\n",
      "나는 수업시간에 프로그래밍을 하지 않겠습니다.\n",
      "나는 수업시간에 프로그래밍을 하지 않겠습니다.\n",
      "나는 수업시간에 프로그래밍을 하지 않겠습니다.\n",
      "나는 수업시간에 프로그래밍을 하지 않겠습니다.\n",
      "나는 수업시간에 프로그래밍을 하지 않겠습니다.\n",
      "나는 수업시간에 프로그래밍을 하지 않겠습니다.\n",
      "나는 수업시간에 프로그래밍을 하지 않겠습니다.\n",
      "나는 수업시간에 프로그래밍을 하지 않겠습니다.\n",
      "나는 수업시간에 프로그래밍을 하지 않겠습니다.\n",
      "나는 수업시간에 프로그래밍을 하지 않겠습니다.\n",
      "나는 수업시간에 프로그래밍을 하지 않겠습니다.\n",
      "나는 수업시간에 프로그래밍을 하지 않겠습니다.\n",
      "나는 수업시간에 프로그래밍을 하지 않겠습니다.\n",
      "나는 수업시간에 프로그래밍을 하지 않겠습니다.\n",
      "나는 수업시간에 프로그래밍을 하지 않겠습니다.\n",
      "나는 수업시간에 프로그래밍을 하지 않겠습니다.\n",
      "나는 수업시간에 프로그래밍을 하지 않겠습니다.\n",
      "나는 수업시간에 프로그래밍을 하지 않겠습니다.\n",
      "나는 수업시간에 프로그래밍을 하지 않겠습니다.\n",
      "나는 수업시간에 프로그래밍을 하지 않겠습니다.\n",
      "나는 수업시간에 프로그래밍을 하지 않겠습니다.\n",
      "나는 수업시간에 프로그래밍을 하지 않겠습니다.\n",
      "나는 수업시간에 프로그래밍을 하지 않겠습니다.\n",
      "나는 수업시간에 프로그래밍을 하지 않겠습니다.\n",
      "나는 수업시간에 프로그래밍을 하지 않겠습니다.\n",
      "나는 수업시간에 프로그래밍을 하지 않겠습니다.\n",
      "나는 수업시간에 프로그래밍을 하지 않겠습니다.\n",
      "나는 수업시간에 프로그래밍을 하지 않겠습니다.\n",
      "나는 수업시간에 프로그래밍을 하지 않겠습니다.\n",
      "나는 수업시간에 프로그래밍을 하지 않겠습니다.\n",
      "나는 수업시간에 프로그래밍을 하지 않겠습니다.\n",
      "나는 수업시간에 프로그래밍을 하지 않겠습니다.\n"
     ]
    }
   ],
   "source": [
    "lines=0\n",
    "while lines < 50:\n",
    "    print(\"나는 수업시간에 프로그래밍을 하지 않겠습니다.\")\n",
    "    lines=lines+1"
   ]
  },
  {
   "cell_type": "code",
   "execution_count": 15,
   "metadata": {},
   "outputs": [
    {
     "name": "stdout",
     "output_type": "stream",
     "text": [
      "나는 수업시간에 프로그래밍을 하지 않겠습니다.\n",
      "나는 수업시간에 프로그래밍을 하지 않겠습니다.\n",
      "나는 수업시간에 프로그래밍을 하지 않겠습니다.\n",
      "나는 수업시간에 프로그래밍을 하지 않겠습니다.\n",
      "나는 수업시간에 프로그래밍을 하지 않겠습니다.\n",
      "나는 수업시간에 프로그래밍을 하지 않겠습니다.\n",
      "나는 수업시간에 프로그래밍을 하지 않겠습니다.\n",
      "나는 수업시간에 프로그래밍을 하지 않겠습니다.\n",
      "나는 수업시간에 프로그래밍을 하지 않겠습니다.\n",
      "나는 수업시간에 프로그래밍을 하지 않겠습니다.\n",
      "나는 수업시간에 프로그래밍을 하지 않겠습니다.\n",
      "나는 수업시간에 프로그래밍을 하지 않겠습니다.\n",
      "나는 수업시간에 프로그래밍을 하지 않겠습니다.\n",
      "나는 수업시간에 프로그래밍을 하지 않겠습니다.\n",
      "나는 수업시간에 프로그래밍을 하지 않겠습니다.\n",
      "나는 수업시간에 프로그래밍을 하지 않겠습니다.\n",
      "나는 수업시간에 프로그래밍을 하지 않겠습니다.\n",
      "나는 수업시간에 프로그래밍을 하지 않겠습니다.\n",
      "나는 수업시간에 프로그래밍을 하지 않겠습니다.\n",
      "나는 수업시간에 프로그래밍을 하지 않겠습니다.\n",
      "나는 수업시간에 프로그래밍을 하지 않겠습니다.\n",
      "나는 수업시간에 프로그래밍을 하지 않겠습니다.\n",
      "나는 수업시간에 프로그래밍을 하지 않겠습니다.\n",
      "나는 수업시간에 프로그래밍을 하지 않겠습니다.\n",
      "나는 수업시간에 프로그래밍을 하지 않겠습니다.\n",
      "나는 수업시간에 프로그래밍을 하지 않겠습니다.\n",
      "나는 수업시간에 프로그래밍을 하지 않겠습니다.\n",
      "나는 수업시간에 프로그래밍을 하지 않겠습니다.\n",
      "나는 수업시간에 프로그래밍을 하지 않겠습니다.\n",
      "나는 수업시간에 프로그래밍을 하지 않겠습니다.\n",
      "나는 수업시간에 프로그래밍을 하지 않겠습니다.\n",
      "나는 수업시간에 프로그래밍을 하지 않겠습니다.\n",
      "나는 수업시간에 프로그래밍을 하지 않겠습니다.\n",
      "나는 수업시간에 프로그래밍을 하지 않겠습니다.\n",
      "나는 수업시간에 프로그래밍을 하지 않겠습니다.\n",
      "나는 수업시간에 프로그래밍을 하지 않겠습니다.\n",
      "나는 수업시간에 프로그래밍을 하지 않겠습니다.\n",
      "나는 수업시간에 프로그래밍을 하지 않겠습니다.\n",
      "나는 수업시간에 프로그래밍을 하지 않겠습니다.\n",
      "나는 수업시간에 프로그래밍을 하지 않겠습니다.\n",
      "나는 수업시간에 프로그래밍을 하지 않겠습니다.\n",
      "나는 수업시간에 프로그래밍을 하지 않겠습니다.\n",
      "나는 수업시간에 프로그래밍을 하지 않겠습니다.\n",
      "나는 수업시간에 프로그래밍을 하지 않겠습니다.\n",
      "나는 수업시간에 프로그래밍을 하지 않겠습니다.\n",
      "나는 수업시간에 프로그래밍을 하지 않겠습니다.\n",
      "나는 수업시간에 프로그래밍을 하지 않겠습니다.\n",
      "나는 수업시간에 프로그래밍을 하지 않겠습니다.\n",
      "나는 수업시간에 프로그래밍을 하지 않겠습니다.\n",
      "나는 수업시간에 프로그래밍을 하지 않겠습니다.\n",
      "\n"
     ]
    }
   ],
   "source": [
    "print(\"나는 수업시간에 프로그래밍을 하지 않겠습니다.\\n\"*50)"
   ]
  },
  {
   "cell_type": "code",
   "execution_count": 7,
   "metadata": {},
   "outputs": [
    {
     "name": "stdout",
     "output_type": "stream",
     "text": [
      "2\n",
      "4\n",
      "6\n",
      "8\n",
      "10\n",
      "12\n",
      "14\n",
      "16\n",
      "18\n",
      "20\n",
      "1 x5= 5\n",
      "2 x5= 10\n",
      "3 x5= 15\n",
      "4 x5= 20\n",
      "5 x5= 25\n",
      "6 x5= 30\n",
      "7 x5= 35\n",
      "8 x5= 40\n",
      "9 x5= 45\n",
      "10 x5= 50\n",
      "1\n",
      "2\n",
      "3\n",
      "4\n",
      "5\n",
      "6\n",
      "7\n",
      "8\n",
      "9\n",
      "10\n",
      "11\n",
      "12\n",
      "13\n",
      "14\n",
      "15\n",
      "16\n",
      "17\n",
      "18\n",
      "19\n",
      "20\n",
      "21\n",
      "22\n",
      "23\n",
      "24\n",
      "25\n",
      "26\n",
      "27\n",
      "28\n",
      "29\n",
      "30\n",
      "31\n",
      "32\n",
      "33\n",
      "34\n",
      "35\n",
      "36\n",
      "37\n",
      "38\n",
      "39\n",
      "40\n",
      "41\n",
      "42\n",
      "43\n",
      "44\n",
      "45\n",
      "46\n",
      "47\n",
      "48\n",
      "49\n",
      "50\n",
      "51\n",
      "52\n",
      "53\n",
      "54\n",
      "55\n",
      "56\n",
      "57\n",
      "58\n",
      "59\n",
      "60\n",
      "61\n",
      "62\n",
      "63\n",
      "64\n",
      "65\n",
      "66\n",
      "67\n",
      "68\n",
      "69\n",
      "70\n",
      "71\n",
      "72\n",
      "73\n",
      "74\n",
      "75\n",
      "76\n",
      "77\n",
      "78\n",
      "79\n",
      "80\n",
      "81\n",
      "82\n",
      "83\n",
      "84\n",
      "85\n",
      "86\n",
      "87\n",
      "88\n",
      "89\n",
      "90\n",
      "91\n",
      "92\n",
      "93\n",
      "94\n",
      "95\n",
      "96\n",
      "97\n",
      "98\n",
      "99\n",
      "100\n",
      "1\n",
      "2\n",
      "3\n",
      "4\n",
      "5\n",
      "6\n",
      "7\n",
      "8\n",
      "9\n",
      "10\n",
      "11\n",
      "12\n",
      "13\n",
      "14\n",
      "15\n",
      "16\n",
      "17\n",
      "18\n",
      "19\n",
      "20\n",
      "21\n",
      "22\n",
      "23\n",
      "24\n",
      "25\n",
      "26\n",
      "27\n",
      "28\n",
      "29\n",
      "30\n",
      "31\n",
      "32\n",
      "33\n",
      "34\n",
      "35\n",
      "36\n",
      "37\n",
      "38\n",
      "39\n",
      "40\n",
      "41\n",
      "42\n",
      "43\n",
      "44\n",
      "45\n",
      "46\n",
      "47\n",
      "48\n",
      "49\n",
      "50\n",
      "51\n",
      "52\n",
      "53\n",
      "54\n",
      "55\n",
      "56\n",
      "57\n",
      "58\n",
      "59\n",
      "60\n",
      "61\n",
      "62\n",
      "63\n",
      "64\n",
      "65\n",
      "66\n",
      "67\n",
      "68\n",
      "69\n",
      "70\n",
      "71\n",
      "72\n",
      "73\n",
      "74\n",
      "75\n",
      "76\n",
      "77\n",
      "78\n",
      "79\n",
      "80\n",
      "81\n",
      "82\n",
      "83\n",
      "84\n",
      "85\n",
      "86\n",
      "87\n",
      "88\n",
      "89\n",
      "90\n",
      "91\n",
      "92\n",
      "93\n",
      "94\n",
      "95\n",
      "96\n",
      "97\n",
      "98\n",
      "99\n",
      "100\n"
     ]
    }
   ],
   "source": [
    "# 퍼즐1\n",
    "number=1\n",
    "while number<11:\n",
    "    print(number*2)\n",
    "    number=number+1\n",
    "    \n",
    "# 퍼즐2\n",
    "number=1\n",
    "while number<11:\n",
    "    print(number,\"x5=\",number*5)\n",
    "    number=number+1\n",
    "    \n",
    "# 퍼즐3v1\n",
    "number=1\n",
    "while number<=100:\n",
    "    print(number)\n",
    "    number=number+1\n",
    "    \n",
    "# 퍼즐3v2\n",
    "number=1\n",
    "while 101>number:\n",
    "    print(number)\n",
    "    number=number+1"
   ]
  },
  {
   "cell_type": "code",
   "execution_count": 4,
   "metadata": {},
   "outputs": [
    {
     "name": "stdout",
     "output_type": "stream",
     "text": [
      "MyMagic8zball에 오신것을 환영합니다.\n",
      "안녕. 당신의 이름을 입력해주세요.\n",
      "박재영\n",
      "만나서 반가워요.박재영.\n",
      "조언을 구하고 싶으면 질문을 입력하고 엔터 키를 누르세요.\n",
      "ㅇㄹㅇㄴ\n",
      "고민중...\n",
      "고민중...\n",
      "고민중...\n",
      "고민중...\n",
      "\n",
      "해도 그만, 안해도 그만, 아니겠어요?\n",
      "\n",
      "좀 더 충고가 필요한가요? y/n\n",
      "n\n",
      "\n",
      "안녕!박재영. 이용해 주셔서 고마워요.\n",
      "\n",
      "\n",
      "끝내려면 엔터 키를 누르세요.\n"
     ]
    },
    {
     "data": {
      "text/plain": [
       "''"
      ]
     },
     "execution_count": 4,
     "metadata": {},
     "output_type": "execute_result"
    }
   ],
   "source": [
    "# MyMagic8ball\n",
    "\n",
    "import random\n",
    "\n",
    "# 답변을 입력해 봅시다.\n",
    "ans1 = \"자! 해보세요!\"\n",
    "ans2 = \"됐네요. 이사람아.\"\n",
    "ans3 = \"뭐라고? 다시 생각해보세요.\"\n",
    "ans4 = \"모르니 두려운 것입니다.\"\n",
    "ans5 = \"칠푼인가요? 제정신이 아니군요!\"\n",
    "ans6 = \"당신이라면 할 수 있어요!\"\n",
    "ans7 = \"해도 그만, 안해도 그만, 아니겠어요?\"\n",
    "ans8 = \"맞아요. 당신은 올바른 선택을 했어요.\"\n",
    "\n",
    "want_more_advice=\"y\"\n",
    "\n",
    "print(\"MyMagic8zball에 오신것을 환영합니다.\")\n",
    "\n",
    "# 사용자의 질문 얻기(print 인자 사이에 빈칸을 없애기 위해 sep=\"\"를 사용합니다.)\n",
    "user_name = input(\"안녕. 당신의 이름을 입력해주세요.\\n\")\n",
    "print(\"만나서 반가워요.\",user_name,\".\",sep=\"\")\n",
    "\n",
    "while(want_more_advice == \"y\"):\n",
    "    qustion = input(\"조언을 구하고 싶으면 질문을 입력하고 엔터 키를 누르세요.\\n\")\n",
    "    \n",
    "    print(\"고민중...\\n\"*4)\n",
    "    \n",
    "    # 질문에 알맞은 답변을 하는 일에 randint() 함수를 활용합니다.\n",
    "    choice=random.randint(1,8)\n",
    "    if choice==1:\n",
    "        answer=ans1\n",
    "    elif choice==2:\n",
    "        answer=ans2\n",
    "    elif choice==3:\n",
    "        answer=ans3\n",
    "    elif choice==4:\n",
    "        answer=ans4\n",
    "    elif choice==5:\n",
    "        answer=ans5\n",
    "    elif choice==6:\n",
    "        answer=ans6\n",
    "    elif choice==7:\n",
    "        answer=ans7\n",
    "    else:\n",
    "        answer=ans8\n",
    "    \n",
    "    # 화면에 답변을 출력합니다.\n",
    "    print(answer)\n",
    "    \n",
    "    want_more_advice = input(\"\\n좀 더 충고가 필요한가요? y/n\\n\")\n",
    "\n",
    "print(\"\\n안녕!\",user_name,\". 이용해 주셔서 고마워요.\",sep=\"\")\n",
    "input(\"\\n\\n끝내려면 엔터 키를 누르세요.\")"
   ]
  },
  {
   "cell_type": "code",
   "execution_count": 5,
   "metadata": {},
   "outputs": [
    {
     "name": "stdout",
     "output_type": "stream",
     "text": [
      "안녕\n",
      " 난 1부터 100 중 숫자 하나를 골랐어요.\n",
      "무엇인지 쓰고 엔터키를 누르세요.54\n",
      "그것보단 높습니다. 다시 생각해보세요.75\n",
      "그것보단 낮습니다. 다시 생각해보세요.65\n",
      "그것보단 높습니다. 다시 생각해보세요.70\n",
      "그것보단 높습니다. 다시 생각해보세요.74\n",
      "그것보단 낮습니다. 다시 생각해보세요.76\n",
      "그것보단 낮습니다. 다시 생각해보세요.72\n",
      "정답!\n",
      " 잘했어요. \n",
      "\n",
      "\n",
      " 마치려면 엔터 키를 누르세요.\n"
     ]
    },
    {
     "data": {
      "text/plain": [
       "''"
      ]
     },
     "execution_count": 5,
     "metadata": {},
     "output_type": "execute_result"
    }
   ],
   "source": [
    "# myNumber.py\n",
    "# 함수를 직접 만들어 써봅시다.\n",
    "\n",
    "import random\n",
    "\n",
    "# 숫자를 골라봅시다.\n",
    "computer_number = random.randint(1,100)\n",
    "\n",
    "# is_same() 함수를 만듭니다.\n",
    "def is_same(target,number):\n",
    "    if target == number:\n",
    "        result=\"Win\"\n",
    "    elif target > number:\n",
    "        result=\"Low\"\n",
    "    else:\n",
    "        result=\"High\"\n",
    "    return result\n",
    "\n",
    "# 게임을 시작합니다.\n",
    "print(\"안녕\\n 난 1부터 100 중 숫자 하나를 골랐어요.\")\n",
    "\n",
    "# 사용자가 추측한 숫자를 인수로 받아옵니다.\n",
    "guess = int(input(\"무엇인지 쓰고 엔터키를 누르세요.\"))\n",
    "\n",
    "# is_same() 함수를 사용합니다.\n",
    "higher_or_lower = is_same(computer_number,guess)\n",
    "\n",
    "# 사용자가 맞출 때까지 게임을 합니다.\n",
    "while higher_or_lower != \"Win\":\n",
    "    if higher_or_lower ==\"Low\":\n",
    "        guess = int(input(\"그것보단 높습니다. 다시 생각해보세요.\"))\n",
    "    else:\n",
    "        guess = int(input(\"그것보단 낮습니다. 다시 생각해보세요.\"))\n",
    "        \n",
    "    higher_or_lower = is_same(computer_number,guess)\n",
    "    \n",
    "# 게임을 끝냅니다.\n",
    "input(\"정답!\\n 잘했어요. \\n\\n\\n 마치려면 엔터 키를 누르세요.\")"
   ]
  },
  {
   "cell_type": "code",
   "execution_count": 13,
   "metadata": {},
   "outputs": [],
   "source": [
    "# myEtchASketch 응용 프로그램\n",
    "\n",
    "from tkinter import *\n",
    "\n",
    "#### 변수 설정:\n",
    "canvas_height = 400\n",
    "canvas_width = 600\n",
    "canvas_colour = \"black\"\n",
    "\n",
    "#### 메인:\n",
    "window = Tk()\n",
    "window.title(\"MyEtchASketch\")\n",
    "canvas = Canvas(bg=canvas_colour,height=canvas_height,width=canvas_width,highlightthickness=0)\n",
    "canvas.pack()\n",
    "\n",
    "window.mainloop()"
   ]
  },
  {
   "cell_type": "code",
   "execution_count": 23,
   "metadata": {},
   "outputs": [],
   "source": [
    "# myEtchASketch 응용 어플리케이션\n",
    "\n",
    "from tkinter import *\n",
    "\n",
    "#### 변수 설정:\n",
    "canvas_height = 400\n",
    "canvas_width = 600\n",
    "canvas_colour = \"black\"\n",
    "p1_x=canvas_width * (2/3)\n",
    "p1_y=canvas_height\n",
    "p1_colour=\"red\"\n",
    "p2_x=canvas_width / 3\n",
    "p2_y=canvas_height\n",
    "p2_colour=\"green\"\n",
    "line_width=5\n",
    "line_length=5\n",
    "\n",
    "#### 함수들:\n",
    "\n",
    "# 사용자 컨트롤\n",
    "def move(player,x,y):\n",
    "    global p1_x\n",
    "    global p1_y\n",
    "    global p2_x\n",
    "    global p2_y\n",
    "    if(player == 1):\n",
    "        p1_new_x = p1_x + x\n",
    "        p1_new_y = p1_y + y\n",
    "        canvas.create_line(p1_x,p1_y,p1_new_x,p1_new_y,width=line_width,fill=p1_colour)\n",
    "        p1_x = p1_new_x\n",
    "        p1_y = p1_new_y\n",
    "    else:\n",
    "        p2_new_x = p2_x + x\n",
    "        p2_new_y = p2_y + y\n",
    "        canvas.create_line(p2_x,p2_y,p2_new_x,p2_new_y,width=line_width,fill=p2_colour)\n",
    "        p2_x = p2_new_x\n",
    "        p2_y = p2_new_y\n",
    "        \n",
    "def p1_move_N(event):\n",
    "    move(1,0,-line_length)\n",
    "    \n",
    "def p1_move_S(event):\n",
    "    move(1,0,line_length)\n",
    "\n",
    "def p1_move_E(event):\n",
    "    move(1,line_length,0)\n",
    "\n",
    "def p1_move_W(event):\n",
    "    move(1,-line_length,0)\n",
    "    \n",
    "def p2_move_N(event):\n",
    "    move(2,0,-line_length)\n",
    "    \n",
    "def p2_move_S(event):\n",
    "    move(2,0,line_length)\n",
    "    \n",
    "def p2_move_E(event):\n",
    "    move(2,line_length,0)\n",
    "\n",
    "def p2_move_W(event):\n",
    "    move(2,-line_length,0)\n",
    "\n",
    "def erase_all(event):\n",
    "    canvas.delete(ALL)\n",
    "    \n",
    "#### 메인:\n",
    "window = Tk()\n",
    "window.title(\"OurEtchASkectch\")\n",
    "canvas = Canvas(bg=canvas_colour,height=canvas_height,width=canvas_width,highlightthickness=0)\n",
    "canvas.pack()\n",
    "\n",
    "# 키를 눌렀을 때 움직임\n",
    "window.bind(\"<Up>\",p1_move_N)\n",
    "window.bind(\"<Down>\",p1_move_S)\n",
    "window.bind(\"<Left>\",p1_move_W)\n",
    "window.bind(\"<Right>\",p1_move_E)\n",
    "window.bind(\"w\",p2_move_N)\n",
    "window.bind(\"s\",p2_move_S)\n",
    "window.bind(\"a\",p2_move_W)\n",
    "window.bind(\"d\",p2_move_E)\n",
    "window.bind(\"u\",erase_all)\n",
    "\n",
    "window.mainloop()"
   ]
  },
  {
   "cell_type": "markdown",
   "metadata": {},
   "source": [
    "# 2장 본격 파이썬 입문\n",
    "\n",
    "- 2.1 숫자형, 문자열 자료형\n",
    "- 2.2 리스트 자료형, 튜플 자료형\n",
    "- 2.3 딕셔너리 자료형, 집합 자료형\n",
    "- 2.4 자료형의 참과 거짓,변수\n",
    "- 2.5 GUI 빌드\n",
    "- 2.6 if 문, while 문,for 문\n",
    "- 2.7 간단한 계산기 설계하기"
   ]
  },
  {
   "cell_type": "markdown",
   "metadata": {},
   "source": [
    "## 2.1 숫자형, 문자열 자료형"
   ]
  },
  {
   "cell_type": "markdown",
   "metadata": {},
   "source": [
    "- 정수형 (1,2,-2)\n",
    "- 실수 (1.24,-34.56)\n",
    "- 컴퓨터식 지수 표현 방식 (4.24e10, 4.24e-10)\n",
    "- 복소수 (1+2i)\n",
    "- 8진수 (0o37)\n",
    "- 16진수 (0x7A)"
   ]
  },
  {
   "cell_type": "code",
   "execution_count": 22,
   "metadata": {},
   "outputs": [
    {
     "name": "stdout",
     "output_type": "stream",
     "text": [
      "7\n",
      "12\n",
      "0.75\n"
     ]
    }
   ],
   "source": [
    "# 사칙연산\n",
    "a = 3\n",
    "b = 4\n",
    "print(a + b)\n",
    "print(a * b)\n",
    "print(a / b)"
   ]
  },
  {
   "cell_type": "code",
   "execution_count": 23,
   "metadata": {},
   "outputs": [
    {
     "name": "stdout",
     "output_type": "stream",
     "text": [
      "1.75\n",
      "1\n"
     ]
    }
   ],
   "source": [
    "# // 연산자\n",
    "print(7/4)\n",
    "print(7//4)"
   ]
  },
  {
   "cell_type": "code",
   "execution_count": 24,
   "metadata": {},
   "outputs": [
    {
     "name": "stdout",
     "output_type": "stream",
     "text": [
      "81\n"
     ]
    }
   ],
   "source": [
    "# 제곱\n",
    "print(a ** b)"
   ]
  },
  {
   "cell_type": "code",
   "execution_count": 25,
   "metadata": {},
   "outputs": [
    {
     "name": "stdout",
     "output_type": "stream",
     "text": [
      "1\n",
      "3\n"
     ]
    }
   ],
   "source": [
    "# %연산자\n",
    "print(7%3)\n",
    "print(3%7)"
   ]
  },
  {
   "cell_type": "code",
   "execution_count": 21,
   "metadata": {},
   "outputs": [
    {
     "name": "stdout",
     "output_type": "stream",
     "text": [
      "hello world\n",
      "Python is fun\n",
      "Life is too short, You need python\n",
      "Life is too short, You need python\n",
      "Life is too short\n",
      "You need python\n",
      "Python is fun!\n",
      "PythonPython\n",
      "L\n",
      "s\n",
      "n\n",
      "I eat 3 apples.\n",
      "I ate 10 apples. so i was sick for three days.\n",
      "        hi\n",
      "hi        jane.\n",
      "3.4132\n",
      "    3.4132\n",
      "2\n",
      "10\n",
      "-1\n",
      "8\n",
      "6\n",
      "a,b,c,d\n"
     ]
    }
   ],
   "source": [
    "# 문자열 자료형 만드는 4가지 방법\n",
    "print(\"hello world\")\n",
    "print('Python is fun')\n",
    "print(\"\"\"Life is too short, You need python\"\"\")\n",
    "print('''Life is too short, You need python''')"
   ]
  },
  {
   "cell_type": "code",
   "execution_count": 26,
   "metadata": {},
   "outputs": [],
   "source": [
    "# 문자열에 따옴표 포함시키기\n",
    "food = \"Python's favorite food is perl\"\n",
    "say = '\"Python is very easy.\" He says.'\n",
    "food1 = \"Python\\'s favorite food is perl\"\n",
    "say1 = \"\\\"Python is very easy.\\\" He says.\""
   ]
  },
  {
   "cell_type": "code",
   "execution_count": 27,
   "metadata": {},
   "outputs": [
    {
     "name": "stdout",
     "output_type": "stream",
     "text": [
      "Life is too short\n",
      "You need python\n"
     ]
    }
   ],
   "source": [
    "# 여러줄롷 이루어진 문자열\n",
    "multiline = \"Life is too short\\nYou need python\"\n",
    "print(multiline)"
   ]
  },
  {
   "cell_type": "code",
   "execution_count": 28,
   "metadata": {},
   "outputs": [
    {
     "name": "stdout",
     "output_type": "stream",
     "text": [
      "Python is fun!\n"
     ]
    }
   ],
   "source": [
    "# 문자열 더해서 연결하기\n",
    "head = \"Python\"\n",
    "tail = \" is fun!\"\n",
    "print(head + tail)"
   ]
  },
  {
   "cell_type": "code",
   "execution_count": 29,
   "metadata": {},
   "outputs": [
    {
     "name": "stdout",
     "output_type": "stream",
     "text": [
      "PythonPython\n"
     ]
    }
   ],
   "source": [
    "# 문자열 곱하기\n",
    "a = \"Python\"\n",
    "print(a*2)"
   ]
  },
  {
   "cell_type": "code",
   "execution_count": 30,
   "metadata": {},
   "outputs": [
    {
     "name": "stdout",
     "output_type": "stream",
     "text": [
      "L\n",
      "s\n",
      "n\n"
     ]
    }
   ],
   "source": [
    "# 인덱싱(indexing)\n",
    "a = \"Life is too short, You need python\"\n",
    "print(a[0])\n",
    "print(a[12])\n",
    "print(a[-1]) # 파이썬은 0부터 숫자를 센다."
   ]
  },
  {
   "cell_type": "code",
   "execution_count": 31,
   "metadata": {},
   "outputs": [
    {
     "name": "stdout",
     "output_type": "stream",
     "text": [
      "I eat 3 apples.\n",
      "I ate 10 apples. so i was sick for three days.\n"
     ]
    }
   ],
   "source": [
    "# 문자열 포매팅\n",
    "print(\"I eat %d apples.\"%3)\n",
    "number = 10\n",
    "day = \"three\"\n",
    "print(\"I ate %d apples. so i was sick for %s days.\"% (number,day) )"
   ]
  },
  {
   "cell_type": "code",
   "execution_count": 32,
   "metadata": {},
   "outputs": [
    {
     "name": "stdout",
     "output_type": "stream",
     "text": [
      "        hi\n",
      "hi        jane.\n"
     ]
    }
   ],
   "source": [
    "# 정렬과 공백\n",
    "print(\"%10s\"%\"hi\")\n",
    "print(\"%-10sjane.\"%'hi')"
   ]
  },
  {
   "cell_type": "code",
   "execution_count": 33,
   "metadata": {},
   "outputs": [
    {
     "name": "stdout",
     "output_type": "stream",
     "text": [
      "3.4132\n",
      "    3.4132\n"
     ]
    }
   ],
   "source": [
    "# 소수점 표현\n",
    "print(\"%0.4f\"% 3.4132412)\n",
    "print(\"%10.4f\"% 3.4132412)"
   ]
  },
  {
   "cell_type": "code",
   "execution_count": 42,
   "metadata": {},
   "outputs": [
    {
     "data": {
      "text/plain": [
       "2"
      ]
     },
     "execution_count": 42,
     "metadata": {},
     "output_type": "execute_result"
    }
   ],
   "source": [
    "# 문자열 개수 세기(count)\n",
    "a = \"hobby\"\n",
    "a.count('b')"
   ]
  },
  {
   "cell_type": "code",
   "execution_count": 35,
   "metadata": {},
   "outputs": [
    {
     "name": "stdout",
     "output_type": "stream",
     "text": [
      "10\n",
      "-1\n"
     ]
    }
   ],
   "source": [
    "# 위치 알려주기(find)\n",
    "a = \"Python is best choice\"\n",
    "print(a.find('b'))\n",
    "print(a.find('k'))"
   ]
  },
  {
   "cell_type": "code",
   "execution_count": 40,
   "metadata": {},
   "outputs": [
    {
     "name": "stdout",
     "output_type": "stream",
     "text": [
      "8\n",
      "6\n"
     ]
    }
   ],
   "source": [
    "# 위치 알려주기(index)\n",
    "a = \"Life is too short\"\n",
    "print(a.index('t'))\n",
    "print(a.index('s'))"
   ]
  },
  {
   "cell_type": "code",
   "execution_count": 41,
   "metadata": {},
   "outputs": [
    {
     "data": {
      "text/plain": [
       "'a,b,c,d'"
      ]
     },
     "execution_count": 41,
     "metadata": {},
     "output_type": "execute_result"
    }
   ],
   "source": [
    "# 문자열 삽입\n",
    "a = \",\"\n",
    "a.join('abcd')"
   ]
  },
  {
   "cell_type": "code",
   "execution_count": 43,
   "metadata": {},
   "outputs": [
    {
     "data": {
      "text/plain": [
       "'HI'"
      ]
     },
     "execution_count": 43,
     "metadata": {},
     "output_type": "execute_result"
    }
   ],
   "source": [
    "# 소문자를 대문자로 바꾸기(upper)\n",
    "a = \"hi\"\n",
    "a.upper()"
   ]
  },
  {
   "cell_type": "code",
   "execution_count": 44,
   "metadata": {},
   "outputs": [
    {
     "data": {
      "text/plain": [
       "'hi'"
      ]
     },
     "execution_count": 44,
     "metadata": {},
     "output_type": "execute_result"
    }
   ],
   "source": [
    "# 대문자를 소문자로 바꾸기(lower)\n",
    "a = \"HI\"\n",
    "a.lower()"
   ]
  },
  {
   "cell_type": "code",
   "execution_count": 45,
   "metadata": {},
   "outputs": [
    {
     "data": {
      "text/plain": [
       "'hi'"
      ]
     },
     "execution_count": 45,
     "metadata": {},
     "output_type": "execute_result"
    }
   ],
   "source": [
    "# 양쪽 공백 지우기(strip)\n",
    "a = \" hi \"\n",
    "a.strip()"
   ]
  },
  {
   "cell_type": "code",
   "execution_count": 46,
   "metadata": {},
   "outputs": [
    {
     "data": {
      "text/plain": [
       "'Your leg is too shrot'"
      ]
     },
     "execution_count": 46,
     "metadata": {},
     "output_type": "execute_result"
    }
   ],
   "source": [
    "# 문자열 바꾸기(replace)\n",
    "a = \"Life is too shrot\"\n",
    "a.replace(\"Life\",\"Your leg\")"
   ]
  },
  {
   "cell_type": "code",
   "execution_count": 48,
   "metadata": {},
   "outputs": [
    {
     "name": "stdout",
     "output_type": "stream",
     "text": [
      "['Life', 'is', 'too', 'shrot']\n",
      "['a', 'b', 'c', 'd']\n"
     ]
    }
   ],
   "source": [
    "# 문자열 나누기(split)\n",
    "a = \"Life is too shrot\"\n",
    "print(a.split())\n",
    "a = \"a:b:c:d\"\n",
    "print(a.split(':'))"
   ]
  },
  {
   "cell_type": "markdown",
   "metadata": {},
   "source": [
    "## 2.2 리스트 자료형, 튜플 자료형"
   ]
  },
  {
   "cell_type": "code",
   "execution_count": 49,
   "metadata": {},
   "outputs": [],
   "source": [
    "# 리스트명 = [요소1, 요소2, 요소3, ....]\n",
    "odd = [1,3,5,7,9]"
   ]
  },
  {
   "cell_type": "code",
   "execution_count": 51,
   "metadata": {},
   "outputs": [],
   "source": [
    "# 리스트의 인덱싱\n",
    "a = []\n",
    "b = [1,2,3]\n",
    "c = ['Life','is','too','short']\n",
    "d = [1,2,'Life','is']\n",
    "e = [1,2,['Life','is']]"
   ]
  },
  {
   "cell_type": "code",
   "execution_count": 53,
   "metadata": {},
   "outputs": [
    {
     "name": "stdout",
     "output_type": "stream",
     "text": [
      "1\n",
      "4\n",
      "3\n"
     ]
    }
   ],
   "source": [
    "# 리스트의 슬라이싱\n",
    "a = [1,2,3]\n",
    "print(a[0])\n",
    "print(a[0] + a[2])\n",
    "print(a[-1])"
   ]
  },
  {
   "cell_type": "code",
   "execution_count": 54,
   "metadata": {},
   "outputs": [
    {
     "data": {
      "text/plain": [
       "[1, 2, 3, 4, 5, 6]"
      ]
     },
     "execution_count": 54,
     "metadata": {},
     "output_type": "execute_result"
    }
   ],
   "source": [
    "# 리스트 더하기\n",
    "a = [1,2,3]\n",
    "b = [4,5,6]\n",
    "a + b"
   ]
  },
  {
   "cell_type": "code",
   "execution_count": 55,
   "metadata": {},
   "outputs": [
    {
     "data": {
      "text/plain": [
       "[1, 2, 3, 1, 2, 3, 1, 2, 3]"
      ]
     },
     "execution_count": 55,
     "metadata": {},
     "output_type": "execute_result"
    }
   ],
   "source": [
    "# 리스트 반복하기\n",
    "a = [1,2,3]\n",
    "a * 3"
   ]
  },
  {
   "cell_type": "code",
   "execution_count": 56,
   "metadata": {},
   "outputs": [
    {
     "data": {
      "text/plain": [
       "[1, 2, 4]"
      ]
     },
     "execution_count": 56,
     "metadata": {},
     "output_type": "execute_result"
    }
   ],
   "source": [
    "# 리스트에서 하나의 값 수정하기\n",
    "a = [1,2,3]\n",
    "a[2] = 4\n",
    "a"
   ]
  },
  {
   "cell_type": "code",
   "execution_count": 57,
   "metadata": {},
   "outputs": [
    {
     "name": "stdout",
     "output_type": "stream",
     "text": [
      "[2]\n"
     ]
    },
    {
     "data": {
      "text/plain": [
       "[1, 'a', 'b', 'c', 4]"
      ]
     },
     "execution_count": 57,
     "metadata": {},
     "output_type": "execute_result"
    }
   ],
   "source": [
    "# 리스트에서 연속된 범위의 값 수정하기\n",
    "print(a[1:2])\n",
    "a[1:2] = ['a','b','c']\n",
    "a"
   ]
  },
  {
   "cell_type": "code",
   "execution_count": 58,
   "metadata": {},
   "outputs": [
    {
     "data": {
      "text/plain": [
       "[1, 'c', 4]"
      ]
     },
     "execution_count": 58,
     "metadata": {},
     "output_type": "execute_result"
    }
   ],
   "source": [
    "# [] 사용해 리스트 요소 삭제하기\n",
    "a = [1,'a','b','c',4]\n",
    "a[1:3] = []\n",
    "a"
   ]
  },
  {
   "cell_type": "code",
   "execution_count": 60,
   "metadata": {},
   "outputs": [
    {
     "name": "stdout",
     "output_type": "stream",
     "text": [
      "[1, 'c', 4]\n"
     ]
    },
    {
     "data": {
      "text/plain": [
       "[1, 4]"
      ]
     },
     "execution_count": 60,
     "metadata": {},
     "output_type": "execute_result"
    }
   ],
   "source": [
    "# del 함수 사용해 리스트 요소 삭제하기\n",
    "print(a)\n",
    "del a[1]\n",
    "a"
   ]
  },
  {
   "cell_type": "code",
   "execution_count": 62,
   "metadata": {},
   "outputs": [
    {
     "data": {
      "text/plain": [
       "[1, 2, 3, 4]"
      ]
     },
     "execution_count": 62,
     "metadata": {},
     "output_type": "execute_result"
    }
   ],
   "source": [
    "# 리스트에 요소 추가(append)\n",
    "a = [1, 2, 3]\n",
    "a.append(4)\n",
    "a"
   ]
  },
  {
   "cell_type": "code",
   "execution_count": 64,
   "metadata": {},
   "outputs": [
    {
     "data": {
      "text/plain": [
       "[1, 2, 3, 4]"
      ]
     },
     "execution_count": 64,
     "metadata": {},
     "output_type": "execute_result"
    }
   ],
   "source": [
    "# 리스트 정렬(sort)\n",
    "a = [1,4,3,2]\n",
    "a.sort()\n",
    "a"
   ]
  },
  {
   "cell_type": "code",
   "execution_count": 65,
   "metadata": {},
   "outputs": [
    {
     "data": {
      "text/plain": [
       "['b', 'c', 'a']"
      ]
     },
     "execution_count": 65,
     "metadata": {},
     "output_type": "execute_result"
    }
   ],
   "source": [
    "# 리스트 뒤집기\n",
    "a = ['a','c','b']\n",
    "a.reverse()\n",
    "a"
   ]
  },
  {
   "cell_type": "code",
   "execution_count": 67,
   "metadata": {},
   "outputs": [
    {
     "name": "stdout",
     "output_type": "stream",
     "text": [
      "2\n"
     ]
    },
    {
     "data": {
      "text/plain": [
       "0"
      ]
     },
     "execution_count": 67,
     "metadata": {},
     "output_type": "execute_result"
    }
   ],
   "source": [
    "# 위치 반환(index)\n",
    "a = [1, 2, 3]\n",
    "print(a.index(3))\n",
    "a.index(1)"
   ]
  },
  {
   "cell_type": "code",
   "execution_count": 69,
   "metadata": {},
   "outputs": [
    {
     "data": {
      "text/plain": [
       "[4, 1, 2, 3]"
      ]
     },
     "execution_count": 69,
     "metadata": {},
     "output_type": "execute_result"
    }
   ],
   "source": [
    "# 리스트에 요소 삽입(insert)\n",
    "a = [1, 2, 3]\n",
    "a.insert(0,4)\n",
    "a"
   ]
  },
  {
   "cell_type": "code",
   "execution_count": 72,
   "metadata": {},
   "outputs": [
    {
     "data": {
      "text/plain": [
       "[1, 2, 1, 2, 3]"
      ]
     },
     "execution_count": 72,
     "metadata": {},
     "output_type": "execute_result"
    }
   ],
   "source": [
    "# 리스트 요소 제거(remove)\n",
    "a = [1, 2, 3, 1, 2, 3]\n",
    "a.remove(3)\n",
    "a"
   ]
  },
  {
   "cell_type": "code",
   "execution_count": 75,
   "metadata": {},
   "outputs": [
    {
     "name": "stdout",
     "output_type": "stream",
     "text": [
      "3\n"
     ]
    },
    {
     "data": {
      "text/plain": [
       "[1, 2]"
      ]
     },
     "execution_count": 75,
     "metadata": {},
     "output_type": "execute_result"
    }
   ],
   "source": [
    "# 리스트 요소 끄집어내기(pop)\n",
    "a = [1, 2, 3]\n",
    "print(a.pop())\n",
    "a"
   ]
  },
  {
   "cell_type": "code",
   "execution_count": 76,
   "metadata": {},
   "outputs": [
    {
     "data": {
      "text/plain": [
       "2"
      ]
     },
     "execution_count": 76,
     "metadata": {},
     "output_type": "execute_result"
    }
   ],
   "source": [
    "# 리스트에 포함된 요소 x의 개수 세기(count)\n",
    "a = [1, 2, 3, 1]\n",
    "a.count(1)"
   ]
  },
  {
   "cell_type": "code",
   "execution_count": 79,
   "metadata": {},
   "outputs": [
    {
     "name": "stdout",
     "output_type": "stream",
     "text": [
      "[1, 2, 3, 4, 5]\n"
     ]
    },
    {
     "data": {
      "text/plain": [
       "[1, 2, 3, 4, 5, 6, 7]"
      ]
     },
     "execution_count": 79,
     "metadata": {},
     "output_type": "execute_result"
    }
   ],
   "source": [
    "# 리스트 확장(extend)\n",
    "a = [1, 2, 3]\n",
    "a.extend([4,5])\n",
    "print(a)\n",
    "b = [6, 7]\n",
    "a.extend(b)\n",
    "a"
   ]
  },
  {
   "cell_type": "code",
   "execution_count": 80,
   "metadata": {},
   "outputs": [
    {
     "ename": "TypeError",
     "evalue": "'tuple' object doesn't support item deletion",
     "output_type": "error",
     "traceback": [
      "\u001b[1;31m---------------------------------------------------------------------------\u001b[0m",
      "\u001b[1;31mTypeError\u001b[0m                                 Traceback (most recent call last)",
      "\u001b[1;32m<ipython-input-80-d8b7451ad77a>\u001b[0m in \u001b[0;36m<module>\u001b[1;34m\u001b[0m\n\u001b[0;32m      1\u001b[0m \u001b[1;31m# 튜플 요소값 삭제 시 오류\u001b[0m\u001b[1;33m\u001b[0m\u001b[1;33m\u001b[0m\u001b[1;33m\u001b[0m\u001b[0m\n\u001b[0;32m      2\u001b[0m \u001b[0mt1\u001b[0m \u001b[1;33m=\u001b[0m \u001b[1;33m(\u001b[0m\u001b[1;36m1\u001b[0m\u001b[1;33m,\u001b[0m\u001b[1;36m2\u001b[0m\u001b[1;33m,\u001b[0m\u001b[1;34m'a'\u001b[0m\u001b[1;33m,\u001b[0m\u001b[1;34m'b'\u001b[0m\u001b[1;33m)\u001b[0m\u001b[1;33m\u001b[0m\u001b[1;33m\u001b[0m\u001b[0m\n\u001b[1;32m----> 3\u001b[1;33m \u001b[1;32mdel\u001b[0m \u001b[0mt1\u001b[0m\u001b[1;33m[\u001b[0m\u001b[1;36m0\u001b[0m\u001b[1;33m]\u001b[0m\u001b[1;33m\u001b[0m\u001b[1;33m\u001b[0m\u001b[0m\n\u001b[0m",
      "\u001b[1;31mTypeError\u001b[0m: 'tuple' object doesn't support item deletion"
     ]
    }
   ],
   "source": [
    "# 튜플 요소값 삭제 시 오류\n",
    "t1 = (1,2,'a','b')\n",
    "del t1[0]"
   ]
  },
  {
   "cell_type": "code",
   "execution_count": 81,
   "metadata": {},
   "outputs": [
    {
     "ename": "TypeError",
     "evalue": "'tuple' object does not support item assignment",
     "output_type": "error",
     "traceback": [
      "\u001b[1;31m---------------------------------------------------------------------------\u001b[0m",
      "\u001b[1;31mTypeError\u001b[0m                                 Traceback (most recent call last)",
      "\u001b[1;32m<ipython-input-81-45e5e62f7dee>\u001b[0m in \u001b[0;36m<module>\u001b[1;34m\u001b[0m\n\u001b[0;32m      1\u001b[0m \u001b[1;31m# 튜플 요소값 변경 시 오류\u001b[0m\u001b[1;33m\u001b[0m\u001b[1;33m\u001b[0m\u001b[1;33m\u001b[0m\u001b[0m\n\u001b[0;32m      2\u001b[0m \u001b[0mt1\u001b[0m \u001b[1;33m=\u001b[0m \u001b[1;33m(\u001b[0m\u001b[1;36m1\u001b[0m\u001b[1;33m,\u001b[0m\u001b[1;36m2\u001b[0m\u001b[1;33m,\u001b[0m\u001b[1;34m'a'\u001b[0m\u001b[1;33m,\u001b[0m\u001b[1;34m'b'\u001b[0m\u001b[1;33m)\u001b[0m\u001b[1;33m\u001b[0m\u001b[1;33m\u001b[0m\u001b[0m\n\u001b[1;32m----> 3\u001b[1;33m \u001b[0mt1\u001b[0m\u001b[1;33m[\u001b[0m\u001b[1;36m0\u001b[0m\u001b[1;33m]\u001b[0m \u001b[1;33m=\u001b[0m \u001b[1;34m'c'\u001b[0m\u001b[1;33m\u001b[0m\u001b[1;33m\u001b[0m\u001b[0m\n\u001b[0m",
      "\u001b[1;31mTypeError\u001b[0m: 'tuple' object does not support item assignment"
     ]
    }
   ],
   "source": [
    "# 튜플 요소값 변경 시 오류\n",
    "t1 = (1,2,'a','b')\n",
    "t1[0] = 'c'"
   ]
  },
  {
   "cell_type": "code",
   "execution_count": 82,
   "metadata": {},
   "outputs": [
    {
     "name": "stdout",
     "output_type": "stream",
     "text": [
      "1\n"
     ]
    },
    {
     "data": {
      "text/plain": [
       "'b'"
      ]
     },
     "execution_count": 82,
     "metadata": {},
     "output_type": "execute_result"
    }
   ],
   "source": [
    "# 튜플 인덱싱\n",
    "t1 = (1,2,'a','b')\n",
    "print(t1[0])\n",
    "t1[3]"
   ]
  },
  {
   "cell_type": "code",
   "execution_count": 83,
   "metadata": {},
   "outputs": [
    {
     "data": {
      "text/plain": [
       "(2, 'a', 'b')"
      ]
     },
     "execution_count": 83,
     "metadata": {},
     "output_type": "execute_result"
    }
   ],
   "source": [
    "# 튜플 슬라이싱\n",
    "t1 = (1,2,'a','b')\n",
    "t1[1:]"
   ]
  },
  {
   "cell_type": "code",
   "execution_count": 84,
   "metadata": {},
   "outputs": [
    {
     "data": {
      "text/plain": [
       "(1, 2, 'a', 'b', 3, 4)"
      ]
     },
     "execution_count": 84,
     "metadata": {},
     "output_type": "execute_result"
    }
   ],
   "source": [
    "# 튜플 더하기\n",
    "t2 = (3,4)\n",
    "t1 + t2"
   ]
  },
  {
   "cell_type": "code",
   "execution_count": 85,
   "metadata": {},
   "outputs": [
    {
     "data": {
      "text/plain": [
       "(3, 4, 3, 4, 3, 4)"
      ]
     },
     "execution_count": 85,
     "metadata": {},
     "output_type": "execute_result"
    }
   ],
   "source": [
    "# 튜플 곱하기\n",
    "t2 * 3"
   ]
  },
  {
   "cell_type": "markdown",
   "metadata": {},
   "source": [
    "## 2.3 딕셔너리 자료형, 집합 자료형"
   ]
  },
  {
   "cell_type": "markdown",
   "metadata": {},
   "source": [
    "### 딕셔너리\n",
    "\n",
    "연관 배열(Associative array) 또는 해시(Hash)\n",
    "\n",
    "단어 그대로 해석하면 사전이라는 뜻\n",
    "\n",
    "Key를 통해 Value를 얻는다.\n",
    "\n",
    "→ dic = {'name':'pey','phone':'01041649125','birth':'1221'}"
   ]
  },
  {
   "cell_type": "code",
   "execution_count": 87,
   "metadata": {},
   "outputs": [
    {
     "data": {
      "text/plain": [
       "{1: 'a', 2: 'b'}"
      ]
     },
     "execution_count": 87,
     "metadata": {},
     "output_type": "execute_result"
    }
   ],
   "source": [
    "# 딕셔너리 쌍 추가하기\n",
    "a = {1:'a'}\n",
    "a[2] = 'b'\n",
    "a"
   ]
  },
  {
   "cell_type": "code",
   "execution_count": 88,
   "metadata": {},
   "outputs": [
    {
     "data": {
      "text/plain": [
       "{2: 'b'}"
      ]
     },
     "execution_count": 88,
     "metadata": {},
     "output_type": "execute_result"
    }
   ],
   "source": [
    "# 딕셔너리 요소 삭제하기\n",
    "del a[1]\n",
    "a"
   ]
  },
  {
   "cell_type": "code",
   "execution_count": 89,
   "metadata": {},
   "outputs": [
    {
     "name": "stdout",
     "output_type": "stream",
     "text": [
      "10\n"
     ]
    },
    {
     "data": {
      "text/plain": [
       "99"
      ]
     },
     "execution_count": 89,
     "metadata": {},
     "output_type": "execute_result"
    }
   ],
   "source": [
    "# 딕셔너리에서 Key 사용해 Value 얻기\n",
    "grade = {'pey': 10,'julliet': 99}\n",
    "print(grade['pey'])\n",
    "grade['julliet']"
   ]
  },
  {
   "cell_type": "code",
   "execution_count": 90,
   "metadata": {},
   "outputs": [
    {
     "data": {
      "text/plain": [
       "{1: 'b'}"
      ]
     },
     "execution_count": 90,
     "metadata": {},
     "output_type": "execute_result"
    }
   ],
   "source": [
    "# 딕셔너리 만들때 주의할 사항\n",
    "a = {1:'a',1:'b'} # 같은 Key값으로 지정 시 마지막것으로 반영\n",
    "a"
   ]
  },
  {
   "cell_type": "code",
   "execution_count": 91,
   "metadata": {},
   "outputs": [
    {
     "data": {
      "text/plain": [
       "dict_keys(['name', 'phone', 'birth'])"
      ]
     },
     "execution_count": 91,
     "metadata": {},
     "output_type": "execute_result"
    }
   ],
   "source": [
    "# Key 리스트 만들기(keys)\n",
    "a = {'name':'pey','phone':'01041649125','birth':'1221'}\n",
    "a.keys()"
   ]
  },
  {
   "cell_type": "code",
   "execution_count": 92,
   "metadata": {},
   "outputs": [
    {
     "data": {
      "text/plain": [
       "dict_values(['pey', '01041649125', '1221'])"
      ]
     },
     "execution_count": 92,
     "metadata": {},
     "output_type": "execute_result"
    }
   ],
   "source": [
    "# Value 리스트 만들기(values)\n",
    "a.values()"
   ]
  },
  {
   "cell_type": "code",
   "execution_count": 93,
   "metadata": {},
   "outputs": [
    {
     "data": {
      "text/plain": [
       "dict_items([('name', 'pey'), ('phone', '01041649125'), ('birth', '1221')])"
      ]
     },
     "execution_count": 93,
     "metadata": {},
     "output_type": "execute_result"
    }
   ],
   "source": [
    "# Key, Value 쌍 얻기(items)\n",
    "a = {'name':'pey','phone':'01041649125','birth':'1221'}\n",
    "a.items()"
   ]
  },
  {
   "cell_type": "code",
   "execution_count": 94,
   "metadata": {},
   "outputs": [
    {
     "data": {
      "text/plain": [
       "{}"
      ]
     },
     "execution_count": 94,
     "metadata": {},
     "output_type": "execute_result"
    }
   ],
   "source": [
    "# Key : Value 쌍 모두 지우기(clear)\n",
    "a.clear()\n",
    "a"
   ]
  },
  {
   "cell_type": "code",
   "execution_count": 96,
   "metadata": {},
   "outputs": [
    {
     "name": "stdout",
     "output_type": "stream",
     "text": [
      "pey\n"
     ]
    },
    {
     "data": {
      "text/plain": [
       "'01041649125'"
      ]
     },
     "execution_count": 96,
     "metadata": {},
     "output_type": "execute_result"
    }
   ],
   "source": [
    "# Key로 Value 얻기(get)\n",
    "a = {'name':'pey','phone':'01041649125','birth':'1221'}\n",
    "print(a.get('name'))\n",
    "a.get('phone')"
   ]
  },
  {
   "cell_type": "code",
   "execution_count": 99,
   "metadata": {},
   "outputs": [
    {
     "name": "stdout",
     "output_type": "stream",
     "text": [
      "True\n"
     ]
    },
    {
     "data": {
      "text/plain": [
       "False"
      ]
     },
     "execution_count": 99,
     "metadata": {},
     "output_type": "execute_result"
    }
   ],
   "source": [
    "# 해당 Key가 딕셔너리 안에 있는지 조사하기(in)\n",
    "a = {'name':'pey','phone':'01041649125','birth':'1221'}\n",
    "print('name' in a)\n",
    "'email' in a"
   ]
  },
  {
   "cell_type": "markdown",
   "metadata": {},
   "source": [
    "### 집합자료형\n",
    "\n",
    "집합에 관련된 것들을 쉽게 처리하기 위해 만들어진 자료형\n",
    "\n",
    "중복을 허용하지 않는다.\n",
    "\n",
    "순서가 없다(Unordered)."
   ]
  },
  {
   "cell_type": "code",
   "execution_count": 100,
   "metadata": {},
   "outputs": [
    {
     "data": {
      "text/plain": [
       "{1, 2, 3}"
      ]
     },
     "execution_count": 100,
     "metadata": {},
     "output_type": "execute_result"
    }
   ],
   "source": [
    "# 집합자료형\n",
    "s1 = set([1,2,3])\n",
    "s1"
   ]
  },
  {
   "cell_type": "code",
   "execution_count": 105,
   "metadata": {},
   "outputs": [
    {
     "data": {
      "text/plain": [
       "{'H', 'e', 'l', 'o'}"
      ]
     },
     "execution_count": 105,
     "metadata": {},
     "output_type": "execute_result"
    }
   ],
   "source": [
    "# 순서가 없고 중복이 허용되지 않는다.\n",
    "s2 = set(\"Hello\")\n",
    "s2"
   ]
  },
  {
   "cell_type": "code",
   "execution_count": 107,
   "metadata": {},
   "outputs": [
    {
     "name": "stdout",
     "output_type": "stream",
     "text": [
      "{4, 5, 6}\n"
     ]
    },
    {
     "data": {
      "text/plain": [
       "{4, 5, 6}"
      ]
     },
     "execution_count": 107,
     "metadata": {},
     "output_type": "execute_result"
    }
   ],
   "source": [
    "# 교집합\n",
    "s1 = set([1,2,3,4,5,6])\n",
    "s2 = set([4,5,6,7,8,9])\n",
    "print(s1 & s2)\n",
    "s1.intersection(s2)"
   ]
  },
  {
   "cell_type": "code",
   "execution_count": 108,
   "metadata": {},
   "outputs": [
    {
     "name": "stdout",
     "output_type": "stream",
     "text": [
      "{1, 2, 3, 4, 5, 6, 7, 8, 9}\n"
     ]
    },
    {
     "data": {
      "text/plain": [
       "{1, 2, 3, 4, 5, 6, 7, 8, 9}"
      ]
     },
     "execution_count": 108,
     "metadata": {},
     "output_type": "execute_result"
    }
   ],
   "source": [
    "# 합집합\n",
    "s1 = set([1,2,3,4,5,6])\n",
    "s2 = set([4,5,6,7,8,9])\n",
    "print(s1 | s2)\n",
    "s1.union(s2)"
   ]
  },
  {
   "cell_type": "code",
   "execution_count": 109,
   "metadata": {},
   "outputs": [
    {
     "name": "stdout",
     "output_type": "stream",
     "text": [
      "{1, 2, 3}\n",
      "{8, 9, 7}\n",
      "{1, 2, 3}\n",
      "{8, 9, 7}\n"
     ]
    }
   ],
   "source": [
    "# 차집합\n",
    "s1 = set([1,2,3,4,5,6])\n",
    "s2 = set([4,5,6,7,8,9])\n",
    "print(s1 - s2)\n",
    "print(s2 - s1)\n",
    "print(s1.difference(s2))\n",
    "print(s2.difference(s1))"
   ]
  },
  {
   "cell_type": "code",
   "execution_count": 111,
   "metadata": {},
   "outputs": [
    {
     "data": {
      "text/plain": [
       "{1, 2, 3, 4}"
      ]
     },
     "execution_count": 111,
     "metadata": {},
     "output_type": "execute_result"
    }
   ],
   "source": [
    "# 값 1개 추가하기(add)\n",
    "s1 = set([1,2,3])\n",
    "s1.add(4)\n",
    "s1"
   ]
  },
  {
   "cell_type": "code",
   "execution_count": 112,
   "metadata": {},
   "outputs": [
    {
     "data": {
      "text/plain": [
       "{1, 2, 3, 4, 5, 6}"
      ]
     },
     "execution_count": 112,
     "metadata": {},
     "output_type": "execute_result"
    }
   ],
   "source": [
    "# 값 여러 개 추가하기(update)\n",
    "s1 = set([1,2,3])\n",
    "s1.update([4,5,6])\n",
    "s1"
   ]
  },
  {
   "cell_type": "code",
   "execution_count": 113,
   "metadata": {},
   "outputs": [
    {
     "data": {
      "text/plain": [
       "{1, 3}"
      ]
     },
     "execution_count": 113,
     "metadata": {},
     "output_type": "execute_result"
    }
   ],
   "source": [
    "# 특정 값 제거하기(remove)\n",
    "s1 = set([1,2,3])\n",
    "s1.remove(2)\n",
    "s1"
   ]
  },
  {
   "cell_type": "markdown",
   "metadata": {},
   "source": [
    "## 2.4 자료형의 참과 거짓, 변수\n",
    "\n",
    "값|참 or 거짓\n",
    "-|-\n",
    "\"Python\"|참\n",
    "\"\"|거짓\n",
    "[1,2,3]|참\n",
    "[]|거짓\n",
    "()|거짓\n",
    "{}|거짓\n",
    "1|참\n",
    "0|거짓\n",
    "None|거짓"
   ]
  },
  {
   "cell_type": "code",
   "execution_count": 118,
   "metadata": {},
   "outputs": [
    {
     "name": "stdout",
     "output_type": "stream",
     "text": [
      "4\n",
      "3\n",
      "2\n",
      "1\n"
     ]
    }
   ],
   "source": [
    "# 자료형의 참과 거짓은 어떻게 사용되나?\n",
    "a = [1,2,3,4]\n",
    "while a:\n",
    "    print(a.pop())"
   ]
  },
  {
   "cell_type": "code",
   "execution_count": 119,
   "metadata": {},
   "outputs": [],
   "source": [
    "# 다음 예와 같은 a,b,c 를 변수라고 한다.\n",
    "a = 1\n",
    "b = \"Python\"\n",
    "c = [1,2,3]\n",
    "# 변수를 만들때는 =(assignment) 기호를 사용한다."
   ]
  },
  {
   "cell_type": "markdown",
   "metadata": {},
   "source": [
    "파이썬에서 사용하는 변수는 객체를 가리키는 것\n",
    "\n",
    "a = 3\n",
    "\n",
    "- 3이라는 값을 가지는 정수 자료형(객체)이 자동으로 메모리 생성\n",
    "- 변수 a는 객체가 저장된 메모리의 위치를 가리키는 레퍼런스(Reference)\n",
    "- a라는 변수는 3이라는 정수형 객체를 가리키고 있다."
   ]
  },
  {
   "cell_type": "code",
   "execution_count": 121,
   "metadata": {},
   "outputs": [
    {
     "name": "stdout",
     "output_type": "stream",
     "text": [
      "[1, 4, 3]\n",
      "[1, 4, 3]\n"
     ]
    }
   ],
   "source": [
    "# 리스트 변수 주의사항\n",
    "a = [1,2,3]\n",
    "b = a\n",
    "a[1] = 4 # a의 1번 인덱스의 값을 변경시키면 b에도 그대로 반영된다.\n",
    "print(a)\n",
    "print(b)"
   ]
  },
  {
   "cell_type": "markdown",
   "metadata": {},
   "source": [
    "## 2.5 GUI 빌드\n",
    "\n",
    "#### 현재까지 배운 자료형\n",
    "- 문자열(또는 스트링, 텍스트의 일부), 정수(모든 정수), 실수(소수점이 있는 수)\n",
    "\n",
    "#### 컨테이너 형\n",
    "- 튜플, 리스트, 사전.\n",
    "- 데이터를 한 개 이상 저장 가능한 자료형.(문자열 포함)\n",
    "- 참고) 문자열은 문자나 숫자, 또는 숫자와 문자를 순서대로 저장하는 컨테이너와 비슷.\n",
    "\n",
    "#### 튜플\n",
    "- 문자열, 숫자, 각각 다른 자료형 저장 가능.\n",
    "- 콤마로 값 구분.\n",
    "- 저장된 값은 인덱스 0부터 시작."
   ]
  },
  {
   "cell_type": "code",
   "execution_count": 122,
   "metadata": {},
   "outputs": [
    {
     "name": "stdout",
     "output_type": "stream",
     "text": [
      "one\n",
      "two\n",
      "three\n",
      "four\n"
     ]
    },
    {
     "ename": "IndexError",
     "evalue": "tuple index out of range",
     "output_type": "error",
     "traceback": [
      "\u001b[1;31m---------------------------------------------------------------------------\u001b[0m",
      "\u001b[1;31mIndexError\u001b[0m                                Traceback (most recent call last)",
      "\u001b[1;32m<ipython-input-122-c9d3f07de131>\u001b[0m in \u001b[0;36m<module>\u001b[1;34m\u001b[0m\n\u001b[0;32m      5\u001b[0m \u001b[0mprint\u001b[0m\u001b[1;33m(\u001b[0m\u001b[0mmy_tuple\u001b[0m\u001b[1;33m[\u001b[0m\u001b[1;36m2\u001b[0m\u001b[1;33m]\u001b[0m\u001b[1;33m)\u001b[0m\u001b[1;33m\u001b[0m\u001b[1;33m\u001b[0m\u001b[0m\n\u001b[0;32m      6\u001b[0m \u001b[0mprint\u001b[0m\u001b[1;33m(\u001b[0m\u001b[0mmy_tuple\u001b[0m\u001b[1;33m[\u001b[0m\u001b[1;36m3\u001b[0m\u001b[1;33m]\u001b[0m\u001b[1;33m)\u001b[0m\u001b[1;33m\u001b[0m\u001b[1;33m\u001b[0m\u001b[0m\n\u001b[1;32m----> 7\u001b[1;33m \u001b[0mprint\u001b[0m\u001b[1;33m(\u001b[0m\u001b[0mmy_tuple\u001b[0m\u001b[1;33m[\u001b[0m\u001b[1;36m4\u001b[0m\u001b[1;33m]\u001b[0m\u001b[1;33m)\u001b[0m\u001b[1;33m\u001b[0m\u001b[1;33m\u001b[0m\u001b[0m\n\u001b[0m",
      "\u001b[1;31mIndexError\u001b[0m: tuple index out of range"
     ]
    }
   ],
   "source": [
    "# 저장 예시\n",
    "my_tuple = (\"one\",\"two\",\"three\",\"four\")\n",
    "print(my_tuple[0])\n",
    "print(my_tuple[1])\n",
    "print(my_tuple[2])\n",
    "print(my_tuple[3])\n",
    "print(my_tuple[4])"
   ]
  },
  {
   "cell_type": "code",
   "execution_count": 126,
   "metadata": {},
   "outputs": [
    {
     "name": "stdout",
     "output_type": "stream",
     "text": [
      "모르니 두려운 것입니다.\n"
     ]
    }
   ],
   "source": [
    "# 튜플을 이용한 코드의 변화\n",
    "# - 조건문에 대응하는 긴 코드\n",
    "\n",
    "import random\n",
    "\n",
    "# 답변을 입력해 봅시다.\n",
    "ans1 = \"자! 해보세요!\"\n",
    "ans2 = \"됐네요. 이사람아.\"\n",
    "ans3 = \"뭐라고? 다시 생각해보세요.\"\n",
    "ans4 = \"모르니 두려운 것입니다.\"\n",
    "ans5 = \"칠푼인가요? 제정신이 아니군요!\"\n",
    "ans6 = \"당신이라면 할 수 있어요!\"\n",
    "ans7 = \"해도 그만, 안해도 그만, 아니겠어요?\"\n",
    "ans8 = \"맞아요. 당신은 올바른 선택을 했어요.\"\n",
    "\n",
    "# 질문에 알맞은 답변을 하는 일에 randint() 함수를 활용합니다.\n",
    "choice=random.randint(1,8)\n",
    "if choice==1:\n",
    "    answer=ans1\n",
    "elif choice==2:\n",
    "    answer=ans2\n",
    "elif choice==3:\n",
    "    answer=ans3\n",
    "elif choice==4:\n",
    "    answer=ans4\n",
    "elif choice==5:\n",
    "    answer=ans5\n",
    "elif choice==6:\n",
    "    answer=ans6\n",
    "elif choice==7:\n",
    "    answer=ans7\n",
    "else:\n",
    "    answer=ans8\n",
    "    \n",
    "# 화면에 답변을 출력합니다.\n",
    "print(answer)"
   ]
  },
  {
   "cell_type": "code",
   "execution_count": 129,
   "metadata": {},
   "outputs": [
    {
     "name": "stdout",
     "output_type": "stream",
     "text": [
      "당신이라면 할 수 있어요!\n",
      "MyMagic8Ball에 오신것을 환영합니다.\n"
     ]
    }
   ],
   "source": [
    "# 튜플을 이용한 MyMagic8Ball 어플리케이션\n",
    "# - 쉼표로 답을 구분하고 행을 바꾸면 좀 더 읽기 쉬운 코드.\n",
    "\n",
    "# 질문에 알맞는 답변ㅇ을 하는 일에 randint() 함수를 활용합니다.\n",
    "choice=random.randint(0,7)\n",
    "\n",
    "# 화면에 답변을 출력합니다.\n",
    "print(answers[choice])\n",
    "\n",
    "# 답을 튜플에 넣습니다.\n",
    "answers = (\n",
    "    \" 자! 해보세요!\",\n",
    "    \"됐네요, 이사람아.\",\n",
    "    \"모르니 두려운 것입니다.\",\n",
    "    \"칠푼인가요?? 제정신이 아니군요!\",\n",
    "    \"당신이라면 할 수 있어요!\",\n",
    "    \"해도 그만, 안해도 그만, 아니겠어요?\",\n",
    "    \"맞아요, 당신은 올바른 선택을 했어요.\")\n",
    "\n",
    "print(\"MyMagic8Ball에 오신것을 환영합니다.\")"
   ]
  },
  {
   "cell_type": "markdown",
   "metadata": {},
   "source": [
    "#### 예제코드\n",
    "- 튜플\n",
    "\n",
    "    ㆍ쉼표로 구분해서 튜플에 문자열 형태로 답 입력.    \n",
    "\n",
    "\n",
    "- input() 함수\n",
    "\n",
    "    ㆍ키보드에 있는 키를 입력 받음.\n",
    "    \n",
    "    ㆍ다음 엔터키를 누를때까지 기다림.\n",
    "    \n",
    "\n",
    "- randint() 함수\n",
    "\n",
    "    ㆍrandom 모듈의 randint 메서드 사용.\n",
    "    \n",
    "    ㆍ0부터 7까지 수 중에서 임의의 숫자 선택."
   ]
  },
  {
   "cell_type": "markdown",
   "metadata": {},
   "source": [
    "#### 리스트\n",
    "- 내용을 변경할 수 있음.\n",
    "- 함수로 항목 삽입하거나 삭제 가능.\n",
    "\n",
    "    my_list = [\"one\",\"two\",\"three\",\"four\"]"
   ]
  },
  {
   "cell_type": "markdown",
   "metadata": {},
   "source": [
    "#### 튜플\n",
    "- 메모리에서 빠르게 동작.\n",
    "- 다른 코드로 항목을 삽입하거나 삭제 불가.\n",
    "\n",
    "    my_tuple = (\"one\",\"two\",\"three\",\"four\")"
   ]
  },
  {
   "cell_type": "markdown",
   "metadata": {},
   "source": [
    "#### 사전(딕셔너리)\n",
    "- 항목이 가리키는 고유한 이름 가짐.\n",
    "- 인덱스로 키 이름 사용.\n",
    "- 키에는 문자열, 정수, 실수 또는 심지어 튜플도 사용 가능.\n",
    "- 콜론으로 키와 키 값 구분.\n",
    "\n",
    "    my_dictionary = {1:\"고양이\",2:\"개\",키→\"3\":값→\"말\",4:\"물고기\"}"
   ]
  },
  {
   "cell_type": "markdown",
   "metadata": {},
   "source": [
    "#### 새로운 컨테이너를 만들 때 쓰이는 괄호\n",
    "- (소괄호) : 튜플 만들 때 소괄호 사용.\n",
    "- [대괄호] : 리스트 만들 때 대괄호 사용.\n",
    "- {중괄호} : 사전{딕셔너리} 만들 때 중괄호 사용."
   ]
  },
  {
   "cell_type": "markdown",
   "metadata": {},
   "source": [
    "### 유용한 기능\n",
    "\n",
    "<span style=\"color:red\">기능<span>|<span style=\"color:red\">문자열<span>|<span style=\"color:red\">튜플<span>|<span style=\"color:red\">리스트<span>|<span style=\"color:red\">사전{딕셔너리}<span>\n",
    ":-:|:-|:-|:-|:-\n",
    "모든요소 출력|>>>print(s)<br>bar|>>>print(t)<br>('b','a','r')|>>>print(l)<br>['b','a','r']|>>>print(d)<br>{1:'b',2:'a',3:'r'}"
   ]
  },
  {
   "cell_type": "markdown",
   "metadata": {},
   "source": [
    "## 2.6 if 문, while 문, for 문"
   ]
  },
  {
   "cell_type": "code",
   "execution_count": 132,
   "metadata": {},
   "outputs": [
    {
     "name": "stdout",
     "output_type": "stream",
     "text": [
      "택시를 타고 가라\n"
     ]
    }
   ],
   "source": [
    "# 돈이 있으면 택시를 타고, 돈이 없으면 걸어가라.\n",
    "money = 1\n",
    "if money:\n",
    "    print(\"택시를 타고 가라\")\n",
    "else:\n",
    "    print(\"걸어가라\")"
   ]
  },
  {
   "cell_type": "markdown",
   "metadata": {},
   "source": [
    "#### if 문의 기본구조\n",
    "\n",
    "    if 조건문:\n",
    "        수행할 문장1\n",
    "        수행할 문장2\n",
    "        ....\n",
    "    else:\n",
    "        수행할 문장A\n",
    "        수행할 문장B\n",
    "        ....\n",
    "        \n",
    "#### 들여쓰기\n",
    "    \n",
    "    if 조건문:\n",
    "        수행할 문장1\n",
    "        수행할 문장2\n",
    "        수행할 문장3"
   ]
  },
  {
   "cell_type": "code",
   "execution_count": 2,
   "metadata": {},
   "outputs": [
    {
     "ename": "IndentationError",
     "evalue": "unindent does not match any outer indentation level (<tokenize>, line 4)",
     "output_type": "error",
     "traceback": [
      "\u001b[1;36m  File \u001b[1;32m\"<tokenize>\"\u001b[1;36m, line \u001b[1;32m4\u001b[0m\n\u001b[1;33m    print(\"타고\")\u001b[0m\n\u001b[1;37m    ^\u001b[0m\n\u001b[1;31mIndentationError\u001b[0m\u001b[1;31m:\u001b[0m unindent does not match any outer indentation level\n"
     ]
    }
   ],
   "source": [
    "# 들여쓰기 오류\n",
    "if money:\n",
    "        print(\"택시를\")\n",
    "    print(\"타고\")\n",
    "        print(\"가자\")"
   ]
  },
  {
   "cell_type": "markdown",
   "metadata": {},
   "source": [
    "#### 조건문\n",
    "    money = 1\n",
    "    if money:"
   ]
  },
  {
   "cell_type": "markdown",
   "metadata": {},
   "source": [
    "#### 비교연산자\n",
    "비교연산자|설명\n",
    ":-:|:-:\n",
    "x<y|x가 y보다 작다.\n",
    "x>y|x가 y보다 크다.\n",
    "x==y|x와 y가 같다.\n",
    "x!=y|x와 y가 같지 않다.\n",
    "x>=y|x가 y보다 크거나 같다.\n",
    "x<=y|x가 y보다 작거나 같다.\n"
   ]
  },
  {
   "cell_type": "code",
   "execution_count": 7,
   "metadata": {},
   "outputs": [
    {
     "name": "stdout",
     "output_type": "stream",
     "text": [
      "걸어 가라.\n"
     ]
    }
   ],
   "source": [
    "# 만약 3000원 이상의 돈을 가지고 있으면 택시를 타고 그렇지 않으면 걸어가라.\n",
    "money = 2000\n",
    "if money >= 3000:\n",
    "    print(\"택시를 타고 가라.\")\n",
    "else:\n",
    "    print(\"걸어 가라.\")"
   ]
  },
  {
   "cell_type": "markdown",
   "metadata": {},
   "source": [
    "#### and, or, not\n",
    "연산자|설명\n",
    ":-:|:-:\n",
    "x or y|x와 y 둘 중 하나만 참이면 참이다.\n",
    "x and y|x와 y 모두 참이어야 참이다.\n",
    "not x|x가 거짓이면 참이다."
   ]
  },
  {
   "cell_type": "code",
   "execution_count": 8,
   "metadata": {},
   "outputs": [
    {
     "name": "stdout",
     "output_type": "stream",
     "text": [
      "택시를 타고 가라.\n"
     ]
    }
   ],
   "source": [
    "# 돈이 3000원 이상 있거나 카드가 있다면 택시를 타고 그렇지 않으면 걸어가라.\n",
    "money = 2000\n",
    "card = 1\n",
    "if money >= 3000 or card:\n",
    "    print(\"택시를 타고 가라.\")\n",
    "else:\n",
    "    print(\"걸어 가라.\")"
   ]
  },
  {
   "cell_type": "code",
   "execution_count": 10,
   "metadata": {},
   "outputs": [
    {
     "name": "stdout",
     "output_type": "stream",
     "text": [
      "True\n"
     ]
    },
    {
     "data": {
      "text/plain": [
       "False"
      ]
     },
     "execution_count": 10,
     "metadata": {},
     "output_type": "execute_result"
    }
   ],
   "source": [
    "# x in s, x not in s\n",
    "print(1 in [1,2,3])\n",
    "1 not in [1,2,3]"
   ]
  },
  {
   "cell_type": "code",
   "execution_count": 11,
   "metadata": {},
   "outputs": [
    {
     "name": "stdout",
     "output_type": "stream",
     "text": [
      "택시를 타고 가라\n"
     ]
    }
   ],
   "source": [
    "# 만약 주머니에 돈이 있으면 택시를 타고, 없으면 걸어가라.\n",
    "pocket = ['paper','cellphone','money']\n",
    "if 'money' in pocket:\n",
    "    print(\"택시를 타고 가라\")\n",
    "else:\n",
    "    print(\"걸어 가라\")"
   ]
  },
  {
   "cell_type": "code",
   "execution_count": 12,
   "metadata": {},
   "outputs": [],
   "source": [
    "# 조건문에서 아무 일도 하지 않게 설정하고 싶다면?\n",
    "pocket = ['paper','cellphone','money']\n",
    "if 'money' in pocket:\n",
    "    pass\n",
    "else:\n",
    "    print(\"카드를 꺼내라\")"
   ]
  },
  {
   "cell_type": "code",
   "execution_count": 13,
   "metadata": {},
   "outputs": [
    {
     "name": "stdout",
     "output_type": "stream",
     "text": [
      "택시를 타고 가라\n"
     ]
    }
   ],
   "source": [
    "# 다중 조건 판단 elif\n",
    "pocket = ['paper','cellphone']\n",
    "card = 1\n",
    "if 'money' in pocket:\n",
    "    print(\"택시를 타고 가라\")\n",
    "elif card:\n",
    "    print(\"택시를 타고 가라\")\n",
    "else:\n",
    "    print(\"걸어 가라\")"
   ]
  },
  {
   "cell_type": "markdown",
   "metadata": {},
   "source": [
    "#### while 문의 기본 구조\n",
    "    while <조건문>:\n",
    "        <수행할 문장1>\n",
    "        <수행할 문장2>\n",
    "        <수행할 문장3>\n",
    "        ...."
   ]
  },
  {
   "cell_type": "code",
   "execution_count": 18,
   "metadata": {},
   "outputs": [
    {
     "name": "stdout",
     "output_type": "stream",
     "text": [
      "나무를 1번 찍었습니다.\n",
      "나무를 2번 찍었습니다.\n",
      "나무를 3번 찍었습니다.\n",
      "나무를 4번 찍었습니다.\n",
      "나무를 5번 찍었습니다.\n",
      "나무를 6번 찍었습니다.\n",
      "나무를 7번 찍었습니다.\n",
      "나무를 8번 찍었습니다.\n",
      "나무를 9번 찍었습니다.\n",
      "나무를 10번 찍었습니다.\n",
      "나무 넘어갑니다.\n"
     ]
    }
   ],
   "source": [
    "# 열번 찍어 안 넘어 가는 나무 없다.\n",
    "treeHit = 1\n",
    "while treeHit <= 10:\n",
    "    print(\"나무를 %d번 찍었습니다.\" %treeHit)\n",
    "    if treeHit == 10:\n",
    "        print(\"나무 넘어갑니다.\")\n",
    "    treeHit = treeHit + 1"
   ]
  },
  {
   "cell_type": "markdown",
   "metadata": {},
   "source": [
    "#### while 문"
   ]
  },
  {
   "cell_type": "code",
   "execution_count": 19,
   "metadata": {},
   "outputs": [
    {
     "name": "stdout",
     "output_type": "stream",
     "text": [
      "돈을 받았으니 커피를 줍니다.\n",
      "남은 커피는 9개 입니다.\n",
      "돈을 받았으니 커피를 줍니다.\n",
      "남은 커피는 8개 입니다.\n",
      "돈을 받았으니 커피를 줍니다.\n",
      "남은 커피는 7개 입니다.\n",
      "돈을 받았으니 커피를 줍니다.\n",
      "남은 커피는 6개 입니다.\n",
      "돈을 받았으니 커피를 줍니다.\n",
      "남은 커피는 5개 입니다.\n",
      "돈을 받았으니 커피를 줍니다.\n",
      "남은 커피는 4개 입니다.\n",
      "돈을 받았으니 커피를 줍니다.\n",
      "남은 커피는 3개 입니다.\n",
      "돈을 받았으니 커피를 줍니다.\n",
      "남은 커피는 2개 입니다.\n",
      "돈을 받았으니 커피를 줍니다.\n",
      "남은 커피는 1개 입니다.\n",
      "돈을 받았으니 커피를 줍니다.\n",
      "남은 커피는 0개 입니다.\n",
      "커피가 다 떨어졌습니다. 판매를 중지합니다.\n"
     ]
    }
   ],
   "source": [
    "# break\n",
    "coffee = 10\n",
    "money = 300\n",
    "while money:\n",
    "    print(\"돈을 받았으니 커피를 줍니다.\")\n",
    "    coffee = coffee -1\n",
    "    print(\"남은 커피는 %d개 입니다.\" % coffee)\n",
    "    if not coffee:\n",
    "        print(\"커피가 다 떨어졌습니다. 판매를 중지합니다.\")\n",
    "        break"
   ]
  },
  {
   "cell_type": "code",
   "execution_count": 20,
   "metadata": {},
   "outputs": [
    {
     "name": "stdout",
     "output_type": "stream",
     "text": [
      "1\n",
      "3\n",
      "5\n",
      "7\n",
      "9\n"
     ]
    }
   ],
   "source": [
    "# continue\n",
    "a = 0\n",
    "while a < 10:\n",
    "    a = a+1\n",
    "    if a % 2 == 0: continue\n",
    "    print(a)"
   ]
  },
  {
   "cell_type": "markdown",
   "metadata": {},
   "source": [
    "#### 무한 루프\n",
    "    while True:\n",
    "        수행할 문장1\n",
    "        수행할 문장2\n",
    "        ...."
   ]
  },
  {
   "cell_type": "markdown",
   "metadata": {},
   "source": [
    "#### for 문의 기본 구조\n",
    "    for 변수 in 리스트(또는 튜플, 문자열):\n",
    "        수행할 문장1\n",
    "        수행할 문장2\n",
    "        ...."
   ]
  },
  {
   "cell_type": "code",
   "execution_count": 21,
   "metadata": {},
   "outputs": [
    {
     "name": "stdout",
     "output_type": "stream",
     "text": [
      "one\n",
      "two\n",
      "three\n"
     ]
    }
   ],
   "source": [
    "# 전형적인 for 문\n",
    "test_list = ['one','two','three']\n",
    "for i in test_list:\n",
    "    print(i)"
   ]
  },
  {
   "cell_type": "code",
   "execution_count": 23,
   "metadata": {},
   "outputs": [
    {
     "name": "stdout",
     "output_type": "stream",
     "text": [
      "3\n",
      "7\n",
      "11\n"
     ]
    }
   ],
   "source": [
    "# 다양한 for 문의 사용\n",
    "a = [(1,2),(3,4),(5,6)]\n",
    "for (first,last) in a:\n",
    "    print(first + last)"
   ]
  },
  {
   "cell_type": "code",
   "execution_count": 24,
   "metadata": {},
   "outputs": [
    {
     "name": "stdout",
     "output_type": "stream",
     "text": [
      "1번 학생은 합격입니다.\n",
      "2번 학생은 불합격입니다.\n",
      "3번 학생은 합격입니다.\n",
      "4번 학생은 불합격입니다.\n",
      "5번 학생은 합격입니다.\n"
     ]
    }
   ],
   "source": [
    "# 60점 넘으면 합격이고 그렇지 않으면 불합격.\n",
    "marks = [90,25,67,45,80]\n",
    "\n",
    "number = 0\n",
    "for mark in marks:\n",
    "    number = number + 1\n",
    "    if mark >= 60:\n",
    "        print(\"%d번 학생은 합격입니다.\"% number)\n",
    "    else:\n",
    "        print(\"%d번 학생은 불합격입니다.\"% number)"
   ]
  },
  {
   "cell_type": "code",
   "execution_count": 27,
   "metadata": {},
   "outputs": [
    {
     "name": "stdout",
     "output_type": "stream",
     "text": [
      "1번 학생 축하합니다. 합격입니다.\n",
      "3번 학생 축하합니다. 합격입니다.\n",
      "5번 학생 축하합니다. 합격입니다.\n"
     ]
    }
   ],
   "source": [
    "# for 문과 continue\n",
    "marks = [90,25,67,45,80]\n",
    "\n",
    "number = 0\n",
    "for mark in marks:\n",
    "    number = number + 1\n",
    "    if mark < 60: continue\n",
    "    print(\"%d번 학생 축하합니다. 합격입니다.\"% number)"
   ]
  },
  {
   "cell_type": "code",
   "execution_count": 29,
   "metadata": {},
   "outputs": [
    {
     "name": "stdout",
     "output_type": "stream",
     "text": [
      "55\n"
     ]
    }
   ],
   "source": [
    "# for 와 함께 자주 사용하는 range 함수\n",
    "sum = 0\n",
    "for i in range(1,11):\n",
    "    sum = sum + i\n",
    "    \n",
    "print(sum)"
   ]
  },
  {
   "cell_type": "code",
   "execution_count": 32,
   "metadata": {},
   "outputs": [
    {
     "name": "stdout",
     "output_type": "stream",
     "text": [
      "2 4 6 8 10 12 14 16 18 \n",
      "3 6 9 12 15 18 21 24 27 \n",
      "4 8 12 16 20 24 28 32 36 \n",
      "5 10 15 20 25 30 35 40 45 \n",
      "6 12 18 24 30 36 42 48 54 \n",
      "7 14 21 28 35 42 49 56 63 \n",
      "8 16 24 32 40 48 56 64 72 \n",
      "9 18 27 36 45 54 63 72 81 \n"
     ]
    }
   ],
   "source": [
    "# 구구단\n",
    "for i in range(2,10):\n",
    "    for j in range(1,10):\n",
    "        print(i*j,end=\" \")\n",
    "    print('')"
   ]
  },
  {
   "cell_type": "code",
   "execution_count": 42,
   "metadata": {},
   "outputs": [
    {
     "name": "stdout",
     "output_type": "stream",
     "text": [
      "[3, 6, 9, 12]\n",
      "[6, 12]\n"
     ]
    }
   ],
   "source": [
    "# 리스트 내포(list comprehension)\n",
    "a = list(range(1,5))\n",
    "result = [num * 3 for num in a]\n",
    "print(result)\n",
    "result = [num * 3 for num in a if num % 2 == 0]\n",
    "print(result)"
   ]
  },
  {
   "cell_type": "markdown",
   "metadata": {},
   "source": [
    "## 2.7 간단한 계산기 설계하기"
   ]
  },
  {
   "cell_type": "markdown",
   "metadata": {},
   "source": [
    "#### 설계 시작\n",
    "- 첫번째 단계\n",
    "        ㆍ계산기의 버튼을 한번에 하나씩 만드는 단계.\n",
    "        ㆍ숫자 1부터 시작.\n",
    "- 버튼의 설정이 변경될 때마다 함수를 다 고친다면?\n",
    "        ㆍ많은 코드를 수정해야 하는 단점\n",
    "        ㆍ코드의 상단에 버튼 클릭만 처리하는 함수 필요."
   ]
  },
  {
   "cell_type": "code",
   "execution_count": 45,
   "metadata": {},
   "outputs": [],
   "source": [
    "# Mycalculator_expt1.py\n",
    "\n",
    "from tkinter import *\n",
    "from decimal import *\n",
    "\n",
    "#### 메인:\n",
    "window = Tk()\n",
    "window.title(\"MyCalculator\")\n",
    "\n",
    "# 내용 수정이 가능한 엔트리 위젯을 사용해 결과 디스플레이 사용\n",
    "display = Entry(window,width=45,bg=\"light green\")\n",
    "display.grid()\n",
    "\n",
    "# 숫자 버튼 생성:\n",
    "def click1():\n",
    "    display.insert(END,\"1\")\n",
    "    \n",
    "Button(window,text='1',width=5,command=click1).grid(row=1,column=0)\n",
    "\n",
    "#### 메인 반복문 실행\n",
    "window.mainloop()"
   ]
  },
  {
   "cell_type": "markdown",
   "metadata": {},
   "source": [
    "- 두번째 단계\n",
    "        ㆍ반복문 사용해 간단하게 화면 구성\n",
    "        ㆍ계산기 어플리케이션은 9개의 버튼과 1개의 화면 생성\n",
    "        ㆍ화면의 짜임보다 행,열을 이용하는 변수 값 변화 관찰\n",
    "        ㆍ버튼을 눌러도 숫자가 표시되는 기능을 아직 구현하지 않음"
   ]
  },
  {
   "cell_type": "code",
   "execution_count": 57,
   "metadata": {},
   "outputs": [],
   "source": [
    "# MyCalculator_expt2.py\n",
    "\n",
    "from tkinter import *\n",
    "from decimal import *\n",
    "\n",
    "# 키 입력 함수:\n",
    "def click(key):\n",
    "    display.insert(END, key)\n",
    "    \n",
    "#### 메인:\n",
    "window = Tk()\n",
    "window.title(\"MyCalculator\")\n",
    "\n",
    "# top_row 프레임 생성\n",
    "top_row = Frame(window)\n",
    "top_row.grid(row=0,column=0,columnspan=2,sticky=N)\n",
    "\n",
    "# 수정 가능한 엔트리 위젯\n",
    "display = Entry(top_row,width=45,bg=\"light green\")\n",
    "display.grid()\n",
    "\n",
    "# 숫자 버튼 프레임 생성\n",
    "num_pad = Frame(window)\n",
    "num_pad.grid(row=1,column=0,sticky=W)\n",
    "\n",
    "# 숫자 버튼에 제공될 숫자:\n",
    "num_pad_list = [\n",
    "'7','8','9',\n",
    "'4','5','6',\n",
    "'1','2','3',\n",
    "'0','.','=']\n",
    "\n",
    "# 반복문으로 숫자 버튼 생성\n",
    "r = 0 # 행 카운터\n",
    "c = 0 # 열 카운터\n",
    "\n",
    "for btn_text in num_pad_list:\n",
    "    Button(num_pad,text=btn_text,width=5,command=click(btn_text)).grid(row=r,column=c)\n",
    "    c =c+ 1\n",
    "    if c > 2:\n",
    "        c = 0\n",
    "        r = r + 1\n",
    "        \n",
    "# 연산자 프레임 생성\n",
    "operator = Frame(window)\n",
    "operator.grid(row=1,column=1,sticky=E)\n",
    "\n",
    "operator_list =[\n",
    "'*','/',\n",
    "'+','-',\n",
    "'(',')',\n",
    "'C']\n",
    "\n",
    "# 반복문으로 연산자 버튼 생성\n",
    "r = 0 # 행 카운터\n",
    "c = 0 # 열 카운터\n",
    "for btn_text in operator_list:\n",
    "    Button(operator,text=btn_text,width=5,command=click).grid(row=r,column=c)\n",
    "    c =c+ 1\n",
    "    if c > 1:\n",
    "        c = 0\n",
    "        r = r + 1\n",
    "\n",
    "#### 메인 반복문 실행\n",
    "window.mainloop()"
   ]
  },
  {
   "cell_type": "markdown",
   "metadata": {},
   "source": [
    "#### 여러개의 프레임 사용하기\n",
    "- 버튼의 위치를 윈도우에 잘 배열하기 위해 사용\n",
    "- 버튼을 잘 배치하려면 여러 열에 걸쳐 사용하기도 함\n",
    "- 프레임이라는 다른 위젯에 버튼을 넣어 제어하는 편이 더 효율적 (그룹화)\n",
    "\n",
    "#### for 반복\n",
    "- 리스트, 사전{딕셔너리} 또는 튜플을 처리할 때 사용하기 좋은 방법\n",
    "- 코드 들여쓰기 하고 필요로 하는 버튼 수 만큼 반복\n",
    "- 각 버튼을 btn_text 사용\n",
    "- btn_text 변수는 num_pad_list 값 사용\n",
    "\n",
    "#### 코드가 왜 예상과 다르게 동작하는가?\n",
    "- 단서 1 : 버튼 누를 때 아무 반응이 없음\n",
    "        ㆍ버튼 누를 때 Click() 함수에 연결하는 명령 동작하지 않음\n",
    "- 단서 2 : 애플리케이션 처음 실행하면 7894561230.= 표시\n",
    "        ㆍ 버튼이 준비되고 눌렀을 때만 출력이 일어나도록 수정\n",
    "        \n",
    "#### 연산자 버튼 배치 \n",
    "- 숫자 이외에 더하기, 곱하기 등의 계산을 수행할 버튼\n",
    "- 버튼이 계산기처럼 화면에 보이게 하는 것 까지가 목적\n",
    "- 연산자 프레임 생성 + 반복문 안에서 연산자 버튼 생성"
   ]
  },
  {
   "cell_type": "markdown",
   "metadata": {},
   "source": [
    "# 3장 프로그램 입력과 출력\n",
    "\n",
    "- 3.1 함수, 입력과 출력, 파일 읽고 쓰기\n",
    "- 3.2 제대로 동작하는 계산기\n",
    "- 3.3 사용자 정의 계산기\n",
    "- 3.4 알고리즘"
   ]
  },
  {
   "cell_type": "markdown",
   "metadata": {},
   "source": [
    "## 3.1 함수, 입력과 출력, 파일 읽고 쓰기"
   ]
  },
  {
   "cell_type": "markdown",
   "metadata": {},
   "source": [
    "- 파이썬 함수의 구조\n",
    "        def 함수명(입력 인수):\n",
    "            <수행할 문자1>\n",
    "            <수행할 문자2>\n",
    "            ...."
   ]
  },
  {
   "cell_type": "code",
   "execution_count": 58,
   "metadata": {},
   "outputs": [
    {
     "name": "stdout",
     "output_type": "stream",
     "text": [
      "7\n"
     ]
    }
   ],
   "source": [
    "# 일반적인 함수\n",
    "def sum(a,b):\n",
    "    result = a + b\n",
    "    return result\n",
    "\n",
    "a = sum(3,4)\n",
    "print(a)"
   ]
  },
  {
   "cell_type": "code",
   "execution_count": 59,
   "metadata": {},
   "outputs": [
    {
     "name": "stdout",
     "output_type": "stream",
     "text": [
      "Hi\n"
     ]
    }
   ],
   "source": [
    "# 입력 값이 없는 함수\n",
    "def say():\n",
    "    return 'Hi'\n",
    "\n",
    "a = say()\n",
    "print(a)"
   ]
  },
  {
   "cell_type": "code",
   "execution_count": 62,
   "metadata": {},
   "outputs": [
    {
     "name": "stdout",
     "output_type": "stream",
     "text": [
      "3,4의 합은 7 입니다.\n",
      "None\n"
     ]
    }
   ],
   "source": [
    "# 결과 값이 없는 함수\n",
    "def sum(a,b):\n",
    "    print(\"%d,%d의 합은 %d 입니다.\"% (a,b,a+b))\n",
    "    \n",
    "    \n",
    "a = sum(3,4)\n",
    "print(a)"
   ]
  },
  {
   "cell_type": "code",
   "execution_count": 63,
   "metadata": {},
   "outputs": [
    {
     "name": "stdout",
     "output_type": "stream",
     "text": [
      "Hi\n"
     ]
    }
   ],
   "source": [
    "# 입력값도 결과값도 없는 함수\n",
    "def say():\n",
    "    print('Hi')\n",
    "    \n",
    "say()"
   ]
  },
  {
   "cell_type": "markdown",
   "metadata": {},
   "source": [
    "- 입력값이 몇개가 될지 모를 때는?\n",
    "        ㆍdef 함수명(＊입력변수):\n",
    "             수행할 문장\n",
    "             ....\n",
    "        ㆍ입력 변수 명 앞에 ＊를 붙이면 입력 값들을 전부 모아서 튜플로 만들어 준다."
   ]
  },
  {
   "cell_type": "code",
   "execution_count": 74,
   "metadata": {},
   "outputs": [
    {
     "name": "stdout",
     "output_type": "stream",
     "text": [
      "6\n",
      "45\n",
      "6\n",
      "362880\n"
     ]
    }
   ],
   "source": [
    "# 여러개의 입력값\n",
    "def sum_many(*args):\n",
    "    sum = 0\n",
    "    for i in args:\n",
    "        sum = sum + i\n",
    "    return sum\n",
    "\n",
    "result = sum_many(1,2,3)\n",
    "print(result)\n",
    "result = sum_many(1,2,3,4,5,6,7,8,9)\n",
    "print(result)\n",
    "\n",
    "def sum_mul(choice,*args):\n",
    "    if choice ==\"sum\":\n",
    "        result = 0\n",
    "        for i in args:\n",
    "            result = result + i\n",
    "    elif choice == \"mul\":\n",
    "        result = 1\n",
    "        for i in args:\n",
    "            result = result * i\n",
    "    return result\n",
    "\n",
    "result = sum_mul('mul',1,2,3)\n",
    "print(result)\n",
    "result = sum_mul('mul',1,2,3,4,5,6,7,8,9)\n",
    "print(result)"
   ]
  },
  {
   "cell_type": "code",
   "execution_count": 78,
   "metadata": {},
   "outputs": [
    {
     "name": "stdout",
     "output_type": "stream",
     "text": [
      "(7, 12)\n"
     ]
    }
   ],
   "source": [
    "# 함수의 값은 언제나 하나이다.\n",
    "def sum_and_mul(a,b):\n",
    "    return a+b,a*b\n",
    "\n",
    "result = sum_and_mul(3,4)\n",
    "print(result)"
   ]
  },
  {
   "cell_type": "code",
   "execution_count": 79,
   "metadata": {},
   "outputs": [
    {
     "name": "stdout",
     "output_type": "stream",
     "text": [
      "(7, 12)\n",
      "7 12\n"
     ]
    }
   ],
   "source": [
    "# 만약 하나의 튜플 값을 2개의 결과 값처럼 받고 싶다면?\n",
    "def sum_and_mul(a,b):\n",
    "    return a+b,a*b\n",
    "\n",
    "result = sum_and_mul(3,4)\n",
    "print(result)\n",
    "sum,mul = sum_and_mul(3,4)\n",
    "print(sum,mul)"
   ]
  },
  {
   "cell_type": "code",
   "execution_count": 80,
   "metadata": {},
   "outputs": [
    {
     "name": "stdout",
     "output_type": "stream",
     "text": [
      "7\n"
     ]
    }
   ],
   "source": [
    "# return문을 2번 사용하면 2개의 결과값을 돌려주지 않을까?\n",
    "# - 참 어리석은 함수이다.\n",
    "def sum_and_mul(a,b):\n",
    "    return a+b\n",
    "    return a*b\n",
    "\n",
    "result = sum_and_mul(3,4)\n",
    "print(result)"
   ]
  },
  {
   "cell_type": "code",
   "execution_count": 83,
   "metadata": {},
   "outputs": [
    {
     "name": "stdout",
     "output_type": "stream",
     "text": [
      "나의 별명은 야호 입니다.\n"
     ]
    }
   ],
   "source": [
    "#return의 또 다른 쓰임새\n",
    "def say(nick):\n",
    "    if nick==\"바보\":\n",
    "        return\n",
    "    print(\"나의 별명은 %s 입니다.\"% nick)\n",
    "    \n",
    "say(\"야호\")\n",
    "say(\"바보\")"
   ]
  },
  {
   "cell_type": "code",
   "execution_count": 7,
   "metadata": {},
   "outputs": [
    {
     "name": "stdout",
     "output_type": "stream",
     "text": [
      "나의 이름은 박재영 입니다.\n",
      "나이는 27살 입니다.\n",
      "남자입니다.\n"
     ]
    }
   ],
   "source": [
    "# 입력 인수에 초기 값 미리 설정하기\n",
    "def say_myself(name,old,man=True):\n",
    "    print(\"나의 이름은 %s 입니다.\"% name)\n",
    "    print(\"나이는 %d살 입니다.\"% old)\n",
    "    if man:\n",
    "        print(\"남자입니다.\")\n",
    "    else:\n",
    "        print(\"여자입니다.\")\n",
    "        \n",
    "say_myself(\"박재영\",27,True)"
   ]
  },
  {
   "cell_type": "code",
   "execution_count": 9,
   "metadata": {},
   "outputs": [
    {
     "ename": "SyntaxError",
     "evalue": "non-default argument follows default argument (<ipython-input-9-dabbd710ee11>, line 2)",
     "output_type": "error",
     "traceback": [
      "\u001b[1;36m  File \u001b[1;32m\"<ipython-input-9-dabbd710ee11>\"\u001b[1;36m, line \u001b[1;32m2\u001b[0m\n\u001b[1;33m    def say_myself(name,man=True,old):\u001b[0m\n\u001b[1;37m                   ^\u001b[0m\n\u001b[1;31mSyntaxError\u001b[0m\u001b[1;31m:\u001b[0m non-default argument follows default argument\n"
     ]
    }
   ],
   "source": [
    "# 함수 입력 인수에 초기값을 설정할 때 주의사항\n",
    "\n",
    "def say_myself(name,man=True,old):\n",
    "    print(\"나의 이름은 %s 입니다.\"% name)\n",
    "    print(\"나이는 %d살 입니다.\"% old)\n",
    "    if man:\n",
    "        print(\"남자입니다.\")\n",
    "    else:\n",
    "        print(\"여자입니다.\")\n",
    "        \n",
    "say_myself(\"박재영\",True,old)\n",
    "\n",
    "# 초기화 시키고 싶은 입력 변수들을 항상 뒤쪽에 위치시켜야 한다."
   ]
  },
  {
   "cell_type": "code",
   "execution_count": 19,
   "metadata": {},
   "outputs": [
    {
     "name": "stdout",
     "output_type": "stream",
     "text": [
      "1\n",
      "1\n"
     ]
    }
   ],
   "source": [
    "# 함수 안에서 선언된 변수의 효력 범위\n",
    "a = 1 \n",
    "def vartest(a):\n",
    "    a = a + 1\n",
    "    \n",
    "vartest(3)\n",
    "print(a)\n",
    "vartest(a)\n",
    "print(a)"
   ]
  },
  {
   "cell_type": "code",
   "execution_count": 21,
   "metadata": {},
   "outputs": [
    {
     "name": "stdout",
     "output_type": "stream",
     "text": [
      "2\n",
      "2\n"
     ]
    }
   ],
   "source": [
    "# 함수 안에서 함수 밖의 변수를 변경하는 방법\n",
    "a = 1\n",
    "def vartest(a):\n",
    "    a = a + 1\n",
    "    return a\n",
    "\n",
    "a = vartest(a)\n",
    "print(a)\n",
    "\n",
    "a = 1\n",
    "def vartest():\n",
    "    global a\n",
    "    a = a + 1\n",
    "    \n",
    "vartest()\n",
    "print(a)"
   ]
  },
  {
   "cell_type": "code",
   "execution_count": 23,
   "metadata": {},
   "outputs": [
    {
     "name": "stdout",
     "output_type": "stream",
     "text": [
      "안녕하세요\n"
     ]
    },
    {
     "data": {
      "text/plain": [
       "'안녕하세요'"
      ]
     },
     "execution_count": 23,
     "metadata": {},
     "output_type": "execute_result"
    }
   ],
   "source": [
    "# input의 사용\n",
    "\n",
    "a = input()\n",
    "a"
   ]
  },
  {
   "cell_type": "code",
   "execution_count": 24,
   "metadata": {},
   "outputs": [
    {
     "name": "stdout",
     "output_type": "stream",
     "text": [
      "숫자를 입력하세요: 3\n",
      "3\n"
     ]
    }
   ],
   "source": [
    "# 프롬프트를 띄워서 사용자 입력 받기\n",
    "\n",
    "number = input(\"숫자를 입력하세요: \")\n",
    "print(number)"
   ]
  },
  {
   "cell_type": "code",
   "execution_count": 26,
   "metadata": {},
   "outputs": [
    {
     "name": "stdout",
     "output_type": "stream",
     "text": [
      "Lifeistoo short\n",
      "Lifeistoo short\n"
     ]
    }
   ],
   "source": [
    "# print 문\n",
    "# - 큰 따옴표로 둘러싸인 문자열은 + 연산과 동일하다.\n",
    "\n",
    "print(\"Life\"\"is\"\"too short\")\n",
    "print(\"Life\"+\"is\"+\"too short\")"
   ]
  },
  {
   "cell_type": "code",
   "execution_count": 27,
   "metadata": {},
   "outputs": [
    {
     "name": "stdout",
     "output_type": "stream",
     "text": [
      "life is too short\n"
     ]
    }
   ],
   "source": [
    "# 문자열 띄어쓰기는 콤마로 한다.\n",
    "\n",
    "print(\"life\", \"is\", \"too short\")"
   ]
  },
  {
   "cell_type": "code",
   "execution_count": 28,
   "metadata": {},
   "outputs": [
    {
     "name": "stdout",
     "output_type": "stream",
     "text": [
      "0 1 2 3 4 5 6 7 8 9 "
     ]
    }
   ],
   "source": [
    "# 한줄에 결과 값 출력하기\n",
    "\n",
    "for i in range(10):\n",
    "    print(i,end=' ')"
   ]
  },
  {
   "cell_type": "code",
   "execution_count": 29,
   "metadata": {},
   "outputs": [],
   "source": [
    "#파일 생성하기\n",
    "# - 파일 객체 = open(파일이름,파일 열기 모드)\n",
    "\n",
    "f = open(\"새파일.txt\",'w')\n",
    "f.close()"
   ]
  },
  {
   "cell_type": "markdown",
   "metadata": {},
   "source": [
    "파일열기모드|설명\n",
    ":-:|:-\n",
    "r|읽기모드 - 파일을 읽기만 할 때 사용\n",
    "w|쓰기모드 - 파일에 내용을 쓸 때 사용\n",
    "a|추가모드 - 파일의 마지막에 새로운 내용을 추가시킬 때 사용"
   ]
  },
  {
   "cell_type": "code",
   "execution_count": 53,
   "metadata": {},
   "outputs": [
    {
     "data": {
      "text/plain": [
       "<function TextIOWrapper.close()>"
      ]
     },
     "execution_count": 53,
     "metadata": {},
     "output_type": "execute_result"
    }
   ],
   "source": [
    "# 파일을 쓰기 모드로 열어 출력값 적기\n",
    "\n",
    "f = open(\"C:/Users/pjwpy/Documents/PythonTest/새파일.txt\",'w') # ← 파일경로\n",
    "for i in range(1,11):\n",
    "    data = \"%d번째 줄입니다.\\n\" % i\n",
    "    f.write(data)\n",
    "f.close"
   ]
  },
  {
   "cell_type": "code",
   "execution_count": 54,
   "metadata": {},
   "outputs": [
    {
     "name": "stdout",
     "output_type": "stream",
     "text": [
      "1번째 줄입니다.\n",
      "\n",
      "2번째 줄입니다.\n",
      "\n",
      "3번째 줄입니다.\n",
      "\n",
      "4번째 줄입니다.\n",
      "\n",
      "5번째 줄입니다.\n",
      "\n",
      "6번째 줄입니다.\n",
      "\n",
      "7번째 줄입니다.\n",
      "\n",
      "8번째 줄입니다.\n",
      "\n",
      "9번째 줄입니다.\n",
      "\n",
      "10번째 줄입니다.\n",
      "\n"
     ]
    },
    {
     "data": {
      "text/plain": [
       "<function TextIOWrapper.close()>"
      ]
     },
     "execution_count": 54,
     "metadata": {},
     "output_type": "execute_result"
    }
   ],
   "source": [
    "# readline() 함수\n",
    "\n",
    "f = open(\"C:/Users/pjwpy/Documents/PythonTest/새파일.txt\",'r')\n",
    "while True:\n",
    "    line = f.readline()\n",
    "    if not line: break\n",
    "    print(line)\n",
    "f.close"
   ]
  },
  {
   "cell_type": "code",
   "execution_count": 55,
   "metadata": {},
   "outputs": [
    {
     "name": "stdout",
     "output_type": "stream",
     "text": [
      "1번째 줄입니다.\n",
      "\n",
      "2번째 줄입니다.\n",
      "\n",
      "3번째 줄입니다.\n",
      "\n",
      "4번째 줄입니다.\n",
      "\n",
      "5번째 줄입니다.\n",
      "\n",
      "6번째 줄입니다.\n",
      "\n",
      "7번째 줄입니다.\n",
      "\n",
      "8번째 줄입니다.\n",
      "\n",
      "9번째 줄입니다.\n",
      "\n",
      "10번째 줄입니다.\n",
      "\n"
     ]
    },
    {
     "data": {
      "text/plain": [
       "<function TextIOWrapper.close()>"
      ]
     },
     "execution_count": 55,
     "metadata": {},
     "output_type": "execute_result"
    }
   ],
   "source": [
    "# readlines() 함수 이용하기\n",
    "# - 파일의 모든 라인을 읽어서 각각의 줄을 요소로 갖는 리스트로 리턴한다.\n",
    "\n",
    "f = open(\"C:/Users/pjwpy/Documents/PythonTest/새파일.txt\",'r')\n",
    "lines = f.readlines()\n",
    "for line in lines:\n",
    "    print(line)\n",
    "f.close"
   ]
  },
  {
   "cell_type": "code",
   "execution_count": 56,
   "metadata": {},
   "outputs": [
    {
     "name": "stdout",
     "output_type": "stream",
     "text": [
      "1번째 줄입니다.\n",
      "2번째 줄입니다.\n",
      "3번째 줄입니다.\n",
      "4번째 줄입니다.\n",
      "5번째 줄입니다.\n",
      "6번째 줄입니다.\n",
      "7번째 줄입니다.\n",
      "8번째 줄입니다.\n",
      "9번째 줄입니다.\n",
      "10번째 줄입니다.\n",
      "\n"
     ]
    },
    {
     "data": {
      "text/plain": [
       "<function TextIOWrapper.close()>"
      ]
     },
     "execution_count": 56,
     "metadata": {},
     "output_type": "execute_result"
    }
   ],
   "source": [
    "# read() 함수 이용하기\n",
    "# - 파일의 내용 전체를 문자열로 리턴 한다.\n",
    "\n",
    "f = open(\"C:/Users/pjwpy/Documents/PythonTest/새파일.txt\",'r')\n",
    "data = f.read()\n",
    "print(data)\n",
    "f.close"
   ]
  },
  {
   "cell_type": "code",
   "execution_count": 59,
   "metadata": {},
   "outputs": [
    {
     "data": {
      "text/plain": [
       "<function TextIOWrapper.close()>"
      ]
     },
     "execution_count": 59,
     "metadata": {},
     "output_type": "execute_result"
    }
   ],
   "source": [
    "# 파일에 새로운 내용 추가하기\n",
    "\n",
    "f = open(\"C:/Users/pjwpy/Documents/PythonTest/새파일.txt\",'a')\n",
    "for i in range(11,20):\n",
    "    data = \"%d번째 줄입니다.\\n\" % i\n",
    "    f.write(data)\n",
    "f.close"
   ]
  },
  {
   "cell_type": "code",
   "execution_count": 60,
   "metadata": {},
   "outputs": [],
   "source": [
    "# with 문과 함께 사용하기\n",
    "# - 파일을 열고 닫는 것을 자동으로 처리해준다.\n",
    "# - with문을 이용하면 with블록을 벗어나는 순간 열린 파일 객체 f가 자동으로 close되어 편리하다.\n",
    "\n",
    "with open(\"foo.txt\",'w') as f:\n",
    "    f.write(\"Life is too short, you need python\")"
   ]
  },
  {
   "cell_type": "markdown",
   "metadata": {},
   "source": [
    "## 3.2 제대로 동작되는 계산기"
   ]
  },
  {
   "cell_type": "markdown",
   "metadata": {},
   "source": [
    "#### 인수는 전달되어야\n",
    "- 버튼 위젯에 함수를 제공할 때는 괄호 삭제\n",
    "- 버튼을 누르던 누리지 않던 함수는 호출\n",
    "- 하지만 반복문 안에서 click() 함수에 인수 전달은 무리\n",
    "        ㆍ괄호가 없으면 결국 인수를 함수에 전달 불가\n",
    "        ㆍ함수에 기본 값 부여하는 방법 이용"
   ]
  },
  {
   "cell_type": "code",
   "execution_count": 2,
   "metadata": {},
   "outputs": [
    {
     "name": "stdout",
     "output_type": "stream",
     "text": [
      "two\n",
      "None\n",
      "3\n",
      "None\n",
      "default text\n",
      "None\n"
     ]
    }
   ],
   "source": [
    "def my_function(x='default text'):\n",
    "    print(x)\n",
    "    \n",
    "print(my_function(\"two\"))\n",
    "print(my_function(3))\n",
    "print(my_function())"
   ]
  },
  {
   "cell_type": "markdown",
   "metadata": {},
   "source": [
    "#### 완벽한 click() 함수\n",
    "- 계산기 버튼의 세 가지 유형\n",
    "        ㆍ버튼이 계산기의 display 엔트리 위젯을 사용한다는 것이 전제된 기능 정리\n",
    "        ㆍdisplay 엔트리 위젯에 내용 추가하는 버튼\n",
    "        ㆍ= 버튼을 누르면 수식을 평가해 display 엔트리 위젯에 표시\n",
    "        ㆍC 버튼을 누르면 display 엔트리 위젯의 내용 삭제"
   ]
  },
  {
   "cell_type": "code",
   "execution_count": 3,
   "metadata": {},
   "outputs": [],
   "source": [
    "# 버튼 동작 처리가 끝난 후 기능을 설명하는 함수\n",
    "\n",
    "# 키 입력 함수:\n",
    "\n",
    "def click(key):\n",
    "    # = 버튼을 눌렀을 때 계산 수행:\n",
    "    if key == \"=\":\n",
    "        result = str(eval(display.get())) # 계산 결과와 엔트리 내용\n",
    "        display.insert(END,\"=\"+result)\n",
    "    # C 버튼이 눌러졌을 때 display 엔트리 위젯 내용 비움:\n",
    "    elif key == 'C':\n",
    "        display.delete(0,END)\n",
    "        \n",
    "    # 그 외 다른 키를 눌렀을 때 실행될 기본 동작:\n",
    "    else:\n",
    "        display.insert(END,key)"
   ]
  },
  {
   "cell_type": "markdown",
   "metadata": {},
   "source": [
    "#### Code Box 4.4\n",
    "- else : 구문 이후의 코드\n",
    "        ㆍdisplay 엔트리 위젯의 내용 끝에 버튼 값이나 기호 삽입\n",
    "\n",
    "- 코드에서 지우기 키 처리\n",
    "        ㆍelif 문 뒤에 나오며 display 엔트리 위젯에서 첫 번째 문자 위치부터 END 지정해 모든 문자 삭제\n",
    "        \n",
    "- = 버튼(if 구문뒤에)\n",
    "        ㆍ파이썬 언어가 계산을 할 때 꽤 쓸만하다는 증거"
   ]
  },
  {
   "cell_type": "markdown",
   "metadata": {},
   "source": [
    "#### 테스트와 디버깅\n",
    "- 계산에 문제가 있는지 살펴보고 기록 (디버깅 표)\n",
    "        ㆍ 응답이 출력되지 않거나 다른 계산 결과가 나오거나 하는 경우 오류 찾아 수정\n",
    "        ㆍ 디버깅 표 예시\n",
    "수식|결과|정상 여부\n",
    ":-:|:-:|:-:\n",
    "7＊2|14|√\n",
    "7/2|3.5|√\n",
    "7+2\n",
    "7＊(7+2)\n",
    "10/2\n",
    "10/6\n",
    "10/3\n",
    "\n",
    "        \n",
    "- 오류 잡기\n",
    "        ㆍ컴퓨터는 2진수로 계산하고, 사람은 10진수로 계산하여 나오는 오류\n",
    "        ㆍ반올림 소수점 자릿수 제공 전에 꼭 슬라이싱 필요\n",
    "        ㆍ짧은 코드의 아름다움\n",
    "        ㆍ→ result = str(eval(display.get()))[0:10]"
   ]
  },
  {
   "cell_type": "code",
   "execution_count": 9,
   "metadata": {},
   "outputs": [],
   "source": [
    "# 제대로 동작되는 계산기\n",
    "\n",
    "from tkinter import *\n",
    "\n",
    "# 키 입력 함수:\n",
    "def click(key):\n",
    "    # = 버튼을 눌렀을 때 계산 수행:\n",
    "    if key == \"=\":\n",
    "        result = str(eval(display.get()))[0:10] # 계산 결과와 엔트리 내용\n",
    "        display.insert(END,\"=\"+result)\n",
    "    # C 버튼이 눌러졌을 때 display 엔트리 위젯 내용 비움:\n",
    "    elif key == 'C':\n",
    "        display.delete(0,END)\n",
    "        \n",
    "    # 그 외 다른 키를 눌렀을 때 실행될 기본 동작:\n",
    "    else:\n",
    "        display.insert(END,key)\n",
    "    \n",
    "#### 메인:\n",
    "window = Tk()\n",
    "window.title(\"MyCalculator\")\n",
    "\n",
    "# top_row 프레임 생성\n",
    "top_row = Frame(window)\n",
    "top_row.grid(row=0,column=0,columnspan=2,sticky=N)\n",
    "\n",
    "# 수정 가능한 엔트리 위젯\n",
    "display = Entry(top_row,width=45,bg=\"light green\")\n",
    "display.grid()\n",
    "\n",
    "# 숫자 버튼 프레임 생성\n",
    "num_pad = Frame(window)\n",
    "num_pad.grid(row=1,column=0,sticky=W)\n",
    "\n",
    "# 숫자 버튼에 제공될 숫자:\n",
    "num_pad_list = [\n",
    "'7','8','9',\n",
    "'4','5','6',\n",
    "'1','2','3',\n",
    "'0','.','=']\n",
    "\n",
    "# 반복문으로 숫자 버튼 생성\n",
    "r = 0 # 행 카운터\n",
    "c = 0 # 열 카운터\n",
    "\n",
    "for btn_text in num_pad_list:\n",
    "    def cmd(x=btn_text):\n",
    "        click(x)\n",
    "    Button(num_pad,text=btn_text,width=5,command=cmd).grid(row=r,column=c)\n",
    "    c = c+ 1\n",
    "    if c > 2:\n",
    "        c = 0\n",
    "        r = r + 1\n",
    "        \n",
    "# 연산자 프레임 생성\n",
    "operator = Frame(window)\n",
    "operator.grid(row=1,column=1,sticky=E)\n",
    "\n",
    "operator_list =[\n",
    "'*','/',\n",
    "'+','-',\n",
    "'(',')',\n",
    "'C']\n",
    "\n",
    "# 반복문으로 연산자 버튼 생성\n",
    "r = 0 # 행 카운터\n",
    "c = 0 # 열 카운터\n",
    "for btn_text in operator_list:\n",
    "    def cmd(x=btn_text):\n",
    "        click(x)\n",
    "    Button(operator,text=btn_text,width=5,command=cmd).grid(row=r,column=c)\n",
    "    c = c+ 1\n",
    "    if c > 1:\n",
    "        c = 0\n",
    "        r = r + 1\n",
    "\n",
    "#### 메인 반복문 실행\n",
    "window.mainloop()"
   ]
  },
  {
   "cell_type": "markdown",
   "metadata": {},
   "source": [
    "## 3.3 사용자 정의 계산기"
   ]
  },
  {
   "cell_type": "markdown",
   "metadata": {},
   "source": [
    "#### 컨테이너에 버튼 세트 추가하기\n",
    "- 상수 버튼 추가"
   ]
  },
  {
   "cell_type": "code",
   "execution_count": null,
   "metadata": {},
   "outputs": [],
   "source": [
    "# 상수 프레임 생성\n",
    "\n",
    "constants = Frame(window)\n",
    "constants.grid(row=3,column=0,sticky=W)\n",
    "\n",
    "costants_list = [\n",
    "    'p1',\n",
    "    '빛의 이동 속도 (m/s)',\n",
    "    '소리의 이동 속도 (m/s)',\n",
    "    '태양과의 평균 거리 (km)']\n",
    "\n",
    "# 반복문과 함께 상수 버튼 생성\n",
    "r = 0\n",
    "c = 0\n",
    "\n",
    "for btn_text in constants_list:\n",
    "    def cmd(x=btn_text):\n",
    "        click(x)\n",
    "    Button(constants, text=btn_text, width=22,command=cmd).grid(row=r,column=c)\n",
    "    r = r + 1"
   ]
  },
  {
   "cell_type": "markdown",
   "metadata": {},
   "source": [
    "#### 버튼에 상수 붙이기\n",
    "- 버튼에 상수를 붙이는 것은 click() 함수에 새로운 버튼이 눌렀을 때의 처리를 덧붙이면 OK"
   ]
  },
  {
   "cell_type": "code",
   "execution_count": null,
   "metadata": {},
   "outputs": [],
   "source": [
    "# 첫번째 상수 버튼에 대한 연결 코드:\n",
    "elif key == constants_list[0]:\n",
    "    display.insert(END, \"3.141592654\")"
   ]
  },
  {
   "cell_type": "markdown",
   "metadata": {},
   "source": [
    "#### 조직화된 함수 벝튼을 얻기\n",
    "- 모듈 기능 사용 : 별도 파일에 함수 저장해 편의 도모\n",
    "- 프로그램 시작 부분에서 모듈 파일을 가져오도록 추가"
   ]
  },
  {
   "cell_type": "code",
   "execution_count": null,
   "metadata": {},
   "outputs": [],
   "source": [
    "# myCalculator.py\n",
    "\n",
    "from tkinter import *\n",
    "import calc_functions"
   ]
  },
  {
   "cell_type": "markdown",
   "metadata": {},
   "source": [
    "## 3.4 알고리즘"
   ]
  },
  {
   "cell_type": "markdown",
   "metadata": {},
   "source": [
    "#### 알고리즘 이란?\n",
    "- 단계적인 해결책 또는 문제점 해결하는 일련의 규칙\n",
    "- Ex) 커피 한 잔을 만드는 알고리즘\n",
    "        1. 머그컵을 준비합니다.\n",
    "        2. 머그컵에 인스턴트 커피 1 숟가락을 넣습니다.\n",
    "        3. 주전자에 물을 넣습니다.\n",
    "        4. 물을 끓입니다.\n",
    "        5. 끓인 물을 머그컵의 상단 2cm 전까지 붓습니다.\n",
    "        6. 냉장고에서 우유를 꺼내옵니다.\n",
    "        7. 머그컵에 우유를 1cm 만큼 붓습니다.\n",
    "        8. 냉장고에 우유를 도로 넣습니다.\n",
    "        \n",
    "#### 팩토리얼이란?\n",
    "        ㆍ5! = 5 x 4 x 3 x 2 x 1 = 120\n",
    "        \n",
    "#### 알고리즘을 작성해 보면?\n",
    "        1. 변수 n에 대상 숫자를 할당합니다.\n",
    "        2. 답변을 저장할 변수 ans를 생성합니다.\n",
    "        3. 변수 ans에 변수 n의 값을 저장합니다.\n",
    "        4. 변수 n에서 1씩 줄입니다.\n",
    "        5. 반복될 때마다 ans에 n을 곱하고 그 값을 ans에 저장합니다.\n",
    "        6. n이 1이 될 때까지 반복합니다.\n",
    "        \n",
    "#### 팩토리얼 함수 작성\n",
    "- ####계산기 스크립트는 \"문자열\"을 전달함\n",
    "        ㆍ문자열을 정수로 형 변환하는 단계 추가해야 한다."
   ]
  },
  {
   "cell_type": "code",
   "execution_count": 14,
   "metadata": {},
   "outputs": [],
   "source": [
    "# 팩터리얼 함수:\n",
    "\n",
    "def factorial(n):\n",
    "    n=int(n) # 문자열 인수를 숫자 인수로 형변환\n",
    "    ans=n # 반복문을 시작하기 전에 ans 변수에 초깃값 설정\n",
    "    while n>1:\n",
    "        ans=ans*(n-1)\n",
    "        n=n-1\n",
    "    return ans"
   ]
  },
  {
   "cell_type": "markdown",
   "metadata": {},
   "source": [
    "#### 디버깅 표를 그려 결과 알아보기\n",
    "- 디버깅표\n",
    "\n",
    "테스트값|예상 값|실제 결과값\n",
    ":-:|:-:|:-:\n",
    "5|120|120\n",
    "0|1|0\n",
    "7-2\n",
    "3.2\n",
    "50\n",
    "5+2=7"
   ]
  },
  {
   "cell_type": "markdown",
   "metadata": {},
   "source": [
    "# 4장 파이썬 날개달기\n",
    "\n",
    "- 4.1 비밀번호 맞추기\n",
    "- 4.2 파이썬 프로그램의 핵심, 클래스\n",
    "- 4.3 모듈, 패키지, 예외처리\n",
    "- 4.4 내장함수, 외장함수\n",
    "- 4.5 객체, 클래스와 팩토리\n",
    "- 4.6 제대로 된 파이썬 앱 만들기 1\n",
    "- 4.7 제대로 된 파이썬 앱 만들기 2\n",
    "- 4.8 제대로 된 파이썬 앱 만들기 3"
   ]
  },
  {
   "cell_type": "markdown",
   "metadata": {},
   "source": [
    "## 4.1 비밀번호 맞추기\n",
    "\n",
    "#### 알고리즘\n",
    "- 플레이어에게 내 비밀번호를 알아 맞춰보라고 묻기\n",
    "- 프로그램은 플레이어가 비밀번호를 입력할 때까지 기다린 다음 비밀번호를 변수에 저장\n",
    "- 입력한 비밀번호를 컴퓨터의 비밀번호와 비교\n",
    "- 입력한 비밀번호가 컴퓨터의 비밀번호와 같다면?\n",
    "        ㆍ축하 인사 출력\n",
    "- 틀리면 임의의 메세지를 출력\n",
    "- 플레이어에게 재시도 할 지 질문\n",
    "\n",
    "#### IDLE 편하게 사용하기(IDLE로 사용할 시)\n",
    "- File 메뉴에서 New Window 선택 → 스크립트 모드 진입\n",
    "- 대화형 모드의 콘솔과 새 윈도우의 스크립트 모드 창을 재정렬하여 편리하게 사용\n",
    "\n",
    "#### 주석\n",
    "- IDLE 안에서 빨간색으로 표시\n",
    "- 사람이 코드를 읽는 데 도움을 주기 위한 목적으로 작성\n",
    "- 항상 해시 기호 #로 시작\n",
    "\n",
    "#### 모듈\n",
    "- 한 장소에서 유용한 함수와 데이터를 모아둔 것\n",
    "- 때로는 필요한 기능을 모아서 직접 작성하기도 한다.\n",
    "- 사용하려면 사용 전에 불러와야 - 임포트(import)\n",
    "\n",
    "#### 변수\n",
    "- 데이터에 쉽게 접근할 수 있는 이름표\n",
    "- 이름 부여해 변수 만들고 등호 연산자(=) 사용해 변수에 데이터 저장\n",
    "- 변수 이름은 소문자로 작성 + 이름만 봐도 변수 설명되게 작성한다.\n",
    "- 상수는 이름을 모두 대문자로 사용\n",
    "\n",
    "#### 함수\n",
    "- 반복하여 사용할 수 있는 코드 조각\n",
    "- 파이썬에는 이미 우리가 사용할 수 있는 함수가 많음\n",
    "- 함수를 직접 만들 수도 있음\n",
    "- 함수를 만들 때는 def 예약어 사용\n",
    "- 함수가 최종 결과로 내놓는 값을 반환 return 이라 함\n",
    "- 부울 변수 : 반환값이 True나 False만 있을 때\n",
    "\n",
    "#### input() 함수\n",
    "- 키보드에서 사용자의 입력을 받을 때 사용\n",
    "- 사용자가 텍스트 입력하고 엔터키를 누를 때까지 기다림\n",
    "- 나중에 입력한 데이터에 접근하려면 다음처럼 이 데이터를 변수에 할당해야 사용 가능\n",
    "        user_input = input()\n",
    "        user_input = input(\"텍스트를 입력하세요.\")\n",
    "        print(user_input)"
   ]
  },
  {
   "cell_type": "code",
   "execution_count": null,
   "metadata": {},
   "outputs": [],
   "source": [
    "# 비밀번호 맞추기\n",
    "\n",
    "import random\n",
    "\n",
    "# 변수 초기화:\n",
    "response1 = \"걱정말고 다시 시도해보세요.\"\n",
    "response2 = \"그럴듯하지만 내 비밀번호는 아니에요. 다시 입력해보세요.\"\n",
    "response3 = \"내 비밀번호가 아니에요. 내 비밀번호는 정말 쉬워요.\"\n",
    "response4 = \"잘했어요!\"\n",
    "MY_PASSWORD = \"내 비밀번호에요\"\n",
    "\n",
    "#플레이어가 입력한 비밀번호가 올바른지 확인하는 함수:\n",
    "def is_correct(guess, password):\n",
    "    if guess == password:\n",
    "        guess_correct = True\n",
    "    else:\n",
    "        guess_correct = False\n",
    "    return guess_correct\n",
    "\n",
    "# 게임시작:\n",
    "print(\"안녕하세요.\\n\")\n",
    "users_guess = input(\"추측한 내 비밀번호를 입력하세요.\")\n",
    "\n",
    "# 함수를 사용하여 입력한 비밀번호가 일치하는지 확인:\n",
    "true_or_false = is_correct(users_guess, MY_PASSWORD)\n",
    "\n",
    "# 사용자가 입력한 비밀번호가 일치할 때까지 게임 실행:\n",
    "while true_or_false == False:\n",
    "    computer_response = random.randint(1,3)\n",
    "    if computer_response == 1:\n",
    "        print(response1)\n",
    "    elif computer_response == 2:\n",
    "        print(response2)\n",
    "    else:\n",
    "        print(response3)\n",
    "        \n",
    "    # 사용자에게 다시 시도할 비밀번호 입력 요청:\n",
    "    users_guess = input(\"\\n 다음 비밀번호는 무엇입니까?\")\n",
    "    \n",
    "    # 비밀번호가 일치하는지 재확인:\n",
    "    true_or_false = is_correct(users_guess, MY_PASSWORD)\n",
    "    \n",
    "# 게임종료:\n",
    "print(response4)\n",
    "input(\"\\n\\n\\n리턴 키를 눌러 끝내세요.\")"
   ]
  },
  {
   "cell_type": "markdown",
   "metadata": {},
   "source": [
    "■ 도트 연산자(.) : 라이브러리 사용할 때 정확히 어디에서 내가 사용하고자 하는 함수를 찾을 수 있는지 알려줌\n",
    "\n",
    "■  조건문의 분기 - else if 를 파이선에서는 elif 라 표기\n",
    " - if : [조건이 만족할 때의 코드]\n",
    " - elif : [두번째 조건이 만족할 때의 코드]\n",
    " - else : [첫번째와 두번째 조건을 만족하지 않을 때의 코드]\n",
    "\n",
    "■ elif는 필요한 만큼 출현가능"
   ]
  },
  {
   "cell_type": "markdown",
   "metadata": {},
   "source": [
    "## 4.2 파이썬 프로그램의 핵심, 클래스"
   ]
  },
  {
   "cell_type": "markdown",
   "metadata": {},
   "source": [
    "■ 사칙연산 클래스 만들기(FourCal)\n",
    " - 더하기, 빼기, 나누기, 곱하기\n",
    " \n",
    "■ 클래스를 어떻게 만들지 먼저 구상하기\n",
    " - 사칙연산을 하려면 두 숫자를 입력 받아야 함 : setdata 메서드\n",
    " - 나누기 기능 : div 메서드\n",
    " - 더하기 기능 : sum 메서드\n",
    " - 곱하기 기능 : mul 메서드\n",
    " -   빼기 기능 : sub 메서드\n",
    " \n",
    "■ 클래스가 다음처럼 동작한다고 가정한다.\n",
    " - a 라는 객체를 만든다.  >>> a = FourCal()\n",
    " - 4와 2라는 숫자를 a에 지정해 준다.  >>> a.setdata(4,2)\n",
    " - 두 수를 합한 결과(4+2)를 돌려준다.  >>> print(a.sum())  >>> 6\n",
    " - 두 수를 곱한 결과(4*2)를 돌려준다.  >>> print(a.mul())  >>> 8\n",
    " - 두 수를 뺀 결과(4-2)를 돌려준다.  >>>print(a.sub())  >>> 2\n",
    " - 두 수를 나눈 결과(4/2)를 돌려준다.  >>> print(a.div())  >>> 2\n",
    " \n",
    "■ 클래스 구조 만들기\n",
    " - 제일 먼저 할 일은 a = FourCal()처럼 인스턴스를 만들 수 있게 하는 것\n",
    " \n",
    " class FourCal:\n",
    "         pass\n",
    "         \n",
    " - pass란 문장만을 포함한 FourCal() 클래스를 만든다.\n",
    " - pass ① 아무것도 수행하지 않는 문법이다. ② 임시로 코드를 작성할 때 주로 사용한다.\n",
    "         >>> a = FourCal()\n",
    "         >>> type(a)\n",
    "         <class'__main__.FourCal'>\n",
    " - a라는 객체를 먼저 만들고 그 다음에 type(a)로 a라는 객체가 어떤 타입인지 알아볼 수 있다.\n",
    " - 객체 a가 FourCal 클래스의 인스턴스임을 알 수 있다.\n",
    "\n",
    "■ 객체에서 숫자 지정할 수 있게 만들기\n",
    " - 생성된 객체 a는 아직 아무런 기능도 하지 못한다.\n",
    " - 사칙연산의 기능을 하는 객체를 만들어야 한다.\n",
    " - 연산을 수행할 대성(4,2)을 객체에 지정할 수 있게 만든다.\n",
    " - a.setdata(4,2) << 위 문장이 실행되려면 소스코드를 작성해야 한다.\n",
    " - class FourCal:\n",
    "         def setdata(self,first,second):\n",
    "             self.first = first\n",
    "             self.second = second\n",
    " - 클래스 함수를 메서드라고 한다.\n",
    " - setdata라는 함수는 FourCal클래스의 메서드이다.\n",
    "\n",
    "■ 일반적인 함수를 만들 때 다음과 같이 작성한다.\n",
    " - def sum(a,b):\n",
    "         return a+b\n",
    " - 입력값이 있고 돌려주는 결과값이 있다. 메서드도 마찬가지이다.\n",
    " - def setdata(self,first,second):\n",
    "         self.first=first\n",
    "         self.second=second\n",
    " - 메서드의 첫번째 입력 인수는 특별한 의미를 갖는 self라는 변수이다.\n",
    " \n",
    "■ 더하기 기능 만들기\n",
    " - def sum(self):\n",
    "         result = self.first + self.second\n",
    "         return result\n",
    " - 입력으로 받는 값은 self밖에 없고 돌려주는 값은 result이다.\n",
    " - a.sum()처럼 수행하면 sum함수에 자동으로 객체a가 첫번째 인수로 들어가게 된다."
   ]
  },
  {
   "cell_type": "code",
   "execution_count": 17,
   "metadata": {},
   "outputs": [
    {
     "name": "stdout",
     "output_type": "stream",
     "text": [
      "3\n",
      "7\n",
      "5\n",
      "11\n"
     ]
    }
   ],
   "source": [
    "# 두개의 계산기\n",
    "result1 = 0\n",
    "result2 = 0\n",
    "\n",
    "def adder1(num):\n",
    "    global result1\n",
    "    result1 += num\n",
    "    return result1\n",
    "\n",
    "def adder2(num):\n",
    "    global result2\n",
    "    result2 += num\n",
    "    return result2\n",
    "\n",
    "print(adder1(3))\n",
    "print(adder1(4))\n",
    "print(adder2(5))\n",
    "print(adder2(6))"
   ]
  },
  {
   "cell_type": "code",
   "execution_count": 18,
   "metadata": {},
   "outputs": [
    {
     "name": "stdout",
     "output_type": "stream",
     "text": [
      "3\n",
      "7\n",
      "5\n",
      "11\n"
     ]
    }
   ],
   "source": [
    "# 클래스를 이용한 계산기 - Calculator 클래스로 만들어진 cal1,cal2라는 인스턴스가 각각의 역할을 수행한다.\n",
    "class Calculator:\n",
    "    def __init__(self):\n",
    "        self.result = 0\n",
    "        \n",
    "    def adder(self,num):\n",
    "        self.result += num\n",
    "        return self.result\n",
    "    \n",
    "cal1 = Calculator()\n",
    "cal2 = Calculator()\n",
    "\n",
    "print(cal1.adder(3))\n",
    "print(cal1.adder(4))\n",
    "print(cal2.adder(5))\n",
    "print(cal2.adder(6))"
   ]
  },
  {
   "cell_type": "markdown",
   "metadata": {},
   "source": [
    "■ 파이썬 클래스 예\n",
    " - class Simple :\n",
    "         pass\n",
    " \n",
    "■ 인스턴스는 클래스에 의해서 만들어진 객체로, 1 개의 클래스는 무수히 많은 인스턴스를 만들어 낼 수 있다.\n",
    "■ Simple 클래스의 인스턴스를 만드는 방법\n",
    " - a = Simple()\n",
    " \n",
    "■ Simple의 결과값을 돌려받은 a가 인스턴스이다."
   ]
  },
  {
   "cell_type": "code",
   "execution_count": null,
   "metadata": {},
   "outputs": [],
   "source": [
    "# 클래스의 구조\n",
    "class 클래스이름[(상속 클래스명)]:\n",
    "    <클래스 변수 1>\n",
    "    <클래스 변수 2>\n",
    "    ...\n",
    "    def 클래스함수1(self[인수1,인수2,...]):\n",
    "        <수행할 문장 1>\n",
    "        <수행할 문장 2>\n",
    "        ...\n",
    "    def 클래스함수2(self[인수1,인수2,...]):\n",
    "        <수행할 문장 1>\n",
    "        <수행할 문장 2>\n",
    "        ..."
   ]
  },
  {
   "cell_type": "code",
   "execution_count": 19,
   "metadata": {},
   "outputs": [
    {
     "data": {
      "text/plain": [
       "__main__.FourCal"
      ]
     },
     "execution_count": 19,
     "metadata": {},
     "output_type": "execute_result"
    }
   ],
   "source": [
    "# 사칙연산 클래스1\n",
    "class FourCal:\n",
    "    pass\n",
    "\n",
    "a = FourCal()\n",
    "type(a)"
   ]
  },
  {
   "cell_type": "code",
   "execution_count": 27,
   "metadata": {},
   "outputs": [],
   "source": [
    "# 사칙연산 클래스2\n",
    "class FourCal:\n",
    "    def setdata(self,first,second):\n",
    "        self.first = first\n",
    "        self.second = second\n",
    "a = FourCal()\n",
    "a.setdata(4,2)"
   ]
  },
  {
   "cell_type": "code",
   "execution_count": 28,
   "metadata": {},
   "outputs": [
    {
     "name": "stdout",
     "output_type": "stream",
     "text": [
      "6\n"
     ]
    }
   ],
   "source": [
    "# 사칙연산 클래스3\n",
    "class FourCal:\n",
    "    def setdata(self,first,second):\n",
    "        self.first = first\n",
    "        self.second = second\n",
    "    def sum(self):\n",
    "        result = self.first + self.second\n",
    "        return result\n",
    "    \n",
    "a = FourCal()\n",
    "a.setdata(4,2)\n",
    "print(a.sum())"
   ]
  },
  {
   "cell_type": "code",
   "execution_count": 39,
   "metadata": {},
   "outputs": [],
   "source": [
    "# __init__ 메서드로 초깃값을 설정 1\n",
    "class HousePark:\n",
    "    lastname = \"박\"\n",
    "    def __init__(self,name):\n",
    "        self.fullname = self.lastname + name\n",
    "    def travel(self,where):\n",
    "        print(\"%s, %s로 여행을 가다.\"%(self.fullname, where) )\n",
    "        \n",
    "JYP = HousePark(\"진영\")"
   ]
  },
  {
   "cell_type": "code",
   "execution_count": 40,
   "metadata": {},
   "outputs": [
    {
     "name": "stdout",
     "output_type": "stream",
     "text": [
      "김줄리엣, 독도로 여행을 가다.\n",
      "박진영, 진도로 여행을 가다.\n"
     ]
    }
   ],
   "source": [
    "# 클래스의 상속 - class 상속받을 클래스 명(상속할 클래스 명)\n",
    "class HouseKim(HousePark):\n",
    "    lastname = \"김\"\n",
    "    \n",
    "juliet = HouseKim(\"줄리엣\")\n",
    "juliet.travel(\"독도\")\n",
    "JYP.travel(\"진도\")"
   ]
  },
  {
   "cell_type": "markdown",
   "metadata": {},
   "source": [
    "■ 메서드 오버라이딩\n",
    " - 상속받을 대상인 클래스의 메서드와 이름은 같지만 그 행동을 다르게 해야 할 때는?\n",
    " - 메서드 이름을 동일하게 다시 구현하는 것"
   ]
  },
  {
   "cell_type": "code",
   "execution_count": 41,
   "metadata": {},
   "outputs": [
    {
     "name": "stdout",
     "output_type": "stream",
     "text": [
      "김줄리엣, 독도로 여행 21일에 간다.\n"
     ]
    }
   ],
   "source": [
    "# 메서드 오버라이딩\n",
    "class HouseKim(HousePark):\n",
    "    lastname = \"김\"\n",
    "    def travel(self,where,day):\n",
    "        print(\"%s, %s로 여행 %d일에 간다.\"% (self.fullname,where,day))\n",
    "        \n",
    "juliet = HouseKim(\"줄리엣\")\n",
    "juliet.travel(\"독도\",21)"
   ]
  },
  {
   "cell_type": "code",
   "execution_count": 43,
   "metadata": {},
   "outputs": [
    {
     "name": "stdout",
     "output_type": "stream",
     "text": [
      "박진영, 김줄리엣 결혼 축하합니다.\n"
     ]
    }
   ],
   "source": [
    "# 연산자 오버로딩 - 연산자를 객체끼리 사용할 수 있는 기법\n",
    "class HousePark:\n",
    "    lastname = \"박\"\n",
    "    def __init__(self,name):\n",
    "        self.fullname = self.lastname + name\n",
    "    def travel(self,where):\n",
    "        print(\"%s, %s로 여행을 가다.\"%(self.fullname, where) )\n",
    "    def __add__(self,other):\n",
    "        print(\"%s, %s 결혼 축하합니다.\"% (self.fullname,other.fullname))\n",
    "\n",
    "JYP = HousePark(\"진영\")\n",
    "juliet = HouseKim(\"줄리엣\")\n",
    "JYP + juliet"
   ]
  },
  {
   "cell_type": "markdown",
   "metadata": {},
   "source": [
    "## 4.3 모듈, 패키지, 예외처리"
   ]
  },
  {
   "cell_type": "markdown",
   "metadata": {},
   "source": [
    "■ 모듈 만들고 불러보기\n",
    " - 모듈 : 함수나 변수 또는 클래스를 모아 놓은 파일"
   ]
  },
  {
   "cell_type": "code",
   "execution_count": null,
   "metadata": {},
   "outputs": [],
   "source": [
    "# C:\\\\Python\\\\Mymodules\\\\mod1.py\n",
    "# 실행환경 : ipython console\n",
    "# def sum(a,b):\n",
    "#     return a + b"
   ]
  },
  {
   "cell_type": "code",
   "execution_count": null,
   "metadata": {},
   "outputs": [],
   "source": [
    "# cd C:\\\\Python\\\\Mymodules"
   ]
  },
  {
   "cell_type": "code",
   "execution_count": null,
   "metadata": {},
   "outputs": [],
   "source": [
    "# import mod1\n",
    "# print(mod1.sum(3,4))"
   ]
  },
  {
   "cell_type": "code",
   "execution_count": null,
   "metadata": {},
   "outputs": [],
   "source": [
    "# from 모듈이름 import 모듈함수\n",
    "# - 모듈이름을 붙이지 않고 바로 해당 모듈의 함수를 쓸 수 있다.\n",
    "# from mod1 import sum\n",
    "# sum(3,4)"
   ]
  },
  {
   "cell_type": "code",
   "execution_count": null,
   "metadata": {},
   "outputs": [],
   "source": [
    "# sys.path.append - 모듈을 저장한 디렉터리로 이동하지 않고 모듈을 불러와서 사용하는 방법\n",
    "# sys.path - 파이썬 라이브러리들이 설치되어 있는 디렉터리들을 보여준다.\n",
    "# import sys\n",
    "# sys.path\n",
    "# sys.path.append(\"C:\\\\Python\\\\Mymodules\")"
   ]
  },
  {
   "cell_type": "code",
   "execution_count": null,
   "metadata": {},
   "outputs": [],
   "source": [
    "# PYTHONPATH 환경 변수 사용하기\n",
    "# - 디렉터리 이동이나 별도의 모듈 추가 작업 없이 MOD1 모듈을 불러와서 사용할 수 있다.\n",
    "# C:\\\\Users\\\\home>set PYTHONPATH=C:\\\\Python\\\\Mymodules\n",
    "# C:\\\\Users\\\\home>python"
   ]
  },
  {
   "cell_type": "markdown",
   "metadata": {},
   "source": [
    "■ 패키지\n",
    " - 도트(.)를 이용해 파이썬 모듈을 계층적으로 관리할 수 있게 해준다.\n",
    " - 모듈명이 A.B인 경우 A는 패키지명이 되고 B는 모듈이 된다.\n",
    " - 파이썬 패키지는 디렉터리와 파이썬 모듈로 이루어진다."
   ]
  },
  {
   "cell_type": "code",
   "execution_count": null,
   "metadata": {},
   "outputs": [],
   "source": [
    "# 가상의 game 패키지 예\n",
    "game/\n",
    "    __init__.py\n",
    "    sound/\n",
    "        __init__.py\n",
    "        echo.py\n",
    "        wav.py\n",
    "    graphic/\n",
    "        __init__.py\n",
    "        screen.py\n",
    "        render.py\n",
    "    play/\n",
    "        __init__.py\n",
    "        run.py\n",
    "        test.py"
   ]
  },
  {
   "cell_type": "markdown",
   "metadata": {},
   "source": [
    " - 디렉터리명 : game, sound, graphic, play\n",
    " - 파이썬 모듈 : .py 확장자를 가지는 파일\n",
    " - 패키지 구조로 파이썬 프로그램을 만드는 것이 공동 작업이나 유지보수 등 여러면에서 유리하다."
   ]
  },
  {
   "cell_type": "code",
   "execution_count": null,
   "metadata": {},
   "outputs": [],
   "source": [
    "# 테스트를 위해 패키지 만들기\n",
    "# C:\\\\Python\\\\game\\\\__init__.py\n",
    "# C:\\\\Python\\\\game\\\\sound\\\\__init__.py\n",
    "# C:\\\\Python\\\\game\\\\sound\\\\echo.py\n",
    "# C:\\\\Python\\\\game\\\\graphic\\\\__init__.py\n",
    "# C:\\\\Python\\\\game\\\\graphic\\\\render.py\n",
    "\n",
    "# echo.py\n",
    "# def echo_test():\n",
    "#     print(\"echo\")\n",
    "\n",
    "# render.py\n",
    "# def render_test():\n",
    "#     print(\"render\")"
   ]
  },
  {
   "cell_type": "markdown",
   "metadata": {},
   "source": [
    "■ 패키지 안의 함수 실행하기\n",
    " - 우리가 만든 game 패키지를 참조할 수 있도록 도스창에서 set 명령을 이용하여 PYTHONPATH 환경변수에 디렉터리를 추가한다.\n",
    " - 그리고 파이썬 인터프리터를 실행한다."
   ]
  },
  {
   "cell_type": "code",
   "execution_count": null,
   "metadata": {},
   "outputs": [],
   "source": [
    "# echo 모듈을 import 하여 실행하는 방법\n",
    "# import game.sound.echo\n",
    "# game.sound.echo_test()"
   ]
  },
  {
   "cell_type": "code",
   "execution_count": null,
   "metadata": {},
   "outputs": [],
   "source": [
    "# echo 모듈이 있는 디렉터리까지 실행하는 방법\n",
    "# from game.sound import echo\n",
    "# echo.echo_test()"
   ]
  },
  {
   "cell_type": "code",
   "execution_count": null,
   "metadata": {},
   "outputs": [],
   "source": [
    "# echo 모듈의 echo_test함수를 직접 import 하여 실행하는 방법\n",
    "# from game.sound.echo import echo_test\n",
    "# echo_test()"
   ]
  },
  {
   "cell_type": "markdown",
   "metadata": {},
   "source": [
    "■ __init__.py의 용도\n",
    " - 해당 디렉터리가 패키지의 일부임을 알려주는 역할을 한다.\n",
    " - python3.3버전부터는 __init__.py 파일 없어도 패키지로 인식이 된다.\n",
    " - 하지만 하위 버전 호환을 위해 __init__.py 파일을 생성하는 것이 안전하다."
   ]
  },
  {
   "cell_type": "markdown",
   "metadata": {},
   "source": [
    "■ __all__\n",
    " - 특정 디렉터리의 모듈을 * 를 이용하여 import 할 때에는 해당 디렉터리의 __init__.py파일에 __all__ 이라는 변수를 설정하고 import 할 수 있는 모듈을 정의해 주어야 한다."
   ]
  },
  {
   "cell_type": "code",
   "execution_count": null,
   "metadata": {},
   "outputs": [],
   "source": [
    "# C:\\\\Python\\\\game\\\\sound\\\\__init__.py\n",
    "# __all__ = ['echo']\n",
    "# from game.sound import *\n",
    "# echo.echo_test()"
   ]
  },
  {
   "cell_type": "markdown",
   "metadata": {},
   "source": [
    "■ relative 패키지\n",
    " - ..은 부모 디렉터리를 의미한다.\n",
    " - ..과 같은 relativ한 접근자는 render.py와 같이 모듈 안에서만 사용해야 한다."
   ]
  },
  {
   "cell_type": "code",
   "execution_count": null,
   "metadata": {},
   "outputs": [],
   "source": [
    "# render.py\n",
    "from ..sound.echo import echo_test\n",
    "\n",
    "def render_test():\n",
    "    print(\"render\")\n",
    "    echo_test()"
   ]
  },
  {
   "cell_type": "markdown",
   "metadata": {},
   "source": [
    "■ 예외처리\n",
    " - 파이썬은 try, except를 이용해서 예외적으로 오류를 처리할 수 있게 해준다.\n",
    "\n",
    "■ 오류는 어떤 때 발생하는가?\n",
    " - 디렉터리 안에 없는 파일을 열려고 시도했을 때 발생하는 오류"
   ]
  },
  {
   "cell_type": "code",
   "execution_count": 2,
   "metadata": {},
   "outputs": [
    {
     "ename": "FileNotFoundError",
     "evalue": "[Errno 2] No such file or directory: '나없는파일'",
     "output_type": "error",
     "traceback": [
      "\u001b[1;31m---------------------------------------------------------------------------\u001b[0m",
      "\u001b[1;31mFileNotFoundError\u001b[0m                         Traceback (most recent call last)",
      "\u001b[1;32m<ipython-input-2-c262055d665b>\u001b[0m in \u001b[0;36m<module>\u001b[1;34m\u001b[0m\n\u001b[1;32m----> 1\u001b[1;33m \u001b[0mf\u001b[0m \u001b[1;33m=\u001b[0m \u001b[0mopen\u001b[0m\u001b[1;33m(\u001b[0m\u001b[1;34m\"나없는파일\"\u001b[0m\u001b[1;33m,\u001b[0m\u001b[1;34m'r'\u001b[0m\u001b[1;33m)\u001b[0m\u001b[1;33m\u001b[0m\u001b[1;33m\u001b[0m\u001b[0m\n\u001b[0m",
      "\u001b[1;31mFileNotFoundError\u001b[0m: [Errno 2] No such file or directory: '나없는파일'"
     ]
    }
   ],
   "source": [
    "f = open(\"나없는파일\",'r')"
   ]
  },
  {
   "cell_type": "markdown",
   "metadata": {},
   "source": [
    "■ try,except문\n",
    " - 오류 처릴르 위한 try, except문의 기본 구조이다.\n",
    " - try 블록 수행 중 오류가 발생하면 except 블록이 수행된다.\n",
    " - 하지만 try 블록에서 오류가 발생하지 않는다면 except 블록이 수행된다.\n",
    " - []안의 내용을 생략할 수 있다."
   ]
  },
  {
   "cell_type": "code",
   "execution_count": null,
   "metadata": {},
   "outputs": [],
   "source": [
    "#try:\n",
    "#    ...\n",
    "#except [발생오류[as 오류 메세지 변수]]:\n",
    "#    ..."
   ]
  },
  {
   "cell_type": "code",
   "execution_count": 1,
   "metadata": {},
   "outputs": [
    {
     "name": "stdout",
     "output_type": "stream",
     "text": [
      "division by zero\n"
     ]
    }
   ],
   "source": [
    "# 4를 0으로 나누려고 하면 오류가 발생하여 except 블록이 실행되고 e라는 오류메세지를 출력한다.\n",
    "try:\n",
    "    4 / 0\n",
    "except ZeroDivisionError as e:\n",
    "    print(e)"
   ]
  },
  {
   "cell_type": "markdown",
   "metadata": {},
   "source": [
    "■ try .. else\n",
    " - try문은 else절을 지원한다.\n",
    " - else절을 예외가 발생하지 않은 경우에 실행되며 반드시 except절 바로 다음에 위치해야 한다.\n",
    " - foo.txt 파일이 없다면 except절이 수행되고, 파일이 있다면 else절이 수행된다."
   ]
  },
  {
   "cell_type": "code",
   "execution_count": 3,
   "metadata": {},
   "outputs": [],
   "source": [
    "try:\n",
    "    f = open('foo.txt','r')\n",
    "except FileNotFoundError as e:\n",
    "    print(str(e))\n",
    "else:\n",
    "    data = f.read()\n",
    "    f.close()"
   ]
  },
  {
   "cell_type": "markdown",
   "metadata": {},
   "source": [
    "■ try .. finally\n",
    " - finally절은 try문 수행 도중 예외 발생 여부에 상관없이 항상 수행된다.\n",
    " - 보통 finally절은 사용한 리소스를 close해야 할 경우에 많이 사용된다."
   ]
  },
  {
   "cell_type": "code",
   "execution_count": null,
   "metadata": {},
   "outputs": [],
   "source": [
    "f = open('foo.txt','w')\n",
    "try:\n",
    "    # 무언가를 수행한다.\n",
    "finally:\n",
    "    f.close()"
   ]
  },
  {
   "cell_type": "markdown",
   "metadata": {},
   "source": [
    "■ 오류 회피하기\n",
    " - 특정 오류가 발생할 경우 그냥 통과시켜야 할 때가 있을 수 있다.\n",
    " - 파일이 없더라도 오류를 발생시키지 않고 통과한다."
   ]
  },
  {
   "cell_type": "code",
   "execution_count": null,
   "metadata": {},
   "outputs": [],
   "source": [
    "try:\n",
    "    f = open(\"나없는파일\",'r')\n",
    "except FileNotFoundError:\n",
    "    pass"
   ]
  },
  {
   "cell_type": "markdown",
   "metadata": {},
   "source": [
    "■ 오류 일부러 발생시키기\n",
    " - raise 명령어를 이용해 오류를 강제로 발생시킬 수 있다."
   ]
  },
  {
   "cell_type": "code",
   "execution_count": 5,
   "metadata": {},
   "outputs": [],
   "source": [
    "class Bird:\n",
    "    def fly(self):\n",
    "        raise NotImplementedError"
   ]
  },
  {
   "cell_type": "markdown",
   "metadata": {},
   "source": [
    " - Bird라는 클래스를 상속받는 자식 클래스는 반드시 fly라는 함수를 구현해야 한다.\n",
    " - 만약 자식 클래스가 fly 함수를 구현하지 않은 상태로 fly 함수를 호출한다면?\n",
    " - Eagle 클래스는 Bird클래스를 상속받는다.\n",
    " - Eagle 클래스에서 fly 함수를 구현하지 않았기 때문에 Bird 클래스의 fly 함수가 호출된다.\n",
    " - raise문에 의해 NotImplementedError가 발생할 것이다.\n",
    " - NotImplementedError가 발생되지 않게 하려면 Eagle 클래스에 fly 함수를 반드시 구현해야 한다."
   ]
  },
  {
   "cell_type": "code",
   "execution_count": 8,
   "metadata": {},
   "outputs": [
    {
     "name": "stdout",
     "output_type": "stream",
     "text": [
      "very fast\n"
     ]
    }
   ],
   "source": [
    "#class Eagle(Bird):\n",
    "#         pass\n",
    "class Eagle(Bird):\n",
    "    def fly(self):\n",
    "        print('very fast')\n",
    "        \n",
    "eagle = Eagle()\n",
    "eagle.fly()"
   ]
  },
  {
   "cell_type": "markdown",
   "metadata": {},
   "source": [
    "## 4.4 내장함수, 외장함수"
   ]
  },
  {
   "cell_type": "markdown",
   "metadata": {},
   "source": [
    "■ abs\n",
    " - 어떤 숫자를 입력으로 받았을 때, 그 숫자의 절대값을 돌려주는 함수이다."
   ]
  },
  {
   "cell_type": "code",
   "execution_count": 21,
   "metadata": {},
   "outputs": [
    {
     "data": {
      "text/plain": [
       "3"
      ]
     },
     "execution_count": 21,
     "metadata": {},
     "output_type": "execute_result"
    }
   ],
   "source": [
    "abs(3)"
   ]
  },
  {
   "cell_type": "code",
   "execution_count": 22,
   "metadata": {},
   "outputs": [
    {
     "data": {
      "text/plain": [
       "3"
      ]
     },
     "execution_count": 22,
     "metadata": {},
     "output_type": "execute_result"
    }
   ],
   "source": [
    "abs(-3)"
   ]
  },
  {
   "cell_type": "code",
   "execution_count": 23,
   "metadata": {},
   "outputs": [
    {
     "data": {
      "text/plain": [
       "1.2"
      ]
     },
     "execution_count": 23,
     "metadata": {},
     "output_type": "execute_result"
    }
   ],
   "source": [
    "abs(-1.2)"
   ]
  },
  {
   "cell_type": "markdown",
   "metadata": {},
   "source": [
    "■ all\n",
    " - 반복 가능한 자료형 x를 입력 인수로 받으며, 이 x가 모두 참이면 True, 거짓이 하나라도 있으면 False를 리턴한다."
   ]
  },
  {
   "cell_type": "code",
   "execution_count": 24,
   "metadata": {},
   "outputs": [
    {
     "data": {
      "text/plain": [
       "True"
      ]
     },
     "execution_count": 24,
     "metadata": {},
     "output_type": "execute_result"
    }
   ],
   "source": [
    "all([1,2,3])"
   ]
  },
  {
   "cell_type": "code",
   "execution_count": 25,
   "metadata": {},
   "outputs": [
    {
     "data": {
      "text/plain": [
       "False"
      ]
     },
     "execution_count": 25,
     "metadata": {},
     "output_type": "execute_result"
    }
   ],
   "source": [
    "all([1,2,3,0])"
   ]
  },
  {
   "cell_type": "markdown",
   "metadata": {},
   "source": [
    "■ any\n",
    " - x 중 하나라도 참이 있을 경우 True를 리턴하고, x가 모두 거짓일 경우에만 False를 리턴한다.\n",
    " - all(x)의 반대 경우라고 할 수 있다."
   ]
  },
  {
   "cell_type": "code",
   "execution_count": 26,
   "metadata": {},
   "outputs": [
    {
     "data": {
      "text/plain": [
       "True"
      ]
     },
     "execution_count": 26,
     "metadata": {},
     "output_type": "execute_result"
    }
   ],
   "source": [
    "any([1,2,3,0])"
   ]
  },
  {
   "cell_type": "code",
   "execution_count": 27,
   "metadata": {},
   "outputs": [
    {
     "data": {
      "text/plain": [
       "False"
      ]
     },
     "execution_count": 27,
     "metadata": {},
     "output_type": "execute_result"
    }
   ],
   "source": [
    "any([0,\"\"])"
   ]
  },
  {
   "cell_type": "markdown",
   "metadata": {},
   "source": [
    "■ chr\n",
    " - 아스키 코드값을 입력으로 받아 그 코드에 해당하는 문자를 출력하는 함수이다."
   ]
  },
  {
   "cell_type": "code",
   "execution_count": 28,
   "metadata": {},
   "outputs": [
    {
     "data": {
      "text/plain": [
       "'a'"
      ]
     },
     "execution_count": 28,
     "metadata": {},
     "output_type": "execute_result"
    }
   ],
   "source": [
    "chr(97)"
   ]
  },
  {
   "cell_type": "code",
   "execution_count": 29,
   "metadata": {},
   "outputs": [
    {
     "data": {
      "text/plain": [
       "'0'"
      ]
     },
     "execution_count": 29,
     "metadata": {},
     "output_type": "execute_result"
    }
   ],
   "source": [
    "chr(48)"
   ]
  },
  {
   "cell_type": "markdown",
   "metadata": {},
   "source": [
    "■ dir\n",
    " - 객체가 자체적으로 가지고 있는 변수나 함수를 보여준다.\n",
    " - 리스트와 딕셔너리 객체의 관련 함수들을 보여주는 예이다."
   ]
  },
  {
   "cell_type": "code",
   "execution_count": 30,
   "metadata": {},
   "outputs": [
    {
     "data": {
      "text/plain": [
       "['__add__',\n",
       " '__class__',\n",
       " '__contains__',\n",
       " '__delattr__',\n",
       " '__delitem__',\n",
       " '__dir__',\n",
       " '__doc__',\n",
       " '__eq__',\n",
       " '__format__',\n",
       " '__ge__',\n",
       " '__getattribute__',\n",
       " '__getitem__',\n",
       " '__gt__',\n",
       " '__hash__',\n",
       " '__iadd__',\n",
       " '__imul__',\n",
       " '__init__',\n",
       " '__init_subclass__',\n",
       " '__iter__',\n",
       " '__le__',\n",
       " '__len__',\n",
       " '__lt__',\n",
       " '__mul__',\n",
       " '__ne__',\n",
       " '__new__',\n",
       " '__reduce__',\n",
       " '__reduce_ex__',\n",
       " '__repr__',\n",
       " '__reversed__',\n",
       " '__rmul__',\n",
       " '__setattr__',\n",
       " '__setitem__',\n",
       " '__sizeof__',\n",
       " '__str__',\n",
       " '__subclasshook__',\n",
       " 'append',\n",
       " 'clear',\n",
       " 'copy',\n",
       " 'count',\n",
       " 'extend',\n",
       " 'index',\n",
       " 'insert',\n",
       " 'pop',\n",
       " 'remove',\n",
       " 'reverse',\n",
       " 'sort']"
      ]
     },
     "execution_count": 30,
     "metadata": {},
     "output_type": "execute_result"
    }
   ],
   "source": [
    "dir([1,2,3])"
   ]
  },
  {
   "cell_type": "code",
   "execution_count": 31,
   "metadata": {},
   "outputs": [
    {
     "data": {
      "text/plain": [
       "['__class__',\n",
       " '__contains__',\n",
       " '__delattr__',\n",
       " '__delitem__',\n",
       " '__dir__',\n",
       " '__doc__',\n",
       " '__eq__',\n",
       " '__format__',\n",
       " '__ge__',\n",
       " '__getattribute__',\n",
       " '__getitem__',\n",
       " '__gt__',\n",
       " '__hash__',\n",
       " '__init__',\n",
       " '__init_subclass__',\n",
       " '__iter__',\n",
       " '__le__',\n",
       " '__len__',\n",
       " '__lt__',\n",
       " '__ne__',\n",
       " '__new__',\n",
       " '__reduce__',\n",
       " '__reduce_ex__',\n",
       " '__repr__',\n",
       " '__reversed__',\n",
       " '__setattr__',\n",
       " '__setitem__',\n",
       " '__sizeof__',\n",
       " '__str__',\n",
       " '__subclasshook__',\n",
       " 'clear',\n",
       " 'copy',\n",
       " 'fromkeys',\n",
       " 'get',\n",
       " 'items',\n",
       " 'keys',\n",
       " 'pop',\n",
       " 'popitem',\n",
       " 'setdefault',\n",
       " 'update',\n",
       " 'values']"
      ]
     },
     "execution_count": 31,
     "metadata": {},
     "output_type": "execute_result"
    }
   ],
   "source": [
    "dir({'1':'a'})"
   ]
  },
  {
   "cell_type": "markdown",
   "metadata": {},
   "source": [
    "■ divmod\n",
    " - 2개의 숫자를 입력으로 받는다.\n",
    " - a를 b로 나눈 몫과 나머지를 튜플 형태로 리턴하는 함수이다."
   ]
  },
  {
   "cell_type": "code",
   "execution_count": 32,
   "metadata": {},
   "outputs": [
    {
     "data": {
      "text/plain": [
       "(2, 1)"
      ]
     },
     "execution_count": 32,
     "metadata": {},
     "output_type": "execute_result"
    }
   ],
   "source": [
    "divmod(7,3)"
   ]
  },
  {
   "cell_type": "code",
   "execution_count": 33,
   "metadata": {},
   "outputs": [
    {
     "data": {
      "text/plain": [
       "(6.0, 0.09999999999999998)"
      ]
     },
     "execution_count": 33,
     "metadata": {},
     "output_type": "execute_result"
    }
   ],
   "source": [
    "divmod(1.3,0.2)"
   ]
  },
  {
   "cell_type": "markdown",
   "metadata": {},
   "source": [
    "■ enumerate\n",
    " - 순서가 있는 자료형을 입력으로 받아 인덱스 값을 포함하는 enumerate 객체를 리턴한다.\n",
    " - enumerate를 for문과 함께 사용하면 자료형의 현재 순서와 그 값을 쉽게 알 수 있다.\n",
    " - for문처럼 반복되는 구간에서 객체가 현재 어느 위치에 있는지 알려주는 인덱스 값이 필요할 때 enumerate함수를 사용하면 매우 유용하다."
   ]
  },
  {
   "cell_type": "code",
   "execution_count": 17,
   "metadata": {},
   "outputs": [
    {
     "name": "stdout",
     "output_type": "stream",
     "text": [
      "0 body\n",
      "1 foo\n",
      "2 bar\n"
     ]
    }
   ],
   "source": [
    "for i, name in enumerate(['body','foo','bar']):\n",
    "    print(i,name)"
   ]
  },
  {
   "cell_type": "markdown",
   "metadata": {},
   "source": [
    "■ eval\n",
    " - 실행 가능한 문자열을 입력으로 받아 문자열을 실행한 결과밧을 리턴하는 함수이다.\n",
    " - 보통 eval은 입력받은 문자열로 파이썬 함수나 클래스를 동적으로 실행하고 싶은 경우에 사용한다."
   ]
  },
  {
   "cell_type": "code",
   "execution_count": 18,
   "metadata": {},
   "outputs": [
    {
     "data": {
      "text/plain": [
       "3"
      ]
     },
     "execution_count": 18,
     "metadata": {},
     "output_type": "execute_result"
    }
   ],
   "source": [
    "eval('1+2')"
   ]
  },
  {
   "cell_type": "code",
   "execution_count": 19,
   "metadata": {},
   "outputs": [
    {
     "data": {
      "text/plain": [
       "'hia'"
      ]
     },
     "execution_count": 19,
     "metadata": {},
     "output_type": "execute_result"
    }
   ],
   "source": [
    "eval(\"'hi' + 'a'\")"
   ]
  },
  {
   "cell_type": "code",
   "execution_count": 20,
   "metadata": {},
   "outputs": [
    {
     "data": {
      "text/plain": [
       "(1, 1)"
      ]
     },
     "execution_count": 20,
     "metadata": {},
     "output_type": "execute_result"
    }
   ],
   "source": [
    "eval('divmod(4,3)')"
   ]
  },
  {
   "cell_type": "markdown",
   "metadata": {},
   "source": [
    "■ filter\n",
    " - 무엇인가를 걸러낸다는 뜻\n",
    " - 첫 번째 인수로 함수 이름을, 두 번째 인수로 그 함수에 차례로 들어갈 반복 가능한 자료형을 받는다.\n",
    " - 두 번째 인수인 반복 가능한 자료형 요소들이 첫 번째 인수인 함수에 입력되었을 때 리턴값이 참인 것만 묶어서 돌려준다."
   ]
  },
  {
   "cell_type": "code",
   "execution_count": 34,
   "metadata": {},
   "outputs": [
    {
     "name": "stdout",
     "output_type": "stream",
     "text": [
      "[1, 2, 6]\n"
     ]
    }
   ],
   "source": [
    "def positive(x):\n",
    "    return x > 0\n",
    "\n",
    "print(list(filter(positive,[1,-3,2,0,-5,6])))"
   ]
  },
  {
   "cell_type": "code",
   "execution_count": 35,
   "metadata": {},
   "outputs": [
    {
     "name": "stdout",
     "output_type": "stream",
     "text": [
      "[1, 2, 6]\n"
     ]
    }
   ],
   "source": [
    "print(list(filter(lambda x: x > 0,[1,-3,2,0,-5,6])))"
   ]
  },
  {
   "cell_type": "markdown",
   "metadata": {},
   "source": [
    "■ hex\n",
    " - 정수값을 입력받아 16진수로 변환하여 리턴하는 함수이다."
   ]
  },
  {
   "cell_type": "code",
   "execution_count": 36,
   "metadata": {},
   "outputs": [
    {
     "data": {
      "text/plain": [
       "'0xea'"
      ]
     },
     "execution_count": 36,
     "metadata": {},
     "output_type": "execute_result"
    }
   ],
   "source": [
    "hex(234)"
   ]
  },
  {
   "cell_type": "code",
   "execution_count": 37,
   "metadata": {},
   "outputs": [
    {
     "data": {
      "text/plain": [
       "'0x3'"
      ]
     },
     "execution_count": 37,
     "metadata": {},
     "output_type": "execute_result"
    }
   ],
   "source": [
    "hex(3)"
   ]
  },
  {
   "cell_type": "markdown",
   "metadata": {},
   "source": [
    "■ id\n",
    " - 객체를 입력받아 객체의 고유 주소값을 리턴하는 함수이다.\n",
    " - 3,a,b 는 고유 주소값이 모두 140729286797152 이다.\n",
    " - 3,a,b 가 모두 같은 객체를 가리키고 있음을 의미한다."
   ]
  },
  {
   "cell_type": "code",
   "execution_count": 42,
   "metadata": {},
   "outputs": [
    {
     "data": {
      "text/plain": [
       "140729286797152"
      ]
     },
     "execution_count": 42,
     "metadata": {},
     "output_type": "execute_result"
    }
   ],
   "source": [
    "a = 3\n",
    "id(3)"
   ]
  },
  {
   "cell_type": "code",
   "execution_count": 43,
   "metadata": {},
   "outputs": [
    {
     "data": {
      "text/plain": [
       "140729286797152"
      ]
     },
     "execution_count": 43,
     "metadata": {},
     "output_type": "execute_result"
    }
   ],
   "source": [
    "id(a)"
   ]
  },
  {
   "cell_type": "code",
   "execution_count": 44,
   "metadata": {},
   "outputs": [
    {
     "data": {
      "text/plain": [
       "140729286797152"
      ]
     },
     "execution_count": 44,
     "metadata": {},
     "output_type": "execute_result"
    }
   ],
   "source": [
    "b = a\n",
    "id(b)"
   ]
  },
  {
   "cell_type": "markdown",
   "metadata": {},
   "source": [
    "■ input\n",
    " - 사용자 입력을 받는 함수이다."
   ]
  },
  {
   "cell_type": "code",
   "execution_count": 46,
   "metadata": {},
   "outputs": [
    {
     "name": "stdout",
     "output_type": "stream",
     "text": [
      "hi\n"
     ]
    }
   ],
   "source": [
    "a = input()"
   ]
  },
  {
   "cell_type": "code",
   "execution_count": 47,
   "metadata": {},
   "outputs": [
    {
     "data": {
      "text/plain": [
       "'hi'"
      ]
     },
     "execution_count": 47,
     "metadata": {},
     "output_type": "execute_result"
    }
   ],
   "source": [
    "a"
   ]
  },
  {
   "cell_type": "code",
   "execution_count": 48,
   "metadata": {},
   "outputs": [
    {
     "name": "stdout",
     "output_type": "stream",
     "text": [
      "Enter: hi\n"
     ]
    }
   ],
   "source": [
    "b = input(\"Enter: \")"
   ]
  },
  {
   "cell_type": "code",
   "execution_count": 49,
   "metadata": {},
   "outputs": [
    {
     "data": {
      "text/plain": [
       "'hi'"
      ]
     },
     "execution_count": 49,
     "metadata": {},
     "output_type": "execute_result"
    }
   ],
   "source": [
    "b"
   ]
  },
  {
   "cell_type": "markdown",
   "metadata": {},
   "source": [
    "■ int\n",
    " - 문자열 형태의 숫자나 소수점이 있는 숫자 등을 정수 형태로 리턴하는 함수이다."
   ]
  },
  {
   "cell_type": "code",
   "execution_count": 50,
   "metadata": {},
   "outputs": [
    {
     "data": {
      "text/plain": [
       "3"
      ]
     },
     "execution_count": 50,
     "metadata": {},
     "output_type": "execute_result"
    }
   ],
   "source": [
    "int('3')"
   ]
  },
  {
   "cell_type": "code",
   "execution_count": 51,
   "metadata": {},
   "outputs": [
    {
     "data": {
      "text/plain": [
       "3"
      ]
     },
     "execution_count": 51,
     "metadata": {},
     "output_type": "execute_result"
    }
   ],
   "source": [
    "int(3.4)"
   ]
  },
  {
   "cell_type": "code",
   "execution_count": 52,
   "metadata": {},
   "outputs": [
    {
     "data": {
      "text/plain": [
       "3"
      ]
     },
     "execution_count": 52,
     "metadata": {},
     "output_type": "execute_result"
    }
   ],
   "source": [
    "int('11',2)"
   ]
  },
  {
   "cell_type": "code",
   "execution_count": 53,
   "metadata": {},
   "outputs": [
    {
     "data": {
      "text/plain": [
       "26"
      ]
     },
     "execution_count": 53,
     "metadata": {},
     "output_type": "execute_result"
    }
   ],
   "source": [
    "int('1A',16)"
   ]
  },
  {
   "cell_type": "markdown",
   "metadata": {},
   "source": [
    "■ isinstance\n",
    " - 첫 번째 인수로 인스턴스, 두 번째 인수로 클래스 이름을 받는다.\n",
    " - 입력으로 받은 인스턴스가 그 클래스의 인스턴스인지를 판단하여 참이면 True, 거짓이면 False를 리턴한다."
   ]
  },
  {
   "cell_type": "code",
   "execution_count": 56,
   "metadata": {},
   "outputs": [
    {
     "data": {
      "text/plain": [
       "True"
      ]
     },
     "execution_count": 56,
     "metadata": {},
     "output_type": "execute_result"
    }
   ],
   "source": [
    "class Person: pass\n",
    "a = Person()\n",
    "isinstance(a,Person)"
   ]
  },
  {
   "cell_type": "code",
   "execution_count": 57,
   "metadata": {},
   "outputs": [
    {
     "data": {
      "text/plain": [
       "False"
      ]
     },
     "execution_count": 57,
     "metadata": {},
     "output_type": "execute_result"
    }
   ],
   "source": [
    "b = 3\n",
    "isinstance(b,Person)"
   ]
  },
  {
   "cell_type": "markdown",
   "metadata": {},
   "source": [
    "■ lambda\n",
    " - 함수를 생성할 때 사용하는 예약어로 def와 동일한 역할을 한다.\n",
    " - 보통 함수를 한줄로 간결하게 만들 때 사용한다.\n",
    " - lambda 인수1,인수2,...: 인수를 이용한 표현식"
   ]
  },
  {
   "cell_type": "code",
   "execution_count": 58,
   "metadata": {},
   "outputs": [
    {
     "data": {
      "text/plain": [
       "7"
      ]
     },
     "execution_count": 58,
     "metadata": {},
     "output_type": "execute_result"
    }
   ],
   "source": [
    "sum = lambda a,b : a+b\n",
    "sum(3,4)"
   ]
  },
  {
   "cell_type": "code",
   "execution_count": 59,
   "metadata": {},
   "outputs": [
    {
     "data": {
      "text/plain": [
       "[<function __main__.<lambda>(a, b)>, <function __main__.<lambda>(a, b)>]"
      ]
     },
     "execution_count": 59,
     "metadata": {},
     "output_type": "execute_result"
    }
   ],
   "source": [
    "myList = [lambda a,b:a+b, lambda a,b:a*b]\n",
    "myList"
   ]
  },
  {
   "cell_type": "markdown",
   "metadata": {},
   "source": [
    "■ len\n",
    " - 입력값 s의 길이를 리턴하는 함수이다."
   ]
  },
  {
   "cell_type": "code",
   "execution_count": 60,
   "metadata": {},
   "outputs": [
    {
     "data": {
      "text/plain": [
       "6"
      ]
     },
     "execution_count": 60,
     "metadata": {},
     "output_type": "execute_result"
    }
   ],
   "source": [
    "len('python')"
   ]
  },
  {
   "cell_type": "code",
   "execution_count": 61,
   "metadata": {},
   "outputs": [
    {
     "data": {
      "text/plain": [
       "3"
      ]
     },
     "execution_count": 61,
     "metadata": {},
     "output_type": "execute_result"
    }
   ],
   "source": [
    "len([1,2,3])"
   ]
  },
  {
   "cell_type": "code",
   "execution_count": 62,
   "metadata": {},
   "outputs": [
    {
     "data": {
      "text/plain": [
       "2"
      ]
     },
     "execution_count": 62,
     "metadata": {},
     "output_type": "execute_result"
    }
   ],
   "source": [
    "len((1,'a'))"
   ]
  },
  {
   "cell_type": "markdown",
   "metadata": {},
   "source": [
    "■ list\n",
    " - 반복 가능한 자료형 s를 입력받아 리스트로 만들어 리턴하는 함수이다."
   ]
  },
  {
   "cell_type": "code",
   "execution_count": 63,
   "metadata": {},
   "outputs": [
    {
     "data": {
      "text/plain": [
       "['p', 'y', 't', 'h', 'o', 'n']"
      ]
     },
     "execution_count": 63,
     "metadata": {},
     "output_type": "execute_result"
    }
   ],
   "source": [
    "list(\"python\")"
   ]
  },
  {
   "cell_type": "code",
   "execution_count": 64,
   "metadata": {},
   "outputs": [
    {
     "data": {
      "text/plain": [
       "[1, 2, 3]"
      ]
     },
     "execution_count": 64,
     "metadata": {},
     "output_type": "execute_result"
    }
   ],
   "source": [
    "list((1,2,3))"
   ]
  },
  {
   "cell_type": "code",
   "execution_count": 65,
   "metadata": {},
   "outputs": [
    {
     "data": {
      "text/plain": [
       "[1, 2, 3]"
      ]
     },
     "execution_count": 65,
     "metadata": {},
     "output_type": "execute_result"
    }
   ],
   "source": [
    "a = [1,2,3]\n",
    "b = list(a)\n",
    "b"
   ]
  },
  {
   "cell_type": "markdown",
   "metadata": {},
   "source": [
    "■ max(최대값) / min(최소값)"
   ]
  },
  {
   "cell_type": "code",
   "execution_count": 66,
   "metadata": {},
   "outputs": [
    {
     "data": {
      "text/plain": [
       "3"
      ]
     },
     "execution_count": 66,
     "metadata": {},
     "output_type": "execute_result"
    }
   ],
   "source": [
    "max([1,2,3])"
   ]
  },
  {
   "cell_type": "code",
   "execution_count": 67,
   "metadata": {},
   "outputs": [
    {
     "data": {
      "text/plain": [
       "'y'"
      ]
     },
     "execution_count": 67,
     "metadata": {},
     "output_type": "execute_result"
    }
   ],
   "source": [
    "max('python')"
   ]
  },
  {
   "cell_type": "code",
   "execution_count": 68,
   "metadata": {},
   "outputs": [
    {
     "data": {
      "text/plain": [
       "1"
      ]
     },
     "execution_count": 68,
     "metadata": {},
     "output_type": "execute_result"
    }
   ],
   "source": [
    "min([1,2,3])"
   ]
  },
  {
   "cell_type": "code",
   "execution_count": 69,
   "metadata": {},
   "outputs": [
    {
     "data": {
      "text/plain": [
       "'h'"
      ]
     },
     "execution_count": 69,
     "metadata": {},
     "output_type": "execute_result"
    }
   ],
   "source": [
    "min('python')"
   ]
  },
  {
   "cell_type": "markdown",
   "metadata": {},
   "source": [
    "■ oct\n",
    " - 정수 형태의 숫자를 8진수 문자열로 바꾸어 리턴하는 함수이다."
   ]
  },
  {
   "cell_type": "code",
   "execution_count": 70,
   "metadata": {},
   "outputs": [
    {
     "data": {
      "text/plain": [
       "'0o42'"
      ]
     },
     "execution_count": 70,
     "metadata": {},
     "output_type": "execute_result"
    }
   ],
   "source": [
    "oct(34)"
   ]
  },
  {
   "cell_type": "code",
   "execution_count": 71,
   "metadata": {},
   "outputs": [
    {
     "data": {
      "text/plain": [
       "'0o30071'"
      ]
     },
     "execution_count": 71,
     "metadata": {},
     "output_type": "execute_result"
    }
   ],
   "source": [
    "oct(12345)"
   ]
  },
  {
   "cell_type": "markdown",
   "metadata": {},
   "source": [
    "■ open\n",
    " - 파일 이름과 읽기 방법을 입력 받아 파일 객체를 리턴하는 함수이다.\n",
    "mode|설명\n",
    ":-:|:-:\n",
    "w|쓰기 모드로 파일 열기\n",
    "r|읽기 모드로 파일 열기\n",
    "a|추가 모드로 파일 열기\n",
    "b|바이너리 모드로 파일 열기"
   ]
  },
  {
   "cell_type": "code",
   "execution_count": 72,
   "metadata": {},
   "outputs": [],
   "source": [
    "# f = open(\"binary_file\", 'rb')"
   ]
  },
  {
   "cell_type": "markdown",
   "metadata": {},
   "source": [
    "■ ord\n",
    " - 문자의 아스키 코드값을 리턴하는 함수이다."
   ]
  },
  {
   "cell_type": "code",
   "execution_count": 73,
   "metadata": {},
   "outputs": [
    {
     "data": {
      "text/plain": [
       "97"
      ]
     },
     "execution_count": 73,
     "metadata": {},
     "output_type": "execute_result"
    }
   ],
   "source": [
    "ord('a')"
   ]
  },
  {
   "cell_type": "code",
   "execution_count": 75,
   "metadata": {},
   "outputs": [
    {
     "data": {
      "text/plain": [
       "48"
      ]
     },
     "execution_count": 75,
     "metadata": {},
     "output_type": "execute_result"
    }
   ],
   "source": [
    "ord('0')"
   ]
  },
  {
   "cell_type": "markdown",
   "metadata": {},
   "source": [
    "■ pow\n",
    " - x의 y 제곱한 결과를 리턴하는 함수이다."
   ]
  },
  {
   "cell_type": "code",
   "execution_count": 76,
   "metadata": {},
   "outputs": [
    {
     "data": {
      "text/plain": [
       "16"
      ]
     },
     "execution_count": 76,
     "metadata": {},
     "output_type": "execute_result"
    }
   ],
   "source": [
    "#pow(x,y)\n",
    "pow(2,4)"
   ]
  },
  {
   "cell_type": "code",
   "execution_count": 77,
   "metadata": {},
   "outputs": [
    {
     "data": {
      "text/plain": [
       "27"
      ]
     },
     "execution_count": 77,
     "metadata": {},
     "output_type": "execute_result"
    }
   ],
   "source": [
    "pow(3,3)"
   ]
  },
  {
   "cell_type": "markdown",
   "metadata": {},
   "source": [
    "■ range\n",
    " - 입력 받은 숫자에 해당하는 범위의 값을 반복 가능한 객체로 만들어 리턴한다."
   ]
  },
  {
   "cell_type": "code",
   "execution_count": 78,
   "metadata": {},
   "outputs": [
    {
     "data": {
      "text/plain": [
       "[0, 1, 2, 3, 4]"
      ]
     },
     "execution_count": 78,
     "metadata": {},
     "output_type": "execute_result"
    }
   ],
   "source": [
    "list(range(5))"
   ]
  },
  {
   "cell_type": "code",
   "execution_count": 79,
   "metadata": {},
   "outputs": [
    {
     "data": {
      "text/plain": [
       "[5, 6, 7, 8, 9]"
      ]
     },
     "execution_count": 79,
     "metadata": {},
     "output_type": "execute_result"
    }
   ],
   "source": [
    "list(range(5,10))"
   ]
  },
  {
   "cell_type": "code",
   "execution_count": 80,
   "metadata": {},
   "outputs": [
    {
     "data": {
      "text/plain": [
       "[1, 3, 5, 7, 9]"
      ]
     },
     "execution_count": 80,
     "metadata": {},
     "output_type": "execute_result"
    }
   ],
   "source": [
    "list(range(1,10,2))"
   ]
  },
  {
   "cell_type": "code",
   "execution_count": 81,
   "metadata": {},
   "outputs": [
    {
     "data": {
      "text/plain": [
       "[0, -1, -2, -3, -4, -5, -6, -7, -8, -9]"
      ]
     },
     "execution_count": 81,
     "metadata": {},
     "output_type": "execute_result"
    }
   ],
   "source": [
    "list(range(0,-10,-1))"
   ]
  },
  {
   "cell_type": "markdown",
   "metadata": {},
   "source": [
    "■ sorted\n",
    " - 입력값을 정렬한 후 그 결과를 리스트로 리턴하는 함수이다."
   ]
  },
  {
   "cell_type": "code",
   "execution_count": 83,
   "metadata": {},
   "outputs": [
    {
     "data": {
      "text/plain": [
       "[1, 2, 3]"
      ]
     },
     "execution_count": 83,
     "metadata": {},
     "output_type": "execute_result"
    }
   ],
   "source": [
    "sorted([3,1,2])"
   ]
  },
  {
   "cell_type": "code",
   "execution_count": 84,
   "metadata": {},
   "outputs": [
    {
     "data": {
      "text/plain": [
       "['a', 'b', 'c']"
      ]
     },
     "execution_count": 84,
     "metadata": {},
     "output_type": "execute_result"
    }
   ],
   "source": [
    "sorted(['a','c','b'])"
   ]
  },
  {
   "cell_type": "code",
   "execution_count": 85,
   "metadata": {},
   "outputs": [
    {
     "data": {
      "text/plain": [
       "['e', 'o', 'r', 'z']"
      ]
     },
     "execution_count": 85,
     "metadata": {},
     "output_type": "execute_result"
    }
   ],
   "source": [
    "sorted('zero')"
   ]
  },
  {
   "cell_type": "code",
   "execution_count": 86,
   "metadata": {},
   "outputs": [
    {
     "data": {
      "text/plain": [
       "[1, 2, 3]"
      ]
     },
     "execution_count": 86,
     "metadata": {},
     "output_type": "execute_result"
    }
   ],
   "source": [
    "sorted((3,2,1))"
   ]
  },
  {
   "cell_type": "markdown",
   "metadata": {},
   "source": [
    "■ str\n",
    " - 문자열 형태로 객체를 변환하여 리턴하는 함수이다."
   ]
  },
  {
   "cell_type": "code",
   "execution_count": 87,
   "metadata": {},
   "outputs": [
    {
     "data": {
      "text/plain": [
       "'3'"
      ]
     },
     "execution_count": 87,
     "metadata": {},
     "output_type": "execute_result"
    }
   ],
   "source": [
    "str(3)"
   ]
  },
  {
   "cell_type": "code",
   "execution_count": 88,
   "metadata": {},
   "outputs": [
    {
     "data": {
      "text/plain": [
       "'hi'"
      ]
     },
     "execution_count": 88,
     "metadata": {},
     "output_type": "execute_result"
    }
   ],
   "source": [
    "str('hi')"
   ]
  },
  {
   "cell_type": "code",
   "execution_count": 89,
   "metadata": {},
   "outputs": [
    {
     "data": {
      "text/plain": [
       "'HI'"
      ]
     },
     "execution_count": 89,
     "metadata": {},
     "output_type": "execute_result"
    }
   ],
   "source": [
    "str('hi'.upper())"
   ]
  },
  {
   "cell_type": "markdown",
   "metadata": {},
   "source": [
    "■ tuple\n",
    " - 반복 가능한 자료형을 입력받아 튜플 형태로 바꾸어 리턴하는 함수이다."
   ]
  },
  {
   "cell_type": "code",
   "execution_count": 90,
   "metadata": {},
   "outputs": [
    {
     "data": {
      "text/plain": [
       "('a', 'b', 'c')"
      ]
     },
     "execution_count": 90,
     "metadata": {},
     "output_type": "execute_result"
    }
   ],
   "source": [
    "tuple('abc')"
   ]
  },
  {
   "cell_type": "code",
   "execution_count": 91,
   "metadata": {},
   "outputs": [
    {
     "data": {
      "text/plain": [
       "(1, 2, 3)"
      ]
     },
     "execution_count": 91,
     "metadata": {},
     "output_type": "execute_result"
    }
   ],
   "source": [
    "tuple([1,2,3])"
   ]
  },
  {
   "cell_type": "code",
   "execution_count": 92,
   "metadata": {},
   "outputs": [
    {
     "data": {
      "text/plain": [
       "(1, 2, 3)"
      ]
     },
     "execution_count": 92,
     "metadata": {},
     "output_type": "execute_result"
    }
   ],
   "source": [
    "tuple((1,2,3))"
   ]
  },
  {
   "cell_type": "markdown",
   "metadata": {},
   "source": [
    "■ type\n",
    " - 입력값의 자료형이 무엇인지 알려주는 함수이다."
   ]
  },
  {
   "cell_type": "code",
   "execution_count": 93,
   "metadata": {},
   "outputs": [
    {
     "data": {
      "text/plain": [
       "str"
      ]
     },
     "execution_count": 93,
     "metadata": {},
     "output_type": "execute_result"
    }
   ],
   "source": [
    "type('abc')"
   ]
  },
  {
   "cell_type": "code",
   "execution_count": 94,
   "metadata": {},
   "outputs": [
    {
     "data": {
      "text/plain": [
       "list"
      ]
     },
     "execution_count": 94,
     "metadata": {},
     "output_type": "execute_result"
    }
   ],
   "source": [
    "type([ ])"
   ]
  },
  {
   "cell_type": "code",
   "execution_count": 95,
   "metadata": {},
   "outputs": [
    {
     "data": {
      "text/plain": [
       "_io.TextIOWrapper"
      ]
     },
     "execution_count": 95,
     "metadata": {},
     "output_type": "execute_result"
    }
   ],
   "source": [
    "type(open('test','w'))"
   ]
  },
  {
   "cell_type": "markdown",
   "metadata": {},
   "source": [
    "■ zip\n",
    " - 동일한 개수로 이루어진 자료형을 묶어 주는 역할을 하는 함수이다."
   ]
  },
  {
   "cell_type": "code",
   "execution_count": 96,
   "metadata": {},
   "outputs": [
    {
     "data": {
      "text/plain": [
       "[(1, 4), (2, 5), (3, 6)]"
      ]
     },
     "execution_count": 96,
     "metadata": {},
     "output_type": "execute_result"
    }
   ],
   "source": [
    "list(zip([1,2,3],[4,5,6]))"
   ]
  },
  {
   "cell_type": "code",
   "execution_count": 97,
   "metadata": {},
   "outputs": [
    {
     "data": {
      "text/plain": [
       "[(1, 4, 7), (2, 5, 8), (3, 6, 9)]"
      ]
     },
     "execution_count": 97,
     "metadata": {},
     "output_type": "execute_result"
    }
   ],
   "source": [
    "list(zip([1,2,3],[4,5,6],[7,8,9]))"
   ]
  },
  {
   "cell_type": "code",
   "execution_count": 99,
   "metadata": {},
   "outputs": [
    {
     "data": {
      "text/plain": [
       "[('a', 'd'), ('b', 'e'), ('c', 'f')]"
      ]
     },
     "execution_count": 99,
     "metadata": {},
     "output_type": "execute_result"
    }
   ],
   "source": [
    "list(zip('abc','def'))"
   ]
  },
  {
   "cell_type": "markdown",
   "metadata": {},
   "source": [
    "■ sys\n",
    " - sys모듈은 파이선 인터프리터가 제공하는 변수들과 함수들을 직접 제어할 수 있게 해주는 모듈이다.\n",
    " - sys.argv : 명령 행에서 인수 전달하기\n",
    " - python 명령어 뒤의 모든것들이 공백을 기준으로 나뉘어서 sys.argv 리스트의 요소가 됨을 알 수 있다."
   ]
  },
  {
   "cell_type": "code",
   "execution_count": null,
   "metadata": {},
   "outputs": [],
   "source": [
    "#argv_test.py\n",
    "import sys\n",
    "print(sys.argv)"
   ]
  },
  {
   "cell_type": "markdown",
   "metadata": {},
   "source": [
    "■ pickle\n",
    " - 객체의 형태를 그대로 유지하면서 파일에 저장하고 불러올 수 있게 하는 모듈이다.\n",
    " - pickle 모듈의 dump함수를 이용하여 딕셔너리 객체인 data를 그대로 파일에 저장하는 방법을 보여준다."
   ]
  },
  {
   "cell_type": "code",
   "execution_count": null,
   "metadata": {},
   "outputs": [],
   "source": [
    "import pickle\n",
    "f = open('test.txt','wb')\n",
    "data = {1: 'python', 2: 'you need'}\n",
    "pickle.dump(data,f)\n",
    "f.close"
   ]
  },
  {
   "cell_type": "code",
   "execution_count": null,
   "metadata": {},
   "outputs": [],
   "source": [
    "# pickle.dump에 의해 저장된 파일을 pickle.load를 이용해서 원래 있던 딕셔너리 객체 상태 그대로 불러오는 예이다.\n",
    "import pickle\n",
    "f = open('test.txt','rb')\n",
    "data = pickle.load(f)\n",
    "print(data)"
   ]
  },
  {
   "cell_type": "markdown",
   "metadata": {},
   "source": [
    "■ OS모듈\n",
    " - 환경변수나 디렉터리, 파일 등의 OS자원을 제어할 수 있게 해주는 모듈이다.\n",
    " - 내 시스템의 환경 변수 값을 알고 싶을 때 : os.environ"
   ]
  },
  {
   "cell_type": "code",
   "execution_count": null,
   "metadata": {},
   "outputs": [],
   "source": [
    "# 현재 시스템의 환경 변수 값들을 부여준다.\n",
    "import os\n",
    "os.environ"
   ]
  },
  {
   "cell_type": "code",
   "execution_count": 108,
   "metadata": {},
   "outputs": [],
   "source": [
    "os.chdir(\"C:\\WINDOWS\")"
   ]
  },
  {
   "cell_type": "code",
   "execution_count": 109,
   "metadata": {},
   "outputs": [
    {
     "data": {
      "text/plain": [
       "'C:\\\\WINDOWS'"
      ]
     },
     "execution_count": 109,
     "metadata": {},
     "output_type": "execute_result"
    }
   ],
   "source": [
    "os.getcwd()"
   ]
  },
  {
   "cell_type": "code",
   "execution_count": 110,
   "metadata": {},
   "outputs": [
    {
     "data": {
      "text/plain": [
       "0"
      ]
     },
     "execution_count": 110,
     "metadata": {},
     "output_type": "execute_result"
    }
   ],
   "source": [
    "os.system('dir')"
   ]
  },
  {
   "cell_type": "code",
   "execution_count": 111,
   "metadata": {},
   "outputs": [],
   "source": [
    "f = os.popen('dir')"
   ]
  },
  {
   "cell_type": "code",
   "execution_count": null,
   "metadata": {},
   "outputs": [],
   "source": [
    "print(f.read())"
   ]
  },
  {
   "cell_type": "markdown",
   "metadata": {},
   "source": [
    "■ shutil\n",
    " - 파일을 복사해주는 파이썬 모듈이다.\n",
    " - 파일 복사하기 : shutil.copy(sr,dst)"
   ]
  },
  {
   "cell_type": "code",
   "execution_count": null,
   "metadata": {},
   "outputs": [],
   "source": [
    "# src라는 이름의 파일을 dst로 복사한다.\n",
    "import shutil\n",
    "shutil.copy('src.txt','dst.txt')"
   ]
  },
  {
   "cell_type": "markdown",
   "metadata": {},
   "source": [
    "■ glob\n",
    " - 특정 디렉터리에 있는 파일 이름을 알아야 할 때가 있다.\n",
    " - 이럴 때 사용하는 모듈이다.\n",
    " - 디렉터리에 있는 파일들을 리스트로 만들기"
   ]
  },
  {
   "cell_type": "code",
   "execution_count": null,
   "metadata": {},
   "outputs": [],
   "source": [
    "# glob(pathname)\n",
    "# glob 모듈은 디렉터리 내의 파일들을 읽어서 리턴한다.\n",
    "import glob\n",
    "glob.glob(\"C:\\python\\q*\")"
   ]
  },
  {
   "cell_type": "markdown",
   "metadata": {},
   "source": [
    "■ tempfile\n",
    " - 파일을 임시로 만들어서 사용할 때 유용한 모듈이 바로 tempfile이다.\n",
    " - tempfile.mktemp()는 중복되지 않는 임시 파일의 이름을 무작위로 만들어서 리턴한다."
   ]
  },
  {
   "cell_type": "code",
   "execution_count": null,
   "metadata": {},
   "outputs": [],
   "source": [
    "import tempfile\n",
    "filename = tempfile.mktemp()\n",
    "filename"
   ]
  },
  {
   "cell_type": "markdown",
   "metadata": {},
   "source": [
    " - tempfile.TemporaryFile()은 임시 저장 공간으로 사용될 파일 객체를 리턴한다.\n",
    " - 이 파일은 기본적으로 바이너리 쓰기 모드를 갖는다.\n",
    " - f.close()가 호출되면 이 파일 객체는 자동으로 사라진다."
   ]
  },
  {
   "cell_type": "code",
   "execution_count": 114,
   "metadata": {},
   "outputs": [
    {
     "data": {
      "text/plain": [
       "<bound method _TemporaryFileWrapper.close of <tempfile._TemporaryFileWrapper object at 0x000001D7E567ACD0>>"
      ]
     },
     "execution_count": 114,
     "metadata": {},
     "output_type": "execute_result"
    }
   ],
   "source": [
    "import tempfile\n",
    "f = tempfile.TemporaryFile()\n",
    "f.close"
   ]
  },
  {
   "cell_type": "markdown",
   "metadata": {},
   "source": [
    "■ time.time\n",
    " - 현재 시간을 실수 형태로 리턴하는 함수이다.\n",
    " - 1970년 1월 1일 0시 0분 0초를 기준으로 지난 시간을 초 단위로 리턴한다."
   ]
  },
  {
   "cell_type": "code",
   "execution_count": 115,
   "metadata": {},
   "outputs": [
    {
     "data": {
      "text/plain": [
       "1613199097.2704768"
      ]
     },
     "execution_count": 115,
     "metadata": {},
     "output_type": "execute_result"
    }
   ],
   "source": [
    "import time\n",
    "time.time()"
   ]
  },
  {
   "cell_type": "markdown",
   "metadata": {},
   "source": [
    "■ time.localtime\n",
    " - time.time()에 의해서 반환된 실수값을 이용해서 연도,월,일,시,분,초의 형태로 바꾸어 주는 함수이다."
   ]
  },
  {
   "cell_type": "code",
   "execution_count": 116,
   "metadata": {},
   "outputs": [
    {
     "data": {
      "text/plain": [
       "time.struct_time(tm_year=2021, tm_mon=2, tm_mday=13, tm_hour=15, tm_min=52, tm_sec=34, tm_wday=5, tm_yday=44, tm_isdst=0)"
      ]
     },
     "execution_count": 116,
     "metadata": {},
     "output_type": "execute_result"
    }
   ],
   "source": [
    "time.localtime(time.time())"
   ]
  },
  {
   "cell_type": "markdown",
   "metadata": {},
   "source": [
    "■ time.asctime\n",
    " - time.localtime에 의해서 반환된 튜플 형태의 값을 인수로 받아서 날짜와 시간을 알아보기 쉬운 형태로 리턴하는 함수이다."
   ]
  },
  {
   "cell_type": "code",
   "execution_count": 117,
   "metadata": {},
   "outputs": [
    {
     "data": {
      "text/plain": [
       "'Sat Feb 13 15:56:22 2021'"
      ]
     },
     "execution_count": 117,
     "metadata": {},
     "output_type": "execute_result"
    }
   ],
   "source": [
    "time.asctime(time.localtime(time.time()))"
   ]
  },
  {
   "cell_type": "markdown",
   "metadata": {},
   "source": [
    "■ time.ctime\n",
    " - 항상 현재 시간만을 리턴한다."
   ]
  },
  {
   "cell_type": "code",
   "execution_count": 118,
   "metadata": {},
   "outputs": [
    {
     "data": {
      "text/plain": [
       "'Sat Feb 13 15:56:49 2021'"
      ]
     },
     "execution_count": 118,
     "metadata": {},
     "output_type": "execute_result"
    }
   ],
   "source": [
    "time.ctime()"
   ]
  },
  {
   "cell_type": "markdown",
   "metadata": {},
   "source": [
    "■ calendar\n",
    " - 파이썬에서 달력을 볼 수 있게 해주는 모듈이다.\n",
    " - calendar.calendar(연도)를 사용하면 그 해의 전체 달력을 볼 수 있다.\n",
    "\n",
    "■ calendar.weekday\n",
    " - 그 날짜에 해당하는 요일 정보를 리턴한다."
   ]
  },
  {
   "cell_type": "code",
   "execution_count": 119,
   "metadata": {},
   "outputs": [
    {
     "data": {
      "text/plain": [
       "6"
      ]
     },
     "execution_count": 119,
     "metadata": {},
     "output_type": "execute_result"
    }
   ],
   "source": [
    "# 월요일 기준 0\n",
    "import calendar\n",
    "calendar.weekday(2021,2,14)"
   ]
  },
  {
   "cell_type": "markdown",
   "metadata": {},
   "source": [
    "■ calendar.monthrange\n",
    " - 입력받은 달의 1일이 무슨 요일인지와 그 달이 며칠까지 있는 지를 튜플 형태로 리턴한다."
   ]
  },
  {
   "cell_type": "code",
   "execution_count": 120,
   "metadata": {},
   "outputs": [
    {
     "data": {
      "text/plain": [
       "(0, 28)"
      ]
     },
     "execution_count": 120,
     "metadata": {},
     "output_type": "execute_result"
    }
   ],
   "source": [
    "calendar.monthrange(2021,2)"
   ]
  },
  {
   "cell_type": "markdown",
   "metadata": {},
   "source": [
    "■ random\n",
    " - 0.0 에서 1.0 사이의 실수 중에서 난수값을 리턴한다."
   ]
  },
  {
   "cell_type": "code",
   "execution_count": 122,
   "metadata": {},
   "outputs": [
    {
     "data": {
      "text/plain": [
       "0.7480341970473933"
      ]
     },
     "execution_count": 122,
     "metadata": {},
     "output_type": "execute_result"
    }
   ],
   "source": [
    "import random\n",
    "random.random()"
   ]
  },
  {
   "cell_type": "code",
   "execution_count": 124,
   "metadata": {},
   "outputs": [
    {
     "data": {
      "text/plain": [
       "2"
      ]
     },
     "execution_count": 124,
     "metadata": {},
     "output_type": "execute_result"
    }
   ],
   "source": [
    "random.randint(1,10)"
   ]
  },
  {
   "cell_type": "code",
   "execution_count": 125,
   "metadata": {},
   "outputs": [
    {
     "data": {
      "text/plain": [
       "[3, 2, 1, 5, 4]"
      ]
     },
     "execution_count": 125,
     "metadata": {},
     "output_type": "execute_result"
    }
   ],
   "source": [
    "# 리스트의 항목을 무작위로 섞고 싶을 때는 random.shuffle 함수를 이용하면 된다.\n",
    "data = [1,2,3,4,5]\n",
    "random.shuffle(data)\n",
    "data"
   ]
  },
  {
   "cell_type": "markdown",
   "metadata": {},
   "source": [
    "■ webbrowser\n",
    " - 자신의 시스템에서 사용하는 기본 웹 브라우저가 자동으로 실행되게 하는 모듈이다."
   ]
  },
  {
   "cell_type": "code",
   "execution_count": 126,
   "metadata": {},
   "outputs": [
    {
     "data": {
      "text/plain": [
       "True"
      ]
     },
     "execution_count": 126,
     "metadata": {},
     "output_type": "execute_result"
    }
   ],
   "source": [
    "import webbrowser\n",
    "webbrowser.open(\"http://google.com\")"
   ]
  },
  {
   "cell_type": "code",
   "execution_count": 127,
   "metadata": {},
   "outputs": [
    {
     "data": {
      "text/plain": [
       "True"
      ]
     },
     "execution_count": 127,
     "metadata": {},
     "output_type": "execute_result"
    }
   ],
   "source": [
    "webbrowser.open_new(\"http://google.com\")"
   ]
  },
  {
   "cell_type": "markdown",
   "metadata": {},
   "source": [
    "# 5장 파이썬 실력 키우기\n",
    " - 5.1 프로그래밍 어떻게 시작해야 할까?\n",
    " - 5.2 파이썬 정규표현식"
   ]
  },
  {
   "cell_type": "markdown",
   "metadata": {},
   "source": [
    "## 5.1 프로그래밍 어떻게 시작해야 할까?"
   ]
  },
  {
   "cell_type": "markdown",
   "metadata": {},
   "source": [
    "■ 간단한 프로그램부터 만들기\n",
    " - 구구단"
   ]
  },
  {
   "cell_type": "code",
   "execution_count": 128,
   "metadata": {},
   "outputs": [],
   "source": [
    "def GuGu(n):\n",
    "    result=[]\n",
    "    i = 1\n",
    "    while i < 10:\n",
    "        result.append(n * i)\n",
    "        i = i + 1\n",
    "    return result"
   ]
  },
  {
   "cell_type": "code",
   "execution_count": 129,
   "metadata": {},
   "outputs": [
    {
     "data": {
      "text/plain": [
       "[2, 4, 6, 8, 10, 12, 14, 16, 18]"
      ]
     },
     "execution_count": 129,
     "metadata": {},
     "output_type": "execute_result"
    }
   ],
   "source": [
    "GuGu(2)"
   ]
  },
  {
   "cell_type": "markdown",
   "metadata": {},
   "source": [
    "■ 3과 5의 배수 합치기\n",
    " - 10 미만의 자연수에서 3과 5의 배수를 구하면 3,5,6,9이다. 이들의 총합은 23이다. 1000 미만의 자연수에서 3의 배수와 5의 배수의 총합을 구하라."
   ]
  },
  {
   "cell_type": "code",
   "execution_count": 130,
   "metadata": {},
   "outputs": [
    {
     "name": "stdout",
     "output_type": "stream",
     "text": [
      "233168\n"
     ]
    }
   ],
   "source": [
    "result = 0\n",
    "for n in range(1,1000):\n",
    "    if n % 3 == 0 or n % 5 == 0:\n",
    "        result += n\n",
    "print(result)"
   ]
  },
  {
   "cell_type": "markdown",
   "metadata": {},
   "source": [
    "■ 게시판 페이징하기\n",
    " - 게시물의 총 건수와 한 페이지에 보여줄 게시물 수를 입력으로 주었을 때 총 페이지수를 출력하는 프로그램"
   ]
  },
  {
   "cell_type": "code",
   "execution_count": 131,
   "metadata": {},
   "outputs": [],
   "source": [
    "def getTotalPage(m,n):\n",
    "    if m % n == 0:\n",
    "        return m // n\n",
    "    else:\n",
    "        return m // n + 1"
   ]
  },
  {
   "cell_type": "markdown",
   "metadata": {},
   "source": [
    "■ 간단한 메모장 만들기\n",
    " - 메모를 파일에 저장하고 추가 및 조회가 가능한 간단한 메모장을 만들어보자\n",
    " - sys.argv : 프로그램 실행 시 입력된 값들을 읽어 들일 수 있는 라이브러리"
   ]
  },
  {
   "cell_type": "code",
   "execution_count": 132,
   "metadata": {},
   "outputs": [],
   "source": [
    "import sys\n",
    "\n",
    "option = sys.argv[1]\n",
    "\n",
    "if option == '-a':\n",
    "    memo = sys.argv[2]\n",
    "    f = open('memo.txt','a')\n",
    "    f.write(memo)\n",
    "    f.write(' \\n')\n",
    "    f.close()\n",
    "elif option == '-v':\n",
    "    f = open('memo.txt')\n",
    "    memo = f.read()\n",
    "    f.close()\n",
    "    print(memo)"
   ]
  },
  {
   "cell_type": "markdown",
   "metadata": {},
   "source": [
    "■ 탭을 4개의 공백으로 바꾸기\n",
    " - 탭(tab)을 공백(space) 4개로 바꾸어주는 스크립트를 작성해보자."
   ]
  },
  {
   "cell_type": "code",
   "execution_count": null,
   "metadata": {},
   "outputs": [],
   "source": [
    "import sys\n",
    "\n",
    "src = sys.argv[1]\n",
    "dst = sys.argv[2]\n",
    "\n",
    "f = open(src)\n",
    "tab_content = f.read()\n",
    "f.close()\n",
    "\n",
    "space_content = tab_content.replace(\" \\t\", \" \"*4)\n",
    "\n",
    "f.open(dst,'w')\n",
    "f.write(space_content)\n",
    "f.close"
   ]
  },
  {
   "cell_type": "markdown",
   "metadata": {},
   "source": [
    "## 5.2 파이썬 정규표현식"
   ]
  },
  {
   "cell_type": "code",
   "execution_count": 136,
   "metadata": {},
   "outputs": [
    {
     "name": "stdout",
     "output_type": "stream",
     "text": [
      "\n",
      "park 800905-*******\n",
      "kim  700905-*******\n",
      "\n"
     ]
    }
   ],
   "source": [
    "# 주민등록번호의 뒷자리를 * 문자로 변경하시오\n",
    "# import re : 정규 표현식을 사용하기 위한 모듈\n",
    "import re \n",
    "\n",
    "data = \"\"\"\n",
    "park 800905-1049118\n",
    "kim  700905-1059119\n",
    "\"\"\"\n",
    "\n",
    "pat = re.compile(\"(\\d{6})[-]\\d{7}\")\n",
    "print(pat.sub(\"\\g<1>-*******\", data))"
   ]
  },
  {
   "cell_type": "markdown",
   "metadata": {},
   "source": [
    "■ 정규 표현식 시작하기\n",
    " - 문자 클래스 [ ] : [ ]와 사이의 문자들과 매치 , [abc] : a,b,c 중 한개의 문자와 매치\n",
    " - \"a\"는 정규식과 일치하는 문자인 \"a\"가 있으므로 매치\n",
    " - \"before\"는 정규식과 일치하는 문자인 \"b\"가 있으므로 매치\n",
    " - \"dude\"는 정규식과 일치하는 문자인 a, b, c 중 어느 하나도 포함하고 있지 않으므로 매치되지 않음\n",
    " - Dot(.): \\n을 제외한 모든 문자와 매치됨\n",
    " - a.b : a와 b라는 문자 사이에 어떤 문자가 들어가도 모두 매치된다는 의미이다.\n",
    " - \"aab\"는 가운데 문자 \"a\"가 모든 문자를 의미하는 .과 일치하므로 정규식과 매치된다.\n",
    " - \"a0b\"는 가운데 문자 \"0\"가 모든 문자를 의미하는 .과 일치하므로 정규식과 매치된다.\n",
    " - \"abc\"는 \"a\"문자와 \"b\"문자 사이에 어떤 문자라도 하나는있어야 하는 이 정규식과 일치하지 않으므로 매치되지 않는다."
   ]
  },
  {
   "cell_type": "markdown",
   "metadata": {},
   "source": [
    "■ 반복 ( * )\n",
    "- ca*t : * 문자 바로 앞에 있는 a가 0번 이상 반복되면 매치\n",
    "정규식|문자열|Match여부|설명\n",
    ":-:|:-:|:-:|:-:\n",
    "ca*t |ct\t|Yes\t|\"a\"가 0번 반복되어 매치\n",
    "ca*t |cat\t|Yes\t|\"a\"가 0번 이상 반복되어 매치 (1번 반복)\n",
    "ca*t |caaat\t|Yes\t|\"a\"가 0번 이상 반복되어 매치 (3번 반복)"
   ]
  },
  {
   "cell_type": "markdown",
   "metadata": {},
   "source": [
    "■ 반복 (+) : 최소 1번 이상 반복될 때 사용\n",
    " - ca+t : + 문자 바로 앞에 있는 a가 1번 이상 반복되면 매치\n",
    "정규식|문자열|Match여부|설명\n",
    ":-:|:-:|:-:|:-:\n",
    "ca*t |ct\t|No\t|\"a\"가 0번 반복되어 매치되지 않음\n",
    "ca*t |cat\t|Yes\t|\"a\"가 1번 이상 반복되어 매치 (1번 반복)\n",
    "ca*t |caaat\t|Yes\t|\"a\"가 1번 이상 반복되어 매치 (3번 반복)"
   ]
  },
  {
   "cell_type": "markdown",
   "metadata": {},
   "source": [
    "■ 반복 횟수를 3회만 또는 1회부터 3회까지만으로 제한하고 싶을 수도 있지 않을까?\n",
    "\n",
    " - 반복 ({m,n}, ?) 정규식\n",
    " - { } 메타 문자를 사용하면 반복 횟수를 고정할 수 있다. {m, n} 정규식을 사용하면 반복 횟수가 m부터 n까지 매치할 수 있다. 또한 m 또는 n을 생략할 수도 있다. 만약 {3,}처럼 사용하면 반복 횟수가 3 이상인 경우이고 {,3}처럼 사용하면 반복 횟수가 3 이하를 의미한다. 생략된 m은 0과 동일하며, 생략된 n은 무한대(2억 개 미만)의 의미를 갖는다."
   ]
  },
  {
   "cell_type": "markdown",
   "metadata": {},
   "source": [
    "■ {m}\n",
    " - ca{2}t : a가 2번 반복되면 매치\n",
    "정규식\t|문자열\t|Match 여부\t|설명\n",
    ":-:|:-:|:-:|:-:\n",
    "ca{2}t\t|cat\t|No\t|\"a\"가 1번만 반복되어 매치되지 않음\n",
    "ca{2}t\t|caat\t|Yes\t|\"a\"가 2번 반복되어 매치"
   ]
  },
  {
   "cell_type": "markdown",
   "metadata": {},
   "source": [
    "■ {m,n}\n",
    " - ca{2,5)t : a가 2~5번 반복되면 매치\n",
    "정규식\t|문자열\t|Match 여부\t|설명\n",
    ":-:|:-:|:-:|:-:\n",
    "ca{2,5}t\t|cat\t|No\t|\"a\"가 1번만 반복되어 매치되지 않음\n",
    "ca{2,5}t\t|caat\t|Yes\t|\"a\"가 2번 반복되어 매치\n",
    "ca{2,5}t\t|caaaaat\t|Yes\t|\"a\"가 5번 반복되어 매치"
   ]
  },
  {
   "cell_type": "markdown",
   "metadata": {},
   "source": [
    "■ ?\n",
    " - ab?c : b가 0~1번 사용되면 매치\n",
    " - 메타문자가 의미하는 것은 {0,1}이다.\n",
    "정규식\t|문자열\t|Match 여부\t|설명\n",
    ":-:|:-:|:-:|:-:\n",
    "ab?c\t|abc\t|Yes\t|\"b\"가 1번 사용되어 매치\n",
    "ab?c\t|ac\t|Yes\t|\"b\"가 0번 사용되어 매치"
   ]
  },
  {
   "cell_type": "markdown",
   "metadata": {},
   "source": [
    "■ 파이썬은 정규 표현식을 지원하기 위해 re(regular expression의 약어) 모듈을 제공한다.\n",
    " - re 모듈은 파이썬을 설치할 때 자동으로 설치되는 기본 라이브러리로 사용 방법은 다음과 같다.\n",
    " - re.compile을 사용하여 정규 표현식(위 예에서는 ab*)을 컴파일한다.\n",
    " - re.compile의 결과로 돌려주는 객체 p(컴파일된 패턴 객체)를 사용하여 그 이후의 작업을 수행할 것이다."
   ]
  },
  {
   "cell_type": "code",
   "execution_count": 137,
   "metadata": {},
   "outputs": [],
   "source": [
    "import re\n",
    "p = re.compile('ab*')"
   ]
  },
  {
   "cell_type": "markdown",
   "metadata": {},
   "source": [
    "■ 정규식을 이용한 문자열 검색\n",
    "\n",
    "Method\t|목적\n",
    ":-:|:-:\n",
    "match()\t|문자열의 처음부터 정규식과 매치되는지 조사한다.\n",
    "search()\t|문자열 전체를 검색하여 정규식과 매치되는지 조사한다.\n",
    "findall()\t|정규식과 매치되는 모든 문자열(substring)을 리스트로 돌려준다.\n",
    "finditer()\t|정규식과 매치되는 모든 문자열(substring)을 반복 가능한 객체로 돌려준다."
   ]
  },
  {
   "cell_type": "markdown",
   "metadata": {},
   "source": [
    " - match() : 문자열의 처음부터 정규식과 매치되는지 조사한다."
   ]
  },
  {
   "cell_type": "code",
   "execution_count": 138,
   "metadata": {},
   "outputs": [],
   "source": [
    "import re\n",
    "p = re.compile('[a-z]+')"
   ]
  },
  {
   "cell_type": "code",
   "execution_count": 139,
   "metadata": {},
   "outputs": [
    {
     "name": "stdout",
     "output_type": "stream",
     "text": [
      "<re.Match object; span=(0, 6), match='python'>\n"
     ]
    }
   ],
   "source": [
    "m = p.match(\"python\")\n",
    "print(m)"
   ]
  },
  {
   "cell_type": "code",
   "execution_count": 140,
   "metadata": {},
   "outputs": [
    {
     "name": "stdout",
     "output_type": "stream",
     "text": [
      "None\n"
     ]
    }
   ],
   "source": [
    "m = p.match(\"3 python\")\n",
    "print(m)"
   ]
  },
  {
   "cell_type": "code",
   "execution_count": null,
   "metadata": {},
   "outputs": [],
   "source": [
    "p = re.compile(정규표현식)\n",
    "m = p.match( 'string goes here' )\n",
    "if m:\n",
    "    print('Match found: ', m.group())\n",
    "else:\n",
    "    print('No match')"
   ]
  },
  {
   "cell_type": "markdown",
   "metadata": {},
   "source": [
    " - search() : 문자열 전체를 검색하여 정규식과 매치되는지 조사한다."
   ]
  },
  {
   "cell_type": "code",
   "execution_count": 142,
   "metadata": {},
   "outputs": [],
   "source": [
    "import re\n",
    "p = re.compile('[a-z]+')"
   ]
  },
  {
   "cell_type": "code",
   "execution_count": 143,
   "metadata": {},
   "outputs": [
    {
     "name": "stdout",
     "output_type": "stream",
     "text": [
      "<re.Match object; span=(0, 6), match='python'>\n"
     ]
    }
   ],
   "source": [
    "m = p.search(\"python\")\n",
    "print(m)"
   ]
  },
  {
   "cell_type": "code",
   "execution_count": 144,
   "metadata": {},
   "outputs": [
    {
     "name": "stdout",
     "output_type": "stream",
     "text": [
      "<re.Match object; span=(2, 8), match='python'>\n"
     ]
    }
   ],
   "source": [
    "m = p.search(\"3 python\")\n",
    "print(m)"
   ]
  },
  {
   "cell_type": "markdown",
   "metadata": {},
   "source": [
    " - findall : 정규식과 매치되는 몯느 문자여리을 리스트로 리턴한다."
   ]
  },
  {
   "cell_type": "code",
   "execution_count": 145,
   "metadata": {},
   "outputs": [],
   "source": [
    "import re\n",
    "p = re.compile('[a-z]+')"
   ]
  },
  {
   "cell_type": "code",
   "execution_count": 146,
   "metadata": {},
   "outputs": [
    {
     "name": "stdout",
     "output_type": "stream",
     "text": [
      "['life', 'is', 'too', 'short']\n"
     ]
    }
   ],
   "source": [
    "result = p.findall(\"life is too short\")\n",
    "print(result)"
   ]
  },
  {
   "cell_type": "markdown",
   "metadata": {},
   "source": [
    " - finditer : 정규식과 매치되는 모든 문자열을 반복 가능한 객체로 리턴한다."
   ]
  },
  {
   "cell_type": "code",
   "execution_count": 147,
   "metadata": {},
   "outputs": [],
   "source": [
    "import re\n",
    "p = re.compile('[a-z]+')"
   ]
  },
  {
   "cell_type": "code",
   "execution_count": 148,
   "metadata": {},
   "outputs": [
    {
     "name": "stdout",
     "output_type": "stream",
     "text": [
      "<callable_iterator object at 0x000001D7E57C7E20>\n"
     ]
    }
   ],
   "source": [
    "result = p.finditer(\"life is too short\")\n",
    "print(result)"
   ]
  },
  {
   "cell_type": "code",
   "execution_count": 149,
   "metadata": {},
   "outputs": [
    {
     "name": "stdout",
     "output_type": "stream",
     "text": [
      "<re.Match object; span=(0, 4), match='life'>\n",
      "<re.Match object; span=(5, 7), match='is'>\n",
      "<re.Match object; span=(8, 11), match='too'>\n",
      "<re.Match object; span=(12, 17), match='short'>\n"
     ]
    }
   ],
   "source": [
    "for r in result: print(r)"
   ]
  },
  {
   "cell_type": "markdown",
   "metadata": {},
   "source": [
    "■ match 객체의 메서드\n",
    "\n",
    "\n",
    "method\t|목적\n",
    ":-:|:-:\n",
    "group()\t|매치된 문자열을 돌려준다.\n",
    "start()\t|매치된 문자열의 시작 위치를 돌려준다.\n",
    "end()\t|매치된 문자열의 끝 위치를 돌려준다.\n",
    "span()\t|매치된 문자열의 (시작, 끝)에 해당하는 튜플을 돌려준다."
   ]
  },
  {
   "cell_type": "code",
   "execution_count": 150,
   "metadata": {},
   "outputs": [],
   "source": [
    "m = p.search(\"3 python\")"
   ]
  },
  {
   "cell_type": "code",
   "execution_count": 151,
   "metadata": {},
   "outputs": [
    {
     "data": {
      "text/plain": [
       "'python'"
      ]
     },
     "execution_count": 151,
     "metadata": {},
     "output_type": "execute_result"
    }
   ],
   "source": [
    "m.group()"
   ]
  },
  {
   "cell_type": "code",
   "execution_count": 152,
   "metadata": {},
   "outputs": [
    {
     "data": {
      "text/plain": [
       "2"
      ]
     },
     "execution_count": 152,
     "metadata": {},
     "output_type": "execute_result"
    }
   ],
   "source": [
    "m.start()"
   ]
  },
  {
   "cell_type": "code",
   "execution_count": 153,
   "metadata": {},
   "outputs": [
    {
     "data": {
      "text/plain": [
       "8"
      ]
     },
     "execution_count": 153,
     "metadata": {},
     "output_type": "execute_result"
    }
   ],
   "source": [
    "m.end()"
   ]
  },
  {
   "cell_type": "code",
   "execution_count": 154,
   "metadata": {},
   "outputs": [
    {
     "data": {
      "text/plain": [
       "(2, 8)"
      ]
     },
     "execution_count": 154,
     "metadata": {},
     "output_type": "execute_result"
    }
   ],
   "source": [
    "m.span()"
   ]
  },
  {
   "cell_type": "markdown",
   "metadata": {},
   "source": [
    "■ 컴파일 옵션 : 정규식을 컴파일할 때 다음 옵션을 사용할 수 있다.\n",
    "\n",
    " - DOTALL(S) - . 이 줄바꿈 문자를 포함하여 모든 문자와 매치할 수 있도록 한다.\n",
    " - IGNORECASE(I) - 대소문자에 관계없이 매치할 수 있도록 한다.\n",
    " - MULTILINE(M) - 여러줄과 매치할 수 있도록 한다. (^, $ 메타문자의 사용과 관계가 있는 옵션이다)\n",
    " - VERBOSE(X) - verbose 모드를 사용할 수 있도록 한다. (정규식을 보기 편하게 만들수 있고 주석등을 사용할 수 있게된다.)\n",
    " - 옵션을 사용할 때는 re.DOTALL처럼 전체 옵션 이름을 써도 되고 re.S처럼 약어를 써도 된다."
   ]
  },
  {
   "cell_type": "markdown",
   "metadata": {},
   "source": [
    "■ DOTALL, S\n",
    " - . 메타 문자는 줄바꿈 문자(\\n)를 제외한 모든 문자와 매치되는 규칙이 있다.\n",
    " - 만약 \\n 문자도 포함하여 매치하고 싶다면 re.DOTALL 또는 re.S 옵션을 사용해 정규식을 컴파일하면 된다.\n",
    " - 보통 re.DOTALL 옵션은 여러 줄로 이루어진 문자열에서 \\n에 상관없이 검색할 때 많이 사용한다."
   ]
  },
  {
   "cell_type": "code",
   "execution_count": 157,
   "metadata": {},
   "outputs": [
    {
     "name": "stdout",
     "output_type": "stream",
     "text": [
      "None\n"
     ]
    }
   ],
   "source": [
    "import re\n",
    "p = re.compile('a.b')\n",
    "m = p.match('a\\nb')\n",
    "print(m)"
   ]
  },
  {
   "cell_type": "code",
   "execution_count": 158,
   "metadata": {},
   "outputs": [
    {
     "name": "stdout",
     "output_type": "stream",
     "text": [
      "<re.Match object; span=(0, 3), match='a\\nb'>\n"
     ]
    }
   ],
   "source": [
    "p = re.compile('a.b', re.DOTALL)\n",
    "m = p.match('a\\nb')\n",
    "print(m)"
   ]
  },
  {
   "cell_type": "markdown",
   "metadata": {},
   "source": [
    "■ IGNORECASE, I\n",
    " - re.IGNORECASE 또는 re.I 옵션은 대소문자 구별 없이 매치를 수행할 때 사용하는 옵션이다.\n",
    " - [a-z] 정규식은 소문자만을 의미하지만 re.I 옵션으로 대소문자 구별 없이 매치된다."
   ]
  },
  {
   "cell_type": "code",
   "execution_count": 159,
   "metadata": {},
   "outputs": [
    {
     "data": {
      "text/plain": [
       "<re.Match object; span=(0, 1), match='p'>"
      ]
     },
     "execution_count": 159,
     "metadata": {},
     "output_type": "execute_result"
    }
   ],
   "source": [
    "p = re.compile('[a-z]', re.I)\n",
    "p.match('python')"
   ]
  },
  {
   "cell_type": "code",
   "execution_count": 160,
   "metadata": {},
   "outputs": [
    {
     "data": {
      "text/plain": [
       "<re.Match object; span=(0, 1), match='P'>"
      ]
     },
     "execution_count": 160,
     "metadata": {},
     "output_type": "execute_result"
    }
   ],
   "source": [
    "p.match('Python')"
   ]
  },
  {
   "cell_type": "code",
   "execution_count": 161,
   "metadata": {},
   "outputs": [
    {
     "data": {
      "text/plain": [
       "<re.Match object; span=(0, 1), match='P'>"
      ]
     },
     "execution_count": 161,
     "metadata": {},
     "output_type": "execute_result"
    }
   ],
   "source": [
    "p.match('PYTHON')"
   ]
  },
  {
   "cell_type": "raw",
   "metadata": {},
   "source": [
    "■MULTILINE, M\n",
    " - re.MULTILINE 또는 re.M 옵션은 조금 후에 설명할 메타 문자인 ^, $와 연관된 옵션이다. 이 메타 문자에 대해 간단히 설명하자면 ^는 문자열의 처음을 의미하고 $는 문자열의 마지막을 의미한다. 예를 들어 정규식이 ^python인 경우 문자열의 처음은 항상 python으로 시작해야 매치되고, 만약 정규식이 python$이라면 문자열의 마지막은 항상 python으로 끝나야 매치된다는 의미이다.\n",
    " - 즉 re.MULTILINE 옵션은 ^, $ 메타 문자를 문자열의 각 줄마다 적용해 주는 것이다."
   ]
  },
  {
   "cell_type": "code",
   "execution_count": 162,
   "metadata": {},
   "outputs": [
    {
     "name": "stdout",
     "output_type": "stream",
     "text": [
      "['python one', 'python two', 'python three']\n"
     ]
    }
   ],
   "source": [
    "import re\n",
    "p = re.compile(\"^python\\s\\w+\", re.MULTILINE)\n",
    "\n",
    "data = \"\"\"python one\n",
    "life is too short\n",
    "python two\n",
    "you need python\n",
    "python three\"\"\"\n",
    "\n",
    "print(p.findall(data))"
   ]
  },
  {
   "cell_type": "markdown",
   "metadata": {},
   "source": [
    "■ VERBOSE, X\n",
    " - 지금껏 알아본 정규식은 매우 간단하지만 정규식 전문가들이 만든 정규식을 보면 거의 암호수준이다. 정규식을 이해하려면 하나하나 조심스럽게 뜯어보아야만 한다. 이렇게 이해하기 어려운 정규식을 주석 또는 줄 단위로 구분할 수 있다면 얼마나 보기 좋고 이해하기 쉬울까? 방법이 있다. 바로 re.VERBOSE 또는 re.X 옵션을 사용하면 된다.\n",
    " - re.VERBOSE 옵션을 사용하면 문자열에 사용된 whitespace는 컴파일할 때 제거된다(단 [ ] 안에 사용한 whitespace는 제외). 그리고 줄 단위로 #기호를 사용하여 주석문을 작성할 수 있다."
   ]
  },
  {
   "cell_type": "code",
   "execution_count": 163,
   "metadata": {},
   "outputs": [],
   "source": [
    "charref = re.compile(r\"\"\"\n",
    " &[#]                # Start of a numeric entity reference\n",
    " (\n",
    "     0[0-7]+         # Octal form\n",
    "   | [0-9]+          # Decimal form\n",
    "   | x[0-9a-fA-F]+   # Hexadecimal form\n",
    " )\n",
    " ;                   # Trailing semicolon\n",
    "\"\"\", re.VERBOSE)"
   ]
  },
  {
   "cell_type": "code",
   "execution_count": null,
   "metadata": {},
   "outputs": [],
   "source": [
    "# 백슬래시 문제\n",
    "p = re.compile(r'\\\\section')\n",
    "# 위와 같이 정규식 문자열 앞에 r 문자를 삽입하면 이 정규식은 Raw String 규칙에 의하여 백슬래시 2개 대신 1개만 써도 2개를 쓴 것과 동일한 의미를 갖게 된다."
   ]
  }
 ],
 "metadata": {
  "kernelspec": {
   "display_name": "Python 3",
   "language": "python",
   "name": "python3"
  },
  "language_info": {
   "codemirror_mode": {
    "name": "ipython",
    "version": 3
   },
   "file_extension": ".py",
   "mimetype": "text/x-python",
   "name": "python",
   "nbconvert_exporter": "python",
   "pygments_lexer": "ipython3",
   "version": "3.8.5"
  }
 },
 "nbformat": 4,
 "nbformat_minor": 4
}
