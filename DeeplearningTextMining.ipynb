{
 "cells": [
  {
   "cell_type": "markdown",
   "metadata": {},
   "source": [
    " # 웹크롤링으로 텍스트마이닝"
   ]
  },
  {
   "cell_type": "markdown",
   "metadata": {},
   "source": [
    "### 텍스트 마이닝이란\n",
    "비정형데이터(이미지,데이터,로그 등)들을 추출하여 분석하는 과정\n",
    "텍스트를 분석하여 특정한 지식을 이해 및 언어로 나타내는 메세지를 분석하는 과정\n",
    "대규모의 텍스트형태의 비정형데이터로부터 관계데이터를 추출하는것, 텍스트간의 관계를 조사하는것\n",
    "\n",
    "### 텍스트 분석 순서\n",
    "수집 -> 전처리 -> 후처리 -> 추출 -> 분석"
   ]
  },
  {
   "cell_type": "code",
   "execution_count": 1,
   "metadata": {},
   "outputs": [],
   "source": [
    "#웹크롤링을 위한 모듈준비\n",
    "\n",
    "from bs4 import BeautifulSoup # html의 태그를 파싱해서 필요한 데이터만 추출하기 위한 모듈\n",
    "from datetime import datetime # 다중페이지 크롤링을 위한 모듈\n",
    "import requests # html 페이지 요청\n",
    "import pandas as pd # 행렬 데이터 분석을 위한 모듈\n",
    "import re # 전처리를 위한 모듈"
   ]
  },
  {
   "cell_type": "code",
   "execution_count": 2,
   "metadata": {},
   "outputs": [],
   "source": [
    "# 웹크롤링 텍스트 수집,전처리\n",
    "\n",
    "url='https://search.naver.com/search.naver?where=news&sm=tab_jum&query=%EC%BD%94%EB%A1%9C%EB%82%9819'\n",
    "response=requests.get(url) # url 지정\n",
    "html=response.text # 웹소스 가져오기\n",
    "soup=BeautifulSoup(html,\"html.parser\") # html 파싱"
   ]
  },
  {
   "cell_type": "code",
   "execution_count": 3,
   "metadata": {},
   "outputs": [],
   "source": [
    "# 추출\n",
    "\n",
    "title_text=[] # 타이틀 텍스트 모음을 저장할 변수지정\n",
    "atags=soup.select(\"._sp_each_title\") # html 소스에서 원하는 부분 선택\n",
    "for atag in atags:\n",
    "    title_text.append(atag.text) # 제목만 가져오기"
   ]
  },
  {
   "cell_type": "code",
   "execution_count": 4,
   "metadata": {},
   "outputs": [
    {
     "data": {
      "text/plain": [
       "['코로나19 신규 확진자 61명… 나흘 만에 다시 두자릿수(종합)',\n",
       " '코로나19 61명 신규 확진…나흘 만에 다시 두 자릿수',\n",
       " '[속보]코로나19 어제 61명 신규 확진…추석 연휴가 고비',\n",
       " 'WHO \"코로나19 방치하면 전 세계 사망자 200만명으로 늘 것\"',\n",
       " '미국 증시, 코로나19 불안 속 핵심 기술주 반등…다우, 1.34%↑',\n",
       " '월스트리트저널 \"한국, 코로나19 대응 암호 푼 듯\"',\n",
       " '추석 연휴 코로나19 증폭 위험 여전…거리두기 생활화 해야',\n",
       " '코로나19 신규 확진 61명…나흘만에 다시 두 자릿수',\n",
       " '직장-요양시설-어린이집 곳곳 집단감염…코로나19 지속 확산(종합)',\n",
       " '코로나19 장기화로 라면 수출 늘어']"
      ]
     },
     "execution_count": 4,
     "metadata": {},
     "output_type": "execute_result"
    }
   ],
   "source": [
    "title_text # 타이틀 텍스트 분석"
   ]
  },
  {
   "cell_type": "code",
   "execution_count": 5,
   "metadata": {},
   "outputs": [],
   "source": [
    "# 추출\n",
    "\n",
    "link_text=[] # 링크 모음을 저장할 변수지정\n",
    "atags=soup.select(\"._sp_each_title\") # html 소스에서 원하는 부분 선택\n",
    "for atag in atags:\n",
    "    link_text.append(atag[\"href\"]) # 링크만 가져오기"
   ]
  },
  {
   "cell_type": "code",
   "execution_count": 6,
   "metadata": {},
   "outputs": [
    {
     "data": {
      "text/plain": [
       "['https://biz.chosun.com/site/data/html_dir/2020/09/26/2020092600447.html?utm_source=naver&utm_medium=original&utm_campaign=biz',\n",
       " 'https://news.sbs.co.kr/news/endPage.do?news_id=N1005999253&plink=ORI&cooper=NAVER',\n",
       " 'http://news.kmib.co.kr/article/view.asp?arcid=0015051394&code=61121111&cp=nv',\n",
       " 'http://yna.kr/AKR20200926003000109?did=1195m',\n",
       " 'http://www.wowtv.co.kr/NewsCenter/News/Read?articleId=A202009260014&t=NN',\n",
       " 'https://www.ytn.co.kr/_ln/0104_202009260609134360',\n",
       " 'http://www.kwnews.co.kr/nview.asp?aid=220092500006',\n",
       " 'https://imnews.imbc.com/news/2020/society/article/5922104_32633.html',\n",
       " 'http://yna.kr/AKR20200926028751530?did=1195m',\n",
       " 'http://www.fnnews.com/news/202009261056467337']"
      ]
     },
     "execution_count": 6,
     "metadata": {},
     "output_type": "execute_result"
    }
   ],
   "source": [
    "link_text # 링크 텍스트 분석"
   ]
  },
  {
   "cell_type": "code",
   "execution_count": 7,
   "metadata": {},
   "outputs": [],
   "source": [
    "# 추출\n",
    "\n",
    "source_text=[] # 언론사 모음을 저장할 변수 지정\n",
    "source_lists=soup.select(\"._sp_each_source\") # html 소스에서 원하는 부분 선택\n",
    "for source_list in source_lists:\n",
    "    source_text.append(source_list.text) # 언론사만 가져오기"
   ]
  },
  {
   "cell_type": "code",
   "execution_count": 8,
   "metadata": {},
   "outputs": [
    {
     "data": {
      "text/plain": [
       "['조선비즈언론사 선정',\n",
       " 'SBS언론사 선정',\n",
       " '국민일보언론사 선정',\n",
       " '연합뉴스언론사 선정',\n",
       " '한국경제TV언론사 선정',\n",
       " 'YTN언론사 선정',\n",
       " '강원일보언론사 선정',\n",
       " 'MBC언론사 선정',\n",
       " '연합뉴스언론사 선정',\n",
       " '파이낸셜뉴스언론사 선정']"
      ]
     },
     "execution_count": 8,
     "metadata": {},
     "output_type": "execute_result"
    }
   ],
   "source": [
    "source_text # 언론사 텍스트 분석"
   ]
  },
  {
   "cell_type": "code",
   "execution_count": null,
   "metadata": {},
   "outputs": [],
   "source": []
  }
 ],
 "metadata": {
  "kernelspec": {
   "display_name": "Python 3",
   "language": "python",
   "name": "python3"
  },
  "language_info": {
   "codemirror_mode": {
    "name": "ipython",
    "version": 3
   },
   "file_extension": ".py",
   "mimetype": "text/x-python",
   "name": "python",
   "nbconvert_exporter": "python",
   "pygments_lexer": "ipython3",
   "version": "3.8.5"
  }
 },
 "nbformat": 4,
 "nbformat_minor": 4
}
